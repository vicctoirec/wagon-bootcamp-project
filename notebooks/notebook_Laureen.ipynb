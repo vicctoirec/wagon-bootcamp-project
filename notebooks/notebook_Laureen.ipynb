{
 "cells": [
  {
   "cell_type": "markdown",
   "id": "ec3d552f",
   "metadata": {},
   "source": [
    "## (0) Libraries 📚"
   ]
  },
  {
   "cell_type": "code",
   "execution_count": 1,
   "id": "48753bf0",
   "metadata": {},
   "outputs": [],
   "source": [
    "import pandas as pd"
   ]
  },
  {
   "cell_type": "markdown",
   "id": "124419d7",
   "metadata": {},
   "source": [
    "##  (1) Dataset 💾"
   ]
  },
  {
   "cell_type": "markdown",
   "id": "9e64472d",
   "metadata": {},
   "source": [
    "### Lyrics dataset"
   ]
  },
  {
   "cell_type": "code",
   "execution_count": 2,
   "id": "bb2db7aa",
   "metadata": {},
   "outputs": [],
   "source": [
    "df = pd.read_csv('/Users/laureenwilhelm/code/vicctoirec/wagon-bootcamp-project/raw_data/20250609_9k_spotify_metrics_lyrics_data.csv')"
   ]
  },
  {
   "cell_type": "code",
   "execution_count": 3,
   "id": "2c7b8675",
   "metadata": {},
   "outputs": [
    {
     "data": {
      "text/html": [
       "<div>\n",
       "<style scoped>\n",
       "    .dataframe tbody tr th:only-of-type {\n",
       "        vertical-align: middle;\n",
       "    }\n",
       "\n",
       "    .dataframe tbody tr th {\n",
       "        vertical-align: top;\n",
       "    }\n",
       "\n",
       "    .dataframe thead th {\n",
       "        text-align: right;\n",
       "    }\n",
       "</style>\n",
       "<table border=\"1\" class=\"dataframe\">\n",
       "  <thead>\n",
       "    <tr style=\"text-align: right;\">\n",
       "      <th></th>\n",
       "      <th>Unnamed: 0</th>\n",
       "      <th>artist</th>\n",
       "      <th>song</th>\n",
       "      <th>link</th>\n",
       "      <th>text</th>\n",
       "      <th>track_id</th>\n",
       "      <th>popularity</th>\n",
       "      <th>year</th>\n",
       "      <th>genre</th>\n",
       "      <th>danceability</th>\n",
       "      <th>...</th>\n",
       "      <th>mode</th>\n",
       "      <th>speechiness</th>\n",
       "      <th>acousticness</th>\n",
       "      <th>instrumentalness</th>\n",
       "      <th>liveness</th>\n",
       "      <th>valence</th>\n",
       "      <th>tempo</th>\n",
       "      <th>duration_ms</th>\n",
       "      <th>time_signature</th>\n",
       "      <th>title_cleaned</th>\n",
       "    </tr>\n",
       "  </thead>\n",
       "  <tbody>\n",
       "    <tr>\n",
       "      <th>0</th>\n",
       "      <td>0</td>\n",
       "      <td>ABBA</td>\n",
       "      <td>Andante, Andante</td>\n",
       "      <td>/a/abba/andante+andante_20002708.html</td>\n",
       "      <td>Take it easy with me, please Touch me gently l...</td>\n",
       "      <td>7kAdorvIjLU0xEX7UJfsBL</td>\n",
       "      <td>32</td>\n",
       "      <td>2014</td>\n",
       "      <td>swedish</td>\n",
       "      <td>0.277</td>\n",
       "      <td>...</td>\n",
       "      <td>1</td>\n",
       "      <td>0.0282</td>\n",
       "      <td>0.58700</td>\n",
       "      <td>0.000282</td>\n",
       "      <td>0.0745</td>\n",
       "      <td>0.367</td>\n",
       "      <td>202.887</td>\n",
       "      <td>280427</td>\n",
       "      <td>3</td>\n",
       "      <td>Andante, Andante</td>\n",
       "    </tr>\n",
       "    <tr>\n",
       "      <th>1</th>\n",
       "      <td>1</td>\n",
       "      <td>ABBA</td>\n",
       "      <td>As Good As New</td>\n",
       "      <td>/a/abba/as+good+as+new_20003033.html</td>\n",
       "      <td>I'll never know why I had to go Why I had to p...</td>\n",
       "      <td>4juV8pzyyD53BeWJzCanQb</td>\n",
       "      <td>30</td>\n",
       "      <td>2014</td>\n",
       "      <td>swedish</td>\n",
       "      <td>0.408</td>\n",
       "      <td>...</td>\n",
       "      <td>1</td>\n",
       "      <td>0.0556</td>\n",
       "      <td>0.03050</td>\n",
       "      <td>0.000000</td>\n",
       "      <td>0.7770</td>\n",
       "      <td>0.662</td>\n",
       "      <td>148.697</td>\n",
       "      <td>206080</td>\n",
       "      <td>4</td>\n",
       "      <td>As Good As New</td>\n",
       "    </tr>\n",
       "    <tr>\n",
       "      <th>2</th>\n",
       "      <td>2</td>\n",
       "      <td>ABBA</td>\n",
       "      <td>Bang-A-Boomerang</td>\n",
       "      <td>/a/abba/bang+a+boomerang_20002668.html</td>\n",
       "      <td>Making somebody happy is a question of give an...</td>\n",
       "      <td>63hkHz7Md4SZwJQN1CuKj4</td>\n",
       "      <td>21</td>\n",
       "      <td>2012</td>\n",
       "      <td>swedish</td>\n",
       "      <td>0.498</td>\n",
       "      <td>...</td>\n",
       "      <td>1</td>\n",
       "      <td>0.0289</td>\n",
       "      <td>0.00723</td>\n",
       "      <td>0.000013</td>\n",
       "      <td>0.3420</td>\n",
       "      <td>0.841</td>\n",
       "      <td>131.610</td>\n",
       "      <td>184880</td>\n",
       "      <td>4</td>\n",
       "      <td>Bang-A-Boomerang</td>\n",
       "    </tr>\n",
       "    <tr>\n",
       "      <th>3</th>\n",
       "      <td>3</td>\n",
       "      <td>ABBA</td>\n",
       "      <td>Cassandra</td>\n",
       "      <td>/a/abba/cassandra_20002811.html</td>\n",
       "      <td>Down in the street they're all singing and sho...</td>\n",
       "      <td>0G1AF5qpIb9lhvaVibKjCN</td>\n",
       "      <td>29</td>\n",
       "      <td>2014</td>\n",
       "      <td>swedish</td>\n",
       "      <td>0.380</td>\n",
       "      <td>...</td>\n",
       "      <td>1</td>\n",
       "      <td>0.0362</td>\n",
       "      <td>0.60400</td>\n",
       "      <td>0.000000</td>\n",
       "      <td>0.1140</td>\n",
       "      <td>0.495</td>\n",
       "      <td>159.803</td>\n",
       "      <td>292027</td>\n",
       "      <td>3</td>\n",
       "      <td>Cassandra</td>\n",
       "    </tr>\n",
       "    <tr>\n",
       "      <th>4</th>\n",
       "      <td>4</td>\n",
       "      <td>ABBA</td>\n",
       "      <td>Chiquitita</td>\n",
       "      <td>/a/abba/chiquitita_20002978.html</td>\n",
       "      <td>Chiquitita, tell me what's wrong You're enchai...</td>\n",
       "      <td>33HtOR1xQCDcZJwiu68bt2</td>\n",
       "      <td>27</td>\n",
       "      <td>2012</td>\n",
       "      <td>swedish</td>\n",
       "      <td>0.517</td>\n",
       "      <td>...</td>\n",
       "      <td>1</td>\n",
       "      <td>0.0321</td>\n",
       "      <td>0.71600</td>\n",
       "      <td>0.000005</td>\n",
       "      <td>0.3080</td>\n",
       "      <td>0.369</td>\n",
       "      <td>84.256</td>\n",
       "      <td>327867</td>\n",
       "      <td>4</td>\n",
       "      <td>Chiquitita</td>\n",
       "    </tr>\n",
       "  </tbody>\n",
       "</table>\n",
       "<p>5 rows × 23 columns</p>\n",
       "</div>"
      ],
      "text/plain": [
       "   Unnamed: 0 artist              song  \\\n",
       "0           0   ABBA  Andante, Andante   \n",
       "1           1   ABBA    As Good As New   \n",
       "2           2   ABBA  Bang-A-Boomerang   \n",
       "3           3   ABBA         Cassandra   \n",
       "4           4   ABBA        Chiquitita   \n",
       "\n",
       "                                     link  \\\n",
       "0   /a/abba/andante+andante_20002708.html   \n",
       "1    /a/abba/as+good+as+new_20003033.html   \n",
       "2  /a/abba/bang+a+boomerang_20002668.html   \n",
       "3         /a/abba/cassandra_20002811.html   \n",
       "4        /a/abba/chiquitita_20002978.html   \n",
       "\n",
       "                                                text                track_id  \\\n",
       "0  Take it easy with me, please Touch me gently l...  7kAdorvIjLU0xEX7UJfsBL   \n",
       "1  I'll never know why I had to go Why I had to p...  4juV8pzyyD53BeWJzCanQb   \n",
       "2  Making somebody happy is a question of give an...  63hkHz7Md4SZwJQN1CuKj4   \n",
       "3  Down in the street they're all singing and sho...  0G1AF5qpIb9lhvaVibKjCN   \n",
       "4  Chiquitita, tell me what's wrong You're enchai...  33HtOR1xQCDcZJwiu68bt2   \n",
       "\n",
       "   popularity  year    genre  danceability  ...  mode  speechiness  \\\n",
       "0          32  2014  swedish         0.277  ...     1       0.0282   \n",
       "1          30  2014  swedish         0.408  ...     1       0.0556   \n",
       "2          21  2012  swedish         0.498  ...     1       0.0289   \n",
       "3          29  2014  swedish         0.380  ...     1       0.0362   \n",
       "4          27  2012  swedish         0.517  ...     1       0.0321   \n",
       "\n",
       "   acousticness  instrumentalness  liveness  valence    tempo  duration_ms  \\\n",
       "0       0.58700          0.000282    0.0745    0.367  202.887       280427   \n",
       "1       0.03050          0.000000    0.7770    0.662  148.697       206080   \n",
       "2       0.00723          0.000013    0.3420    0.841  131.610       184880   \n",
       "3       0.60400          0.000000    0.1140    0.495  159.803       292027   \n",
       "4       0.71600          0.000005    0.3080    0.369   84.256       327867   \n",
       "\n",
       "   time_signature     title_cleaned  \n",
       "0               3  Andante, Andante  \n",
       "1               4    As Good As New  \n",
       "2               4  Bang-A-Boomerang  \n",
       "3               3         Cassandra  \n",
       "4               4        Chiquitita  \n",
       "\n",
       "[5 rows x 23 columns]"
      ]
     },
     "execution_count": 3,
     "metadata": {},
     "output_type": "execute_result"
    }
   ],
   "source": [
    "df.head()"
   ]
  },
  {
   "cell_type": "markdown",
   "id": "f4bfbdaa",
   "metadata": {},
   "source": [
    "###  (1.1) Basic Info ℹ️"
   ]
  },
  {
   "cell_type": "code",
   "execution_count": 4,
   "id": "37d489d2",
   "metadata": {},
   "outputs": [
    {
     "data": {
      "text/plain": [
       "(8890, 23)"
      ]
     },
     "execution_count": 4,
     "metadata": {},
     "output_type": "execute_result"
    }
   ],
   "source": [
    "df.shape"
   ]
  },
  {
   "cell_type": "code",
   "execution_count": 5,
   "id": "81f498d2",
   "metadata": {},
   "outputs": [
    {
     "data": {
      "text/plain": [
       "Unnamed: 0            int64\n",
       "artist               object\n",
       "song                 object\n",
       "link                 object\n",
       "text                 object\n",
       "track_id             object\n",
       "popularity            int64\n",
       "year                  int64\n",
       "genre                object\n",
       "danceability        float64\n",
       "energy              float64\n",
       "key                   int64\n",
       "loudness            float64\n",
       "mode                  int64\n",
       "speechiness         float64\n",
       "acousticness        float64\n",
       "instrumentalness    float64\n",
       "liveness            float64\n",
       "valence             float64\n",
       "tempo               float64\n",
       "duration_ms           int64\n",
       "time_signature        int64\n",
       "title_cleaned        object\n",
       "dtype: object"
      ]
     },
     "execution_count": 5,
     "metadata": {},
     "output_type": "execute_result"
    }
   ],
   "source": [
    "df.dtypes"
   ]
  },
  {
   "cell_type": "markdown",
   "id": "407627e6",
   "metadata": {},
   "source": [
    "###  (1.2) Pre-cleaning 🕵🏻‍♂️"
   ]
  },
  {
   "cell_type": "markdown",
   "id": "92c4f06c",
   "metadata": {},
   "source": [
    "* 👥 Remove duplicates\n",
    "* ❓ Have a first glimpse at the missing values\n",
    "* 😏 Detect the weird columns\n",
    "* ⚖️ Detect class imbalances for classification tasks and outliers for regression tasks"
   ]
  },
  {
   "cell_type": "markdown",
   "id": "51d694ba",
   "metadata": {},
   "source": [
    "***Duplicates***"
   ]
  },
  {
   "cell_type": "code",
   "execution_count": 6,
   "id": "34a84f17",
   "metadata": {},
   "outputs": [
    {
     "data": {
      "text/plain": [
       "0"
      ]
     },
     "execution_count": 6,
     "metadata": {},
     "output_type": "execute_result"
    }
   ],
   "source": [
    "nb_of_duplicated_rows = df.duplicated().sum()\n",
    "nb_of_duplicated_rows"
   ]
  },
  {
   "cell_type": "markdown",
   "id": "f7f1c03f",
   "metadata": {},
   "source": [
    "***Missing values???***"
   ]
  },
  {
   "cell_type": "code",
   "execution_count": 7,
   "id": "30abbefc",
   "metadata": {},
   "outputs": [
    {
     "data": {
      "text/plain": [
       "Unnamed: 0          0\n",
       "loudness            0\n",
       "time_signature      0\n",
       "duration_ms         0\n",
       "tempo               0\n",
       "valence             0\n",
       "liveness            0\n",
       "instrumentalness    0\n",
       "acousticness        0\n",
       "speechiness         0\n",
       "mode                0\n",
       "key                 0\n",
       "artist              0\n",
       "energy              0\n",
       "danceability        0\n",
       "genre               0\n",
       "year                0\n",
       "popularity          0\n",
       "track_id            0\n",
       "text                0\n",
       "link                0\n",
       "song                0\n",
       "title_cleaned       0\n",
       "dtype: int64"
      ]
     },
     "execution_count": 7,
     "metadata": {},
     "output_type": "execute_result"
    }
   ],
   "source": [
    "df.isna().sum().sort_values(ascending=False)"
   ]
  },
  {
   "cell_type": "code",
   "execution_count": 8,
   "id": "7f09d29a",
   "metadata": {},
   "outputs": [
    {
     "data": {
      "text/plain": [
       "Unnamed: 0          0.0\n",
       "loudness            0.0\n",
       "time_signature      0.0\n",
       "duration_ms         0.0\n",
       "tempo               0.0\n",
       "valence             0.0\n",
       "liveness            0.0\n",
       "instrumentalness    0.0\n",
       "acousticness        0.0\n",
       "speechiness         0.0\n",
       "mode                0.0\n",
       "key                 0.0\n",
       "artist              0.0\n",
       "energy              0.0\n",
       "danceability        0.0\n",
       "genre               0.0\n",
       "year                0.0\n",
       "popularity          0.0\n",
       "track_id            0.0\n",
       "text                0.0\n",
       "link                0.0\n",
       "song                0.0\n",
       "title_cleaned       0.0\n",
       "dtype: float64"
      ]
     },
     "execution_count": 8,
     "metadata": {},
     "output_type": "execute_result"
    }
   ],
   "source": [
    "df.isna().mean().sort_values(ascending=False)"
   ]
  },
  {
   "cell_type": "markdown",
   "id": "593a2711",
   "metadata": {},
   "source": [
    "## (2)💈 Preprocessing minimal pour baseline"
   ]
  },
  {
   "cell_type": "code",
   "execution_count": 9,
   "id": "39a5963b",
   "metadata": {},
   "outputs": [],
   "source": [
    "import re\n",
    "\n",
    "# Fonction pour prétraiter les paroles\n",
    "def preprocess_lyrics(lyrics):\n",
    "    lyrics = lyrics.lower()\n",
    "    lyrics = re.sub(r'[^\\w\\s]', '', lyrics)  # retire la ponctuation\n",
    "    return lyrics"
   ]
  },
  {
   "cell_type": "code",
   "execution_count": 11,
   "id": "2d2abb99",
   "metadata": {},
   "outputs": [],
   "source": [
    "# Appliquer la fonction de prétraitement aux paroles\n",
    "df['lyrics_clean'] = df['text'].apply(preprocess_lyrics)"
   ]
  },
  {
   "cell_type": "code",
   "execution_count": 12,
   "id": "20dc700d",
   "metadata": {},
   "outputs": [
    {
     "data": {
      "text/plain": [
       "0    take it easy with me please touch me gently li...\n",
       "1    ill never know why i had to go why i had to pu...\n",
       "2    making somebody happy is a question of give an...\n",
       "3    down in the street theyre all singing and shou...\n",
       "4    chiquitita tell me whats wrong youre enchained...\n",
       "Name: lyrics_clean, dtype: object"
      ]
     },
     "execution_count": 12,
     "metadata": {},
     "output_type": "execute_result"
    }
   ],
   "source": [
    "# Afficher les premières lignes du DataFrame après le prétraitement\n",
    "df['lyrics_clean'].head()"
   ]
  },
  {
   "cell_type": "code",
   "execution_count": 15,
   "id": "91010b03",
   "metadata": {},
   "outputs": [],
   "source": [
    "import random\n",
    "\n",
    "# Fonction pour obtenir un morceau aléatoire contenant un mot-clé\n",
    "def get_random_track_containing(keyword):\n",
    "    keyword = keyword.lower()\n",
    "    filtered = df[df['lyrics_clean'].str.contains(keyword)]\n",
    "    filtered = filtered.reset_index(drop=True)\n",
    "    if filtered.empty:\n",
    "        return None\n",
    "\n",
    "    random_index = random.randint(0, len(filtered) - 1)\n",
    "    selected_row = filtered.iloc[random_index]\n",
    "\n",
    "    return {\n",
    "        'artist' : selected_row['artist'],\n",
    "        'Title' : selected_row['title_cleaned']}"
   ]
  },
  {
   "cell_type": "code",
   "execution_count": 17,
   "id": "98156f64",
   "metadata": {},
   "outputs": [
    {
     "data": {
      "text/plain": [
       "{'artist': 'Rihanna', 'Title': 'We Found Love'}"
      ]
     },
     "execution_count": 17,
     "metadata": {},
     "output_type": "execute_result"
    }
   ],
   "source": [
    "# Exemple d'utilisation de la fonction\n",
    "get_random_track_containing('love')"
   ]
  }
 ],
 "metadata": {
  "kernelspec": {
   "display_name": "wagon-bootcamp-project",
   "language": "python",
   "name": "python3"
  },
  "language_info": {
   "codemirror_mode": {
    "name": "ipython",
    "version": 3
   },
   "file_extension": ".py",
   "mimetype": "text/x-python",
   "name": "python",
   "nbconvert_exporter": "python",
   "pygments_lexer": "ipython3",
   "version": "3.10.6"
  }
 },
 "nbformat": 4,
 "nbformat_minor": 5
}
