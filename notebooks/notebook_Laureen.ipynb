{
 "cells": [
  {
   "cell_type": "markdown",
   "id": "ec3d552f",
   "metadata": {},
   "source": [
    "## (0) Libraries 📚"
   ]
  },
  {
   "cell_type": "code",
   "execution_count": 1,
   "id": "48753bf0",
   "metadata": {},
   "outputs": [],
   "source": [
    "import pandas as pd"
   ]
  },
  {
   "cell_type": "markdown",
   "id": "124419d7",
   "metadata": {},
   "source": [
    "##  (1) Dataset 💾"
   ]
  },
  {
   "cell_type": "markdown",
   "id": "9e64472d",
   "metadata": {},
   "source": [
    "### Lyrics dataset"
   ]
  },
  {
   "cell_type": "code",
   "execution_count": 2,
   "id": "bb2db7aa",
   "metadata": {},
   "outputs": [],
   "source": [
    "df = pd.read_csv('/Users/laureenwilhelm/code/vicctoirec/wagon-bootcamp-project/raw_data/20250609_17k_lyrics_eng_fr.csv')"
   ]
  },
  {
   "cell_type": "code",
   "execution_count": 3,
   "id": "2c7b8675",
   "metadata": {},
   "outputs": [
    {
     "data": {
      "text/html": [
       "<div>\n",
       "<style scoped>\n",
       "    .dataframe tbody tr th:only-of-type {\n",
       "        vertical-align: middle;\n",
       "    }\n",
       "\n",
       "    .dataframe tbody tr th {\n",
       "        vertical-align: top;\n",
       "    }\n",
       "\n",
       "    .dataframe thead th {\n",
       "        text-align: right;\n",
       "    }\n",
       "</style>\n",
       "<table border=\"1\" class=\"dataframe\">\n",
       "  <thead>\n",
       "    <tr style=\"text-align: right;\">\n",
       "      <th></th>\n",
       "      <th>Unnamed: 0</th>\n",
       "      <th>artist</th>\n",
       "      <th>track_title_clean</th>\n",
       "      <th>lyrics_clean</th>\n",
       "      <th>artist_lower</th>\n",
       "      <th>track_title_clean_lower</th>\n",
       "    </tr>\n",
       "  </thead>\n",
       "  <tbody>\n",
       "    <tr>\n",
       "      <th>0</th>\n",
       "      <td>0</td>\n",
       "      <td>ABBA</td>\n",
       "      <td>Andante, Andante</td>\n",
       "      <td>Take it easy with me, please Touch me gently l...</td>\n",
       "      <td>abba</td>\n",
       "      <td>andante, andante</td>\n",
       "    </tr>\n",
       "    <tr>\n",
       "      <th>1</th>\n",
       "      <td>1</td>\n",
       "      <td>ABBA</td>\n",
       "      <td>As Good As New</td>\n",
       "      <td>I'll never know why I had to go Why I had to p...</td>\n",
       "      <td>abba</td>\n",
       "      <td>as good as new</td>\n",
       "    </tr>\n",
       "    <tr>\n",
       "      <th>2</th>\n",
       "      <td>2</td>\n",
       "      <td>ABBA</td>\n",
       "      <td>Bang-A-Boomerang</td>\n",
       "      <td>Making somebody happy is a question of give an...</td>\n",
       "      <td>abba</td>\n",
       "      <td>bang-a-boomerang</td>\n",
       "    </tr>\n",
       "    <tr>\n",
       "      <th>3</th>\n",
       "      <td>3</td>\n",
       "      <td>ABBA</td>\n",
       "      <td>Cassandra</td>\n",
       "      <td>Down in the street they're all singing and sho...</td>\n",
       "      <td>abba</td>\n",
       "      <td>cassandra</td>\n",
       "    </tr>\n",
       "    <tr>\n",
       "      <th>4</th>\n",
       "      <td>4</td>\n",
       "      <td>ABBA</td>\n",
       "      <td>Chiquitita</td>\n",
       "      <td>Chiquitita, tell me what's wrong You're enchai...</td>\n",
       "      <td>abba</td>\n",
       "      <td>chiquitita</td>\n",
       "    </tr>\n",
       "  </tbody>\n",
       "</table>\n",
       "</div>"
      ],
      "text/plain": [
       "   Unnamed: 0 artist track_title_clean  \\\n",
       "0           0   ABBA  Andante, Andante   \n",
       "1           1   ABBA    As Good As New   \n",
       "2           2   ABBA  Bang-A-Boomerang   \n",
       "3           3   ABBA         Cassandra   \n",
       "4           4   ABBA        Chiquitita   \n",
       "\n",
       "                                        lyrics_clean artist_lower  \\\n",
       "0  Take it easy with me, please Touch me gently l...         abba   \n",
       "1  I'll never know why I had to go Why I had to p...         abba   \n",
       "2  Making somebody happy is a question of give an...         abba   \n",
       "3  Down in the street they're all singing and sho...         abba   \n",
       "4  Chiquitita, tell me what's wrong You're enchai...         abba   \n",
       "\n",
       "  track_title_clean_lower  \n",
       "0        andante, andante  \n",
       "1          as good as new  \n",
       "2        bang-a-boomerang  \n",
       "3               cassandra  \n",
       "4              chiquitita  "
      ]
     },
     "execution_count": 3,
     "metadata": {},
     "output_type": "execute_result"
    }
   ],
   "source": [
    "df.head()"
   ]
  },
  {
   "cell_type": "markdown",
   "id": "f4bfbdaa",
   "metadata": {},
   "source": [
    "###  (1.1) Basic Info ℹ️"
   ]
  },
  {
   "cell_type": "code",
   "execution_count": 4,
   "id": "37d489d2",
   "metadata": {},
   "outputs": [
    {
     "data": {
      "text/plain": [
       "(17304, 6)"
      ]
     },
     "execution_count": 4,
     "metadata": {},
     "output_type": "execute_result"
    }
   ],
   "source": [
    "df.shape"
   ]
  },
  {
   "cell_type": "code",
   "execution_count": 5,
   "id": "81f498d2",
   "metadata": {},
   "outputs": [
    {
     "data": {
      "text/plain": [
       "Unnamed: 0                  int64\n",
       "artist                     object\n",
       "track_title_clean          object\n",
       "lyrics_clean               object\n",
       "artist_lower               object\n",
       "track_title_clean_lower    object\n",
       "dtype: object"
      ]
     },
     "execution_count": 5,
     "metadata": {},
     "output_type": "execute_result"
    }
   ],
   "source": [
    "df.dtypes"
   ]
  },
  {
   "cell_type": "markdown",
   "id": "407627e6",
   "metadata": {},
   "source": [
    "###  (1.2) Pre-cleaning 🕵🏻‍♂️"
   ]
  },
  {
   "cell_type": "markdown",
   "id": "92c4f06c",
   "metadata": {},
   "source": [
    "* 👥 Remove duplicates\n",
    "* ❓ Have a first glimpse at the missing values\n",
    "* 😏 Detect the weird columns\n",
    "* ⚖️ Detect class imbalances for classification tasks and outliers for regression tasks"
   ]
  },
  {
   "cell_type": "markdown",
   "id": "51d694ba",
   "metadata": {},
   "source": [
    "***Duplicates***"
   ]
  },
  {
   "cell_type": "code",
   "execution_count": 6,
   "id": "34a84f17",
   "metadata": {},
   "outputs": [
    {
     "data": {
      "text/plain": [
       "0"
      ]
     },
     "execution_count": 6,
     "metadata": {},
     "output_type": "execute_result"
    }
   ],
   "source": [
    "nb_of_duplicated_rows = df.duplicated().sum()\n",
    "nb_of_duplicated_rows"
   ]
  },
  {
   "cell_type": "markdown",
   "id": "f7f1c03f",
   "metadata": {},
   "source": [
    "***Missing values???***"
   ]
  },
  {
   "cell_type": "code",
   "execution_count": 7,
   "id": "30abbefc",
   "metadata": {},
   "outputs": [
    {
     "data": {
      "text/plain": [
       "lyrics_clean               3\n",
       "Unnamed: 0                 0\n",
       "artist                     0\n",
       "track_title_clean          0\n",
       "artist_lower               0\n",
       "track_title_clean_lower    0\n",
       "dtype: int64"
      ]
     },
     "execution_count": 7,
     "metadata": {},
     "output_type": "execute_result"
    }
   ],
   "source": [
    "df.isna().sum().sort_values(ascending=False)"
   ]
  },
  {
   "cell_type": "code",
   "execution_count": 8,
   "id": "7f09d29a",
   "metadata": {},
   "outputs": [
    {
     "data": {
      "text/plain": [
       "lyrics_clean               0.000173\n",
       "Unnamed: 0                 0.000000\n",
       "artist                     0.000000\n",
       "track_title_clean          0.000000\n",
       "artist_lower               0.000000\n",
       "track_title_clean_lower    0.000000\n",
       "dtype: float64"
      ]
     },
     "execution_count": 8,
     "metadata": {},
     "output_type": "execute_result"
    }
   ],
   "source": [
    "df.isna().mean().sort_values(ascending=False)"
   ]
  },
  {
   "cell_type": "code",
   "execution_count": 9,
   "id": "b8b713af",
   "metadata": {},
   "outputs": [],
   "source": [
    "df = df.dropna(subset=['lyrics_clean'])"
   ]
  },
  {
   "cell_type": "code",
   "execution_count": 10,
   "id": "7c926449",
   "metadata": {},
   "outputs": [
    {
     "data": {
      "text/plain": [
       "Unnamed: 0                 0\n",
       "artist                     0\n",
       "track_title_clean          0\n",
       "lyrics_clean               0\n",
       "artist_lower               0\n",
       "track_title_clean_lower    0\n",
       "dtype: int64"
      ]
     },
     "execution_count": 10,
     "metadata": {},
     "output_type": "execute_result"
    }
   ],
   "source": [
    "df.isna().sum().sort_values(ascending=False)"
   ]
  },
  {
   "cell_type": "markdown",
   "id": "593a2711",
   "metadata": {},
   "source": [
    "## (2)💈 Preprocessing minimal pour baseline"
   ]
  },
  {
   "cell_type": "code",
   "execution_count": 2,
   "id": "39a5963b",
   "metadata": {},
   "outputs": [],
   "source": [
    "import re\n",
    "\n",
    "# Fonction pour prétraiter les paroles\n",
    "def preprocess_lyrics(lyrics):\n",
    "    lyrics = lyrics.lower()\n",
    "    lyrics = re.sub(r'[^\\w\\s]', '', lyrics)  # retire la ponctuation\n",
    "    return lyrics"
   ]
  },
  {
   "cell_type": "code",
   "execution_count": 12,
   "id": "2d2abb99",
   "metadata": {},
   "outputs": [],
   "source": [
    "# Appliquer la fonction de prétraitement aux paroles\n",
    "df['lyrics_clean'] = df['lyrics_clean'].apply(preprocess_lyrics)"
   ]
  },
  {
   "cell_type": "code",
   "execution_count": 13,
   "id": "20dc700d",
   "metadata": {},
   "outputs": [
    {
     "data": {
      "text/plain": [
       "0    take it easy with me please touch me gently li...\n",
       "1    ill never know why i had to go why i had to pu...\n",
       "2    making somebody happy is a question of give an...\n",
       "3    down in the street theyre all singing and shou...\n",
       "4    chiquitita tell me whats wrong youre enchained...\n",
       "Name: lyrics_clean, dtype: object"
      ]
     },
     "execution_count": 13,
     "metadata": {},
     "output_type": "execute_result"
    }
   ],
   "source": [
    "# Afficher les premières lignes du DataFrame après le prétraitement\n",
    "df['lyrics_clean'].head()"
   ]
  },
  {
   "cell_type": "code",
   "execution_count": 18,
   "id": "91010b03",
   "metadata": {},
   "outputs": [],
   "source": [
    "import random\n",
    "\n",
    "# Fonction pour obtenir un morceau aléatoire contenant un mot-clé\n",
    "def get_random_track_containing(keyword):\n",
    "    keyword = keyword.lower()\n",
    "    filtered = df[df['lyrics_clean'].str.contains(keyword)]\n",
    "    filtered = filtered.reset_index(drop=True)\n",
    "    if filtered.empty:\n",
    "        return None\n",
    "\n",
    "    random_index = random.randint(0, len(filtered) - 1)\n",
    "    selected_row = filtered.iloc[random_index]\n",
    "\n",
    "    return {\n",
    "        'artist' : selected_row['artist'],\n",
    "        'Title' : selected_row['track_title_clean']}"
   ]
  },
  {
   "cell_type": "code",
   "execution_count": 19,
   "id": "98156f64",
   "metadata": {},
   "outputs": [
    {
     "data": {
      "text/plain": [
       "{'artist': 'Nightwish', 'Title': 'Planet Hell'}"
      ]
     },
     "execution_count": 19,
     "metadata": {},
     "output_type": "execute_result"
    }
   ],
   "source": [
    "# Exemple d'utilisation de la fonction\n",
    "get_random_track_containing('love')"
   ]
  },
  {
   "cell_type": "markdown",
   "id": "48475702",
   "metadata": {},
   "source": [
    "## (2)💈Preprocessing feature 2 du MVP"
   ]
  },
  {
   "cell_type": "markdown",
   "id": "0b621189",
   "metadata": {},
   "source": [
    "🎯 Objectif recapitulé\n",
    "Input : \"Je pars en Italie, j’aime le soleil\"\n",
    "\n",
    "Output :\n",
    "Les 10 meilleures chansons dont les lyrics_clean matchent fortement (≥ 0.9) avec les thèmes extraits de cette envie."
   ]
  },
  {
   "cell_type": "markdown",
   "id": "10301a04",
   "metadata": {},
   "source": [
    "##### Input utilisateur = Envie libre "
   ]
  },
  {
   "cell_type": "code",
   "execution_count": 3,
   "id": "d8cade7b",
   "metadata": {},
   "outputs": [],
   "source": [
    "user_input = \"I'm happy, I love Italy\""
   ]
  },
  {
   "cell_type": "markdown",
   "id": "8888788e",
   "metadata": {},
   "source": [
    "##### Zero-Shot classification : Boucle sur lyric_clean\n",
    "- On compare chaque chanson à l'envie comme si l'envie était une classe potentielle \n",
    "- On utilise le modele facebook/bart-large-mnli, avec multi_label=True"
   ]
  },
  {
   "cell_type": "code",
   "execution_count": 15,
   "id": "54af5d8b",
   "metadata": {},
   "outputs": [
    {
     "name": "stderr",
     "output_type": "stream",
     "text": [
      "/Users/laureenwilhelm/.pyenv/versions/3.10.6/envs/wagon-bootcamp-project/lib/python3.10/site-packages/tqdm/auto.py:21: TqdmWarning: IProgress not found. Please update jupyter and ipywidgets. See https://ipywidgets.readthedocs.io/en/stable/user_install.html\n",
      "  from .autonotebook import tqdm as notebook_tqdm\n"
     ]
    }
   ],
   "source": [
    "from transformers import pipeline\n",
    "from tqdm import tqdm\n",
    "import textwrap\n",
    "\n",
    "# Set up classifier\n",
    "classifier = pipeline(\"zero-shot-classification\", model=\"facebook/bart-large-mnli\")\n",
    "\n",
    "# Preprocess function\n",
    "def chunk_text(text, max_words=250):\n",
    "    return textwrap.wrap(text, max_words)\n",
    "\n",
    "\n",
    "def get_zeroshot_score(lyrics, user_label):\n",
    "    chunks = chunk_text(lyrics)\n",
    "    scores = []\n",
    "    for chunk in chunks:\n",
    "        try:\n",
    "            result = classifier(chunk, candidate_labels=[user_label], multi_label=True)\n",
    "            scores.append(result['scores'][0]) # Get the score for the first label\n",
    "        except:\n",
    "            continue\n",
    "    return max(scores) if scores else None\n"
   ]
  },
  {
   "cell_type": "markdown",
   "id": "959cd99f",
   "metadata": {},
   "source": [
    "### Test sur un bout du DF pour easier debug "
   ]
  },
  {
   "cell_type": "code",
   "execution_count": 25,
   "id": "494272ad",
   "metadata": {},
   "outputs": [],
   "source": [
    "df_sample = df.sample(n=1000, random_state=42)  # random_state pour la reproductibilité"
   ]
  },
  {
   "cell_type": "code",
   "execution_count": 26,
   "id": "02f25de8",
   "metadata": {},
   "outputs": [
    {
     "name": "stderr",
     "output_type": "stream",
     "text": [
      "100%|██████████| 1000/1000 [16:20<00:00,  1.02it/s]\n"
     ]
    },
    {
     "data": {
      "image/png": "[encoded data removed]",
      "text/plain": [
       "<Figure size 640x480 with 1 Axes>"
      ]
     },
     "metadata": {},
     "output_type": "display_data"
    },
    {
     "data": {
      "text/html": [
       "<div>\n",
       "<style scoped>\n",
       "    .dataframe tbody tr th:only-of-type {\n",
       "        vertical-align: middle;\n",
       "    }\n",
       "\n",
       "    .dataframe tbody tr th {\n",
       "        vertical-align: top;\n",
       "    }\n",
       "\n",
       "    .dataframe thead th {\n",
       "        text-align: right;\n",
       "    }\n",
       "</style>\n",
       "<table border=\"1\" class=\"dataframe\">\n",
       "  <thead>\n",
       "    <tr style=\"text-align: right;\">\n",
       "      <th></th>\n",
       "      <th>artist</th>\n",
       "      <th>track_title_clean</th>\n",
       "      <th>match_score</th>\n",
       "    </tr>\n",
       "  </thead>\n",
       "  <tbody>\n",
       "    <tr>\n",
       "      <th>3763</th>\n",
       "      <td>Billy Joel</td>\n",
       "      <td>Scenes From An Italian Restaurant</td>\n",
       "      <td>0.988472</td>\n",
       "    </tr>\n",
       "    <tr>\n",
       "      <th>2885</th>\n",
       "      <td>Tim McGraw</td>\n",
       "      <td>Two Lanes Of Freedom</td>\n",
       "      <td>0.976050</td>\n",
       "    </tr>\n",
       "    <tr>\n",
       "      <th>2626</th>\n",
       "      <td>Rush</td>\n",
       "      <td>Presto</td>\n",
       "      <td>0.966236</td>\n",
       "    </tr>\n",
       "    <tr>\n",
       "      <th>9792</th>\n",
       "      <td>Kendji Girac</td>\n",
       "      <td>Color Gitano</td>\n",
       "      <td>0.964185</td>\n",
       "    </tr>\n",
       "    <tr>\n",
       "      <th>10403</th>\n",
       "      <td>Daniel Guichard</td>\n",
       "      <td>Faire Semblant</td>\n",
       "      <td>0.962416</td>\n",
       "    </tr>\n",
       "    <tr>\n",
       "      <th>2145</th>\n",
       "      <td>Opeth</td>\n",
       "      <td>The Twilight Is My Robe</td>\n",
       "      <td>0.960679</td>\n",
       "    </tr>\n",
       "    <tr>\n",
       "      <th>13560</th>\n",
       "      <td>Koba LaD</td>\n",
       "      <td>Honey</td>\n",
       "      <td>0.957406</td>\n",
       "    </tr>\n",
       "    <tr>\n",
       "      <th>13155</th>\n",
       "      <td>SCH</td>\n",
       "      <td>Corrida</td>\n",
       "      <td>0.937814</td>\n",
       "    </tr>\n",
       "    <tr>\n",
       "      <th>15594</th>\n",
       "      <td>The Pirouettes</td>\n",
       "      <td>Carrément carrément</td>\n",
       "      <td>0.924745</td>\n",
       "    </tr>\n",
       "    <tr>\n",
       "      <th>14807</th>\n",
       "      <td>Carla Bruni</td>\n",
       "      <td>Il Vecchio E Il Bambino</td>\n",
       "      <td>0.922958</td>\n",
       "    </tr>\n",
       "  </tbody>\n",
       "</table>\n",
       "</div>"
      ],
      "text/plain": [
       "                artist                  track_title_clean  match_score\n",
       "3763        Billy Joel  Scenes From An Italian Restaurant     0.988472\n",
       "2885        Tim McGraw               Two Lanes Of Freedom     0.976050\n",
       "2626              Rush                             Presto     0.966236\n",
       "9792      Kendji Girac                       Color Gitano     0.964185\n",
       "10403  Daniel Guichard                     Faire Semblant     0.962416\n",
       "2145             Opeth            The Twilight Is My Robe     0.960679\n",
       "13560         Koba LaD                              Honey     0.957406\n",
       "13155              SCH                            Corrida     0.937814\n",
       "15594   The Pirouettes                Carrément carrément     0.924745\n",
       "14807      Carla Bruni            Il Vecchio E Il Bambino     0.922958"
      ]
     },
     "execution_count": 26,
     "metadata": {},
     "output_type": "execute_result"
    }
   ],
   "source": [
    "# Progress bar loop\n",
    "scores = []\n",
    "\n",
    "for lyrics in tqdm(df_sample[\"lyrics_clean\"]):\n",
    "    score = get_zeroshot_score(lyrics, user_input)\n",
    "    scores.append(score)\n",
    "\n",
    "df_sample[\"match_score\"] = scores\n",
    "\n",
    "import matplotlib.pyplot as plt\n",
    "\n",
    "# Score distribution visualization\n",
    "df_sample[\"match_score\"].hist(bins=30)\n",
    "plt.title(\"Distribution des scores\")\n",
    "plt.xlabel(\"match_score\")\n",
    "plt.ylabel(\"N chansons\")\n",
    "plt.show()\n",
    "\n",
    "df_sample.sort_values(by=\"match_score\", ascending=False).head(10)[[\"artist\", \"track_title_clean\", \"match_score\"]]\n",
    "\n",
    "\n",
    "# Filtrage\n",
    "df_debug = df_sample[df_sample[\"match_score\"] >= 0.8].copy()\n",
    "df_top10 = df_debug.sort_values(by=\"match_score\", ascending=False).head(10)\n",
    "\n",
    "# Résultat final\n",
    "df_top10[[\"artist\", \"track_title_clean\", \"match_score\"]]"
   ]
  },
  {
   "cell_type": "markdown",
   "id": "2b14ffd5",
   "metadata": {},
   "source": [
    "### OPTION 2 : Embedding-based search for faster retrieval (SBERT)"
   ]
  },
  {
   "cell_type": "code",
   "execution_count": 4,
   "id": "0a1b93f9",
   "metadata": {},
   "outputs": [],
   "source": [
    "data = pd.read_csv('/Users/laureenwilhelm/code/vicctoirec/wagon-bootcamp-project/raw_data/20250609_17k_lyrics_eng_fr.csv')\n",
    "data = data.dropna(subset=['lyrics_clean'])\n",
    "data['lyrics_clean'] = data['lyrics_clean'].apply(preprocess_lyrics)"
   ]
  },
  {
   "cell_type": "code",
   "execution_count": 5,
   "id": "3c1bfa2a",
   "metadata": {},
   "outputs": [
    {
     "name": "stderr",
     "output_type": "stream",
     "text": [
      "/Users/laureenwilhelm/.pyenv/versions/3.10.6/envs/wagon-bootcamp-project/lib/python3.10/site-packages/tqdm/auto.py:21: TqdmWarning: IProgress not found. Please update jupyter and ipywidgets. See https://ipywidgets.readthedocs.io/en/stable/user_install.html\n",
      "  from .autonotebook import tqdm as notebook_tqdm\n",
      "/Users/laureenwilhelm/.pyenv/versions/3.10.6/envs/wagon-bootcamp-project/lib/python3.10/site-packages/huggingface_hub/file_download.py:1132: FutureWarning: `resume_download` is deprecated and will be removed in version 1.0.0. Downloads always resume when possible. If you want to force a new download, use `force_download=True`.\n",
      "  warnings.warn(\n",
      "/Users/laureenwilhelm/.cache/huggingface/modules/transformers_modules/nomic-ai/nomic-bert-2048/7710840340a098cfb869c4f65e87cf2b1b70caca/modeling_hf_nomic_bert.py:1634: UserWarning: Install Nomic's megablocks fork for better speed: `pip install git+https://github.com/nomic-ai/megablocks.git`\n",
      "  warnings.warn(\"Install Nomic's megablocks fork for better speed: \" +\n",
      "Batches: 100%|██████████| 541/541 [1:39:34<00:00, 11.04s/it]  \n"
     ]
    }
   ],
   "source": [
    "from sentence_transformers import SentenceTransformer, util\n",
    "\n",
    "# Load the pre-trained model\n",
    "model = SentenceTransformer(\"nomic-ai/nomic-embed-text-v2-moe\", trust_remote_code=True)\n",
    "\n",
    "# Encode the lyrics and user input\n",
    "lyrics_embeddings = model.encode(data[\"lyrics_clean\"].tolist(), batch_size=32, show_progress_bar=True)"
   ]
  },
  {
   "cell_type": "code",
   "execution_count": null,
   "id": "2d83057e",
   "metadata": {},
   "outputs": [
    {
     "data": {
      "text/plain": [
       "(17301, 768)"
      ]
     },
     "execution_count": 7,
     "metadata": {},
     "output_type": "execute_result"
    }
   ],
   "source": [
    "# Check the shape of the embeddings\n",
    "lyrics_embeddings.shape"
   ]
  },
  {
   "cell_type": "code",
   "execution_count": 9,
   "id": "7dd57a01",
   "metadata": {},
   "outputs": [
    {
     "name": "stderr",
     "output_type": "stream",
     "text": [
      "Batches: 100%|██████████| 1/1 [00:00<00:00,  2.30it/s]\n"
     ]
    }
   ],
   "source": [
    "user_vector = model.encode(user_input, show_progress_bar=True)"
   ]
  },
  {
   "cell_type": "code",
   "execution_count": 10,
   "id": "d5267390",
   "metadata": {},
   "outputs": [
    {
     "data": {
      "text/plain": [
       "(768,)"
      ]
     },
     "execution_count": 10,
     "metadata": {},
     "output_type": "execute_result"
    }
   ],
   "source": [
    "# Check the shape of the user vector\n",
    "user_vector.shape"
   ]
  },
  {
   "cell_type": "code",
   "execution_count": 11,
   "id": "2700d1d3",
   "metadata": {},
   "outputs": [
    {
     "data": {
      "text/html": [
       "<div>\n",
       "<style scoped>\n",
       "    .dataframe tbody tr th:only-of-type {\n",
       "        vertical-align: middle;\n",
       "    }\n",
       "\n",
       "    .dataframe tbody tr th {\n",
       "        vertical-align: top;\n",
       "    }\n",
       "\n",
       "    .dataframe thead th {\n",
       "        text-align: right;\n",
       "    }\n",
       "</style>\n",
       "<table border=\"1\" class=\"dataframe\">\n",
       "  <thead>\n",
       "    <tr style=\"text-align: right;\">\n",
       "      <th></th>\n",
       "      <th>Unnamed: 0</th>\n",
       "      <th>artist</th>\n",
       "      <th>track_title_clean</th>\n",
       "      <th>lyrics_clean</th>\n",
       "      <th>artist_lower</th>\n",
       "      <th>track_title_clean_lower</th>\n",
       "    </tr>\n",
       "  </thead>\n",
       "  <tbody>\n",
       "    <tr>\n",
       "      <th>10287</th>\n",
       "      <td>10287</td>\n",
       "      <td>Serge Lama</td>\n",
       "      <td>Dimanches en Italie</td>\n",
       "      <td>tu as un sourire qui sent la fumée grise ça te...</td>\n",
       "      <td>serge lama</td>\n",
       "      <td>dimanches en italie</td>\n",
       "    </tr>\n",
       "    <tr>\n",
       "      <th>14195</th>\n",
       "      <td>14195</td>\n",
       "      <td>Soolking</td>\n",
       "      <td>Suavemente</td>\n",
       "      <td>ahahah suavemente besame jsors de la tess et j...</td>\n",
       "      <td>soolking</td>\n",
       "      <td>suavemente</td>\n",
       "    </tr>\n",
       "    <tr>\n",
       "      <th>10890</th>\n",
       "      <td>10890</td>\n",
       "      <td>Clara Luciani</td>\n",
       "      <td>Pleure Clara, pleure</td>\n",
       "      <td>je suis la pleureuse italienne recroquevillée ...</td>\n",
       "      <td>clara luciani</td>\n",
       "      <td>pleure clara, pleure</td>\n",
       "    </tr>\n",
       "    <tr>\n",
       "      <th>8910</th>\n",
       "      <td>8910</td>\n",
       "      <td>Jean-Jacques Goldman</td>\n",
       "      <td>C'est pas d'l'amour</td>\n",
       "      <td>ça ressemble à la toscane douce et belle de vi...</td>\n",
       "      <td>jean-jacques goldman</td>\n",
       "      <td>c'est pas d'l'amour</td>\n",
       "    </tr>\n",
       "    <tr>\n",
       "      <th>7321</th>\n",
       "      <td>7321</td>\n",
       "      <td>Pitbull</td>\n",
       "      <td>Oye Baby</td>\n",
       "      <td>nicola fasano i hope i said that right mr thre...</td>\n",
       "      <td>pitbull</td>\n",
       "      <td>oye baby</td>\n",
       "    </tr>\n",
       "    <tr>\n",
       "      <th>9971</th>\n",
       "      <td>9971</td>\n",
       "      <td>Gims</td>\n",
       "      <td>Terminal 2F</td>\n",
       "      <td>oh oh ah mmh mmh mmh mmh mmh mmh alors dismoi ...</td>\n",
       "      <td>gims</td>\n",
       "      <td>terminal 2f</td>\n",
       "    </tr>\n",
       "    <tr>\n",
       "      <th>5755</th>\n",
       "      <td>5755</td>\n",
       "      <td>Keith Urban</td>\n",
       "      <td>She's My 11</td>\n",
       "      <td>im a lucky man yes i am living in heaven down ...</td>\n",
       "      <td>keith urban</td>\n",
       "      <td>she's my 11</td>\n",
       "    </tr>\n",
       "    <tr>\n",
       "      <th>6944</th>\n",
       "      <td>6944</td>\n",
       "      <td>Olivia Newton-John</td>\n",
       "      <td>Sunburned Country</td>\n",
       "      <td>i carry her with me i carry her pride whenever...</td>\n",
       "      <td>olivia newton-john</td>\n",
       "      <td>sunburned country</td>\n",
       "    </tr>\n",
       "    <tr>\n",
       "      <th>7441</th>\n",
       "      <td>7441</td>\n",
       "      <td>Rage Against The Machine</td>\n",
       "      <td>Beautiful World</td>\n",
       "      <td>its a beautiful world we live in a sweet roman...</td>\n",
       "      <td>rage against the machine</td>\n",
       "      <td>beautiful world</td>\n",
       "    </tr>\n",
       "    <tr>\n",
       "      <th>13071</th>\n",
       "      <td>13071</td>\n",
       "      <td>FKJ</td>\n",
       "      <td>A Moment Of Mystery</td>\n",
       "      <td>i love the drama i love the drama our conversa...</td>\n",
       "      <td>fkj</td>\n",
       "      <td>a moment of mystery</td>\n",
       "    </tr>\n",
       "  </tbody>\n",
       "</table>\n",
       "</div>"
      ],
      "text/plain": [
       "       Unnamed: 0                    artist     track_title_clean  \\\n",
       "10287       10287                Serge Lama   Dimanches en Italie   \n",
       "14195       14195                  Soolking            Suavemente   \n",
       "10890       10890             Clara Luciani  Pleure Clara, pleure   \n",
       "8910         8910      Jean-Jacques Goldman   C'est pas d'l'amour   \n",
       "7321         7321                   Pitbull              Oye Baby   \n",
       "9971         9971                      Gims           Terminal 2F   \n",
       "5755         5755               Keith Urban           She's My 11   \n",
       "6944         6944        Olivia Newton-John     Sunburned Country   \n",
       "7441         7441  Rage Against The Machine       Beautiful World   \n",
       "13071       13071                       FKJ   A Moment Of Mystery   \n",
       "\n",
       "                                            lyrics_clean  \\\n",
       "10287  tu as un sourire qui sent la fumée grise ça te...   \n",
       "14195  ahahah suavemente besame jsors de la tess et j...   \n",
       "10890  je suis la pleureuse italienne recroquevillée ...   \n",
       "8910   ça ressemble à la toscane douce et belle de vi...   \n",
       "7321   nicola fasano i hope i said that right mr thre...   \n",
       "9971   oh oh ah mmh mmh mmh mmh mmh mmh alors dismoi ...   \n",
       "5755   im a lucky man yes i am living in heaven down ...   \n",
       "6944   i carry her with me i carry her pride whenever...   \n",
       "7441   its a beautiful world we live in a sweet roman...   \n",
       "13071  i love the drama i love the drama our conversa...   \n",
       "\n",
       "                   artist_lower track_title_clean_lower  \n",
       "10287                serge lama     dimanches en italie  \n",
       "14195                  soolking              suavemente  \n",
       "10890             clara luciani    pleure clara, pleure  \n",
       "8910       jean-jacques goldman     c'est pas d'l'amour  \n",
       "7321                    pitbull                oye baby  \n",
       "9971                       gims             terminal 2f  \n",
       "5755                keith urban             she's my 11  \n",
       "6944         olivia newton-john       sunburned country  \n",
       "7441   rage against the machine         beautiful world  \n",
       "13071                       fkj     a moment of mystery  "
      ]
     },
     "execution_count": 11,
     "metadata": {},
     "output_type": "execute_result"
    }
   ],
   "source": [
    "# Compute cosine similarity scores\n",
    "scores = util.cos_sim(user_vector, lyrics_embeddings)[0]\n",
    "\n",
    "# Get the top 10 indices of the highest scores (i.e., most similar lyrics based on cosine similarity)\n",
    "top_indices = scores.topk(10).indices\n",
    "top_indices = top_indices.tolist()\n",
    "\n",
    "# Retrieve the corresponding rows from the original DataFrame\n",
    "data.iloc[top_indices]"
   ]
  },
  {
   "cell_type": "code",
   "execution_count": null,
   "id": "b56985f3",
   "metadata": {},
   "outputs": [],
   "source": []
  }
 ],
 "metadata": {
  "kernelspec": {
   "display_name": "wagon-bootcamp-project",
   "language": "python",
   "name": "python3"
  },
  "language_info": {
   "codemirror_mode": {
    "name": "ipython",
    "version": 3
   },
   "file_extension": ".py",
   "mimetype": "text/x-python",
   "name": "python",
   "nbconvert_exporter": "python",
   "pygments_lexer": "ipython3",
   "version": "3.10.6"
  }
 },
 "nbformat": 4,
 "nbformat_minor": 5
}
