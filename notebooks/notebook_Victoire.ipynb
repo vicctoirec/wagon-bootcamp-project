{
 "cells": [
  {
   "cell_type": "code",
   "execution_count": 294,
   "id": "6b8c1b94",
   "metadata": {},
   "outputs": [],
   "source": [
    "import pandas as pd\n",
    "from IPython.display import Markdown\n",
    "import re"
   ]
  },
  {
   "cell_type": "code",
   "execution_count": 295,
   "id": "3cdf043a",
   "metadata": {},
   "outputs": [
    {
     "name": "stdout",
     "output_type": "stream",
     "text": [
      "The autoreload extension is already loaded. To reload it, use:\n",
      "  %reload_ext autoreload\n"
     ]
    }
   ],
   "source": [
    "%load_ext autoreload\n",
    "%autoreload 2"
   ]
  },
  {
   "cell_type": "code",
   "execution_count": 296,
   "id": "8c95e65c",
   "metadata": {},
   "outputs": [
    {
     "data": {
      "text/plain": [
       "True"
      ]
     },
     "execution_count": 296,
     "metadata": {},
     "output_type": "execute_result"
    }
   ],
   "source": [
    "# Reload dotenv in notebook\n",
    "from dotenv import load_dotenv\n",
    "dot_env_loaded = load_dotenv()\n",
    "dot_env_loaded"
   ]
  },
  {
   "cell_type": "markdown",
   "id": "1cf8c233",
   "metadata": {},
   "source": [
    "# 1. Lyrics Database"
   ]
  },
  {
   "cell_type": "code",
   "execution_count": 240,
   "id": "816131c4",
   "metadata": {},
   "outputs": [],
   "source": [
    "lyrics_df_all = pd.read_csv('../raw_data/20250609_17k_lyrics_eng_fr.csv')"
   ]
  },
  {
   "cell_type": "code",
   "execution_count": 241,
   "id": "9a1a21a4",
   "metadata": {},
   "outputs": [],
   "source": [
    "lyrics_df_all.drop(columns='Unnamed: 0', inplace=True)\n",
    "lyrics_df_all.reset_index(drop=True, inplace=True)"
   ]
  },
  {
   "cell_type": "code",
   "execution_count": 242,
   "id": "b1923c76",
   "metadata": {},
   "outputs": [
    {
     "data": {
      "text/plain": [
       "artist                     0\n",
       "track_title_clean          0\n",
       "lyrics_clean               3\n",
       "artist_lower               0\n",
       "track_title_clean_lower    0\n",
       "dtype: int64"
      ]
     },
     "execution_count": 242,
     "metadata": {},
     "output_type": "execute_result"
    }
   ],
   "source": [
    "lyrics_df_all.isna().sum()"
   ]
  },
  {
   "cell_type": "code",
   "execution_count": 243,
   "id": "8341a8b9",
   "metadata": {},
   "outputs": [
    {
     "data": {
      "text/plain": [
       "artist\n",
       "Booba                       90\n",
       "Marilyn Manson              89\n",
       "Tim McGraw                  89\n",
       "Rascal Flatts               89\n",
       "Kenny Chesney               86\n",
       "Grateful Dead               85\n",
       "Shy'm                       85\n",
       "George Strait               83\n",
       "Phish                       83\n",
       "Muse                        80\n",
       "Christine and the queens    78\n",
       "Kery James                  78\n",
       "Def Leppard                 73\n",
       "Lionel Richie               73\n",
       "Jenifer                     72\n",
       "Carla Bruni                 72\n",
       "Lara Fabian                 71\n",
       "Rush                        70\n",
       "Gradur                      69\n",
       "Lefa                        68\n",
       "Zazie                       68\n",
       "Aya Nakamura                68\n",
       "Weezer                      68\n",
       "PNL                         68\n",
       "Slayer                      67\n",
       "Korn                        67\n",
       "Norah Jones                 67\n",
       "Foo Fighters                66\n",
       "Céline Dion                 66\n",
       "Hamza                       66\n",
       "Lynyrd Skynyrd              66\n",
       "Megadeth                    65\n",
       "Medine                      65\n",
       "Kaaris                      65\n",
       "Green Day                   64\n",
       "Tina Arena                  63\n",
       "Axelle Red                  63\n",
       "Seth Gueko                  62\n",
       "Ozzy Osbourne               62\n",
       "PLK                         62\n",
       "Orelsan                     61\n",
       "Keith Urban                 60\n",
       "Anne Sylvestre              60\n",
       "Renaud                      60\n",
       "Amel Bent                   60\n",
       "Owl City                    59\n",
       "Keny Arkana                 59\n",
       "Alain Souchon               59\n",
       "Nolwenn Leroy               59\n",
       "MC Solaar                   59\n",
       "Name: lyrics_clean, dtype: int64"
      ]
     },
     "execution_count": 243,
     "metadata": {},
     "output_type": "execute_result"
    }
   ],
   "source": [
    "lyrics_df_all.groupby('artist').count()['lyrics_clean'].sort_values(ascending=False).head(50)"
   ]
  },
  {
   "cell_type": "markdown",
   "id": "5818847f",
   "metadata": {},
   "source": [
    "## 1.1 Clean lyrics"
   ]
  },
  {
   "cell_type": "code",
   "execution_count": 230,
   "id": "ff76fbe0",
   "metadata": {},
   "outputs": [
    {
     "data": {
      "text/html": [
       "<div>\n",
       "<style scoped>\n",
       "    .dataframe tbody tr th:only-of-type {\n",
       "        vertical-align: middle;\n",
       "    }\n",
       "\n",
       "    .dataframe tbody tr th {\n",
       "        vertical-align: top;\n",
       "    }\n",
       "\n",
       "    .dataframe thead th {\n",
       "        text-align: right;\n",
       "    }\n",
       "</style>\n",
       "<table border=\"1\" class=\"dataframe\">\n",
       "  <thead>\n",
       "    <tr style=\"text-align: right;\">\n",
       "      <th></th>\n",
       "      <th>artist</th>\n",
       "      <th>track_title_clean</th>\n",
       "      <th>lyrics_clean</th>\n",
       "      <th>artist_lower</th>\n",
       "      <th>track_title_clean_lower</th>\n",
       "    </tr>\n",
       "  </thead>\n",
       "  <tbody>\n",
       "    <tr>\n",
       "      <th>0</th>\n",
       "      <td>ABBA</td>\n",
       "      <td>Andante, Andante</td>\n",
       "      <td>Take it easy with me, please Touch me gently l...</td>\n",
       "      <td>abba</td>\n",
       "      <td>andante, andante</td>\n",
       "    </tr>\n",
       "    <tr>\n",
       "      <th>1</th>\n",
       "      <td>ABBA</td>\n",
       "      <td>As Good As New</td>\n",
       "      <td>I'll never know why I had to go Why I had to p...</td>\n",
       "      <td>abba</td>\n",
       "      <td>as good as new</td>\n",
       "    </tr>\n",
       "    <tr>\n",
       "      <th>2</th>\n",
       "      <td>ABBA</td>\n",
       "      <td>Bang-A-Boomerang</td>\n",
       "      <td>Making somebody happy is a question of give an...</td>\n",
       "      <td>abba</td>\n",
       "      <td>bang-a-boomerang</td>\n",
       "    </tr>\n",
       "    <tr>\n",
       "      <th>3</th>\n",
       "      <td>ABBA</td>\n",
       "      <td>Cassandra</td>\n",
       "      <td>Down in the street they're all singing and sho...</td>\n",
       "      <td>abba</td>\n",
       "      <td>cassandra</td>\n",
       "    </tr>\n",
       "    <tr>\n",
       "      <th>4</th>\n",
       "      <td>ABBA</td>\n",
       "      <td>Chiquitita</td>\n",
       "      <td>Chiquitita, tell me what's wrong You're enchai...</td>\n",
       "      <td>abba</td>\n",
       "      <td>chiquitita</td>\n",
       "    </tr>\n",
       "    <tr>\n",
       "      <th>...</th>\n",
       "      <td>...</td>\n",
       "      <td>...</td>\n",
       "      <td>...</td>\n",
       "      <td>...</td>\n",
       "      <td>...</td>\n",
       "    </tr>\n",
       "    <tr>\n",
       "      <th>17299</th>\n",
       "      <td>Therapie Taxi</td>\n",
       "      <td>Candide Crush</td>\n",
       "      <td>Je suis si sage-sage d'habitude, mon chéri Com...</td>\n",
       "      <td>therapie taxi</td>\n",
       "      <td>candide crush</td>\n",
       "    </tr>\n",
       "    <tr>\n",
       "      <th>17300</th>\n",
       "      <td>Therapie Taxi</td>\n",
       "      <td>J'en ai marre</td>\n",
       "      <td>Et j'en ai marre de toi Je sais c'est dur mais...</td>\n",
       "      <td>therapie taxi</td>\n",
       "      <td>j'en ai marre</td>\n",
       "    </tr>\n",
       "    <tr>\n",
       "      <th>17301</th>\n",
       "      <td>Therapie Taxi</td>\n",
       "      <td>Avec ta zouz</td>\n",
       "      <td>N'aie pas le seum, fais-moi la bise Ce soir c'...</td>\n",
       "      <td>therapie taxi</td>\n",
       "      <td>avec ta zouz</td>\n",
       "    </tr>\n",
       "    <tr>\n",
       "      <th>17302</th>\n",
       "      <td>Minuit</td>\n",
       "      <td>Flash</td>\n",
       "      <td>Lumière crue, lumière sans, flash! Étrange sen...</td>\n",
       "      <td>minuit</td>\n",
       "      <td>flash</td>\n",
       "    </tr>\n",
       "    <tr>\n",
       "      <th>17303</th>\n",
       "      <td>Minuit</td>\n",
       "      <td>Le Goût du sel</td>\n",
       "      <td>Je rêve de toi toutes les nuits C'est un peu n...</td>\n",
       "      <td>minuit</td>\n",
       "      <td>le goût du sel</td>\n",
       "    </tr>\n",
       "  </tbody>\n",
       "</table>\n",
       "<p>17304 rows × 5 columns</p>\n",
       "</div>"
      ],
      "text/plain": [
       "              artist track_title_clean  \\\n",
       "0               ABBA  Andante, Andante   \n",
       "1               ABBA    As Good As New   \n",
       "2               ABBA  Bang-A-Boomerang   \n",
       "3               ABBA         Cassandra   \n",
       "4               ABBA        Chiquitita   \n",
       "...              ...               ...   \n",
       "17299  Therapie Taxi     Candide Crush   \n",
       "17300  Therapie Taxi     J'en ai marre   \n",
       "17301  Therapie Taxi      Avec ta zouz   \n",
       "17302         Minuit             Flash   \n",
       "17303         Minuit    Le Goût du sel   \n",
       "\n",
       "                                            lyrics_clean   artist_lower  \\\n",
       "0      Take it easy with me, please Touch me gently l...           abba   \n",
       "1      I'll never know why I had to go Why I had to p...           abba   \n",
       "2      Making somebody happy is a question of give an...           abba   \n",
       "3      Down in the street they're all singing and sho...           abba   \n",
       "4      Chiquitita, tell me what's wrong You're enchai...           abba   \n",
       "...                                                  ...            ...   \n",
       "17299  Je suis si sage-sage d'habitude, mon chéri Com...  therapie taxi   \n",
       "17300  Et j'en ai marre de toi Je sais c'est dur mais...  therapie taxi   \n",
       "17301  N'aie pas le seum, fais-moi la bise Ce soir c'...  therapie taxi   \n",
       "17302  Lumière crue, lumière sans, flash! Étrange sen...         minuit   \n",
       "17303  Je rêve de toi toutes les nuits C'est un peu n...         minuit   \n",
       "\n",
       "      track_title_clean_lower  \n",
       "0            andante, andante  \n",
       "1              as good as new  \n",
       "2            bang-a-boomerang  \n",
       "3                   cassandra  \n",
       "4                  chiquitita  \n",
       "...                       ...  \n",
       "17299           candide crush  \n",
       "17300           j'en ai marre  \n",
       "17301            avec ta zouz  \n",
       "17302                   flash  \n",
       "17303          le goût du sel  \n",
       "\n",
       "[17304 rows x 5 columns]"
      ]
     },
     "execution_count": 230,
     "metadata": {},
     "output_type": "execute_result"
    }
   ],
   "source": [
    "lyrics_df_all"
   ]
  },
  {
   "cell_type": "code",
   "execution_count": 251,
   "id": "7b7e97d0",
   "metadata": {},
   "outputs": [],
   "source": [
    "lyrics_df_all.dropna(inplace=True)"
   ]
  },
  {
   "cell_type": "code",
   "execution_count": 252,
   "id": "9ddcab0d",
   "metadata": {},
   "outputs": [],
   "source": [
    "import re\n",
    "\n",
    "def no_backslash(lyrics):\n",
    "    lyrics = lyrics.replace('\\\\', '')\n",
    "    return lyrics\n"
   ]
  },
  {
   "cell_type": "code",
   "execution_count": 253,
   "id": "65192478",
   "metadata": {},
   "outputs": [],
   "source": [
    "lyrics_df_all['lyrics_clean'] = lyrics_df_all['lyrics_clean'].apply(no_backslash)"
   ]
  },
  {
   "cell_type": "code",
   "execution_count": 273,
   "id": "4a890161",
   "metadata": {},
   "outputs": [
    {
     "data": {
      "text/plain": [
       "16194    Avant, j'voulais la plus sexy, maintenant j've...\n",
       "Name: lyrics_clean, dtype: object"
      ]
     },
     "execution_count": 273,
     "metadata": {},
     "output_type": "execute_result"
    }
   ],
   "source": [
    "lyrics_df_all[(lyrics_df_all.artist == 'Booba') & (lyrics_df_all.track_title_clean == 'Bénigni')]['lyrics_clean']"
   ]
  },
  {
   "cell_type": "markdown",
   "id": "84cc8292",
   "metadata": {},
   "source": [
    "# 3. Download Gemini model"
   ]
  },
  {
   "cell_type": "code",
   "execution_count": 297,
   "id": "07e6288c",
   "metadata": {},
   "outputs": [
    {
     "data": {
      "text/plain": [
       "True"
      ]
     },
     "execution_count": 297,
     "metadata": {},
     "output_type": "execute_result"
    }
   ],
   "source": [
    "import os\n",
    "google_api_key_exists = 'GOOGLE_API_KEY' in os.environ\n",
    "google_api_key_exists"
   ]
  },
  {
   "cell_type": "markdown",
   "id": "f2423782",
   "metadata": {},
   "source": [
    "## 3.1 Import GenAI Gemini model"
   ]
  },
  {
   "cell_type": "code",
   "execution_count": 299,
   "id": "bedec26a",
   "metadata": {},
   "outputs": [],
   "source": [
    "from langchain.chat_models import init_chat_model\n",
    "\n",
    "model = init_chat_model(\"gemini-2.0-flash\", model_provider=\"google_genai\")"
   ]
  },
  {
   "cell_type": "markdown",
   "id": "96e8e8cb",
   "metadata": {},
   "source": [
    "## 3.2 Create a tool to get lyrics"
   ]
  },
  {
   "cell_type": "code",
   "execution_count": null,
   "id": "4b815e1c",
   "metadata": {},
   "outputs": [],
   "source": [
    "from langchain_core.tools import tool\n",
    "\n",
    "@tool\n",
    "def get_lyrics(artist_name : str) -> str:\n",
    "    \"\"\" Get song titles and lyrics of a specific artist's name.\n",
    "    Use the artist name in the query as artist_name \"\"\"\n",
    "    songs = lyrics_df_all[lyrics_df_all['artist'].isin([artist_name])]\n",
    "    if songs.empty:\n",
    "        return \"No songs found for this artist.\"\n",
    "\n",
    "    results = []\n",
    "    for _, row in songs.iterrows():\n",
    "        results.append(f\"Title: {row['track_title_clean']}\\nLyrics: {row['lyrics_clean']}\\n\")\n",
    "    return \"\\n\".join(results)"
   ]
  },
  {
   "cell_type": "code",
   "execution_count": 341,
   "id": "e8365b39",
   "metadata": {},
   "outputs": [],
   "source": [
    "tools = [get_lyrics]"
   ]
  },
  {
   "cell_type": "markdown",
   "id": "5b41b948",
   "metadata": {},
   "source": [
    "## 3.3 Create a system prompt"
   ]
  },
  {
   "cell_type": "code",
   "execution_count": null,
   "id": "2881d407",
   "metadata": {},
   "outputs": [],
   "source": [
    "system_prompt = \"\"\"\n",
    "    With the name of an artist as an input, and the lyrics of their songs from the get_lyrics tool,\n",
    "    you are tasked to summarize the main themes in their lyrics. The output would follow the following format:\n",
    "    Here are the 5 main themes in Adele's song “Chasing Pavements” with quotes to illustrate each:\n",
    "    1. Uncertainty and Doubt\n",
    "        The song revolves around the question of whether to keep pursuing a relationship or give up. This doubt is clear in the repeated lines:\n",
    "        “Should I give up? Or should I just keep chasing pavements? Even if it leads nowhere.”\n",
    "\n",
    "    2. Love vs. Rationality\n",
    "        Adele expresses the tension between emotional conviction and logical thinking. She knows it’s love but questions if it’s worth continuing:\n",
    "        “This ain't lust, I know this is love, but if I tell the world I'll never say enough.”\n",
    "\n",
    "    3. Fear of Waste and Futility\n",
    "        There is a strong fear that continuing the pursuit might be pointless or a waste of effort:\n",
    "        “Or would it be a waste? Even if I knew my place, should I leave it there?”\n",
    "\n",
    "    4. Hope and Perseverance\n",
    "        Despite doubts, she shows a desire to keep trying, to keep “chasing pavements,” hoping for a positive outcome even if the path is unclear:\n",
    "        “I build myself up and fly around in circles, waiting as my heart drops.”\n",
    "\n",
    "    5. Self-reflection and Decision-Making\n",
    "        The song is about introspection and the difficult process of making a decision about love and whether to keep going or move on:\n",
    "        “I've made up my mind, don't need to think it over, if I'm wrong, I am right.”\n",
    "\n",
    "    These themes together create a nuanced emotional landscape about love, uncertainty, and the struggle between hope and letting go.\n",
    "    \"\"\""
   ]
  },
  {
   "cell_type": "markdown",
   "id": "add2dcb4",
   "metadata": {},
   "source": [
    "## 3.4 Create an agent executor"
   ]
  },
  {
   "cell_type": "markdown",
   "id": "b0bc071f",
   "metadata": {},
   "source": [
    "### 3.4.1 Test Jule's version"
   ]
  },
  {
   "cell_type": "code",
   "execution_count": 354,
   "id": "0bc0a3c0",
   "metadata": {},
   "outputs": [],
   "source": [
    "# Import\n",
    "from langgraph.prebuilt import create_react_agent\n",
    "\n",
    "# Create the `agent_executor` with a model and tools\n",
    "agent_executor = create_react_agent(model, tools)"
   ]
  },
  {
   "cell_type": "code",
   "execution_count": 355,
   "id": "08f437b2",
   "metadata": {},
   "outputs": [
    {
     "data": {
      "text/plain": [
       "'Sorry, I cannot fulfill the request. The available tools do not have the ability to summarize songs. I can only get song titles and lyrics of a specific artist.'"
      ]
     },
     "execution_count": 355,
     "metadata": {},
     "output_type": "execute_result"
    }
   ],
   "source": [
    "from langchain_core.messages import HumanMessage\n",
    "\n",
    "query = \"Summarize booba's songs\"\n",
    "response = agent_executor.invoke(\n",
    "    {\"messages\": [HumanMessage(content=query)]}\n",
    ")\n",
    "response[\"messages\"][-1].content"
   ]
  },
  {
   "cell_type": "markdown",
   "id": "dd5a17ad",
   "metadata": {},
   "source": [
    "### 3.4.2 Test upgraded version"
   ]
  },
  {
   "cell_type": "code",
   "execution_count": 356,
   "id": "eda0e1d4",
   "metadata": {},
   "outputs": [],
   "source": [
    "from langchain.prompts import PromptTemplate\n",
    "from langchain.chains import LLMChain\n",
    "from langchain.agents import initialize_agent, AgentType\n",
    "from langchain.schema import HumanMessage"
   ]
  },
  {
   "cell_type": "code",
   "execution_count": 373,
   "id": "e8151e36",
   "metadata": {},
   "outputs": [
    {
     "name": "stdout",
     "output_type": "stream",
     "text": [
      "\n",
      "\n",
      "\u001b[1m> Entering new AgentExecutor chain...\u001b[0m\n",
      "\u001b[32;1m\u001b[1;3mI need to get Adele's lyrics to identify and summarize the main themes. Then I will provide lyrical quotes to support each theme.\n",
      "Action: get_lyrics\n",
      "Action Input: Adele\u001b[0m\n",
      "Observation: \u001b[36;1m\u001b[1;3mTitle: All I Ask\n",
      "Lyrics: [Verse 1] I will leave my heart at the door I won't say a word They've all been said before, you know So why don't we just play pretend Like we're not scared of what's coming next Or scared of having nothing left [Pre-Chorus] Look, don't get me wrong I know there is no tomorrow All I ask is [Chorus] If this is my last night with you Hold me like I'm more than just a friend Give me a memory I can use Take me by the hand while we do what lovers do It matters how this ends Cause what if I never love again? [Verse 2] I don't need your honesty It's already in your eyes and I'm sure my eyes, they speak for me No one knows me like you do And since you're the only one that matters, tell me who do I run to? [Pre-Chorus] Now, don't get me wrong I know there is no tomorrow All I ask is [Chorus] If this is my last night with you Hold me like I'm more than just a friend Give me a memory I can use Take me by the hand while we do what lovers do It matters how this ends Cause what if I never love again? [Bridge] Let this be our lesson in love Let this be the way we remember us I don't wanna be cruel or vicious And I ain't asking for forgiveness All I ask is... [Chorus] If this is my last night with you Hold me like I'm more than just a friend Give me a memory I can use Take me by the hand while we do what lovers do It matters how this ends Cause what if I never love again?\n",
      "\n",
      "Title: Crazy For You\n",
      "Lyrics: Found myself today singing out your name, You said I'm crazy, If I am I'm crazy for you. Sometimes sitting in the dark wishing you were here Turns me crazy, But it's you who makes me lose my head. And every time I'm meant to be acting sensible You drift into my head And turn me into a crumbling fool. Tell me to run and I'll race, If you want me to stop I'll freeze, And if you want me gone. I'll leave, just hold me closer baby, And make me crazy for you. Crazy for you. Lately with this state I'm in I can't help myself but spin. I wish you'd come over, Send me spinning closer to you. My oh my, how my blood boils, it's sweet taste for you, Strips me down bare And gets me into my favorite mood. I keep on trying, fighting these feelings away, But the more I do, The crazier I turn into. Pacing floors and opening doors, Hoping you'll walk through And save me boy, Because I'm too crazy for you. Crazy for you\n",
      "\n",
      "Title: Daydreamer\n",
      "Lyrics: Daydreamer Sitting on the sea Soaking up the sun He is a real lover And making up the past Feeling up his girl Like he's never felt a figure before A jaw dropper Looks good when he walks Is the subject of their talk He would be hard to chase But good to catch And he could change the world With his hands behind his back, oh You can find him sittin' on your doorstep Waiting for a surprise And he will feel like he's been there for hours And you can tell that he'll be there for life Daydreamer With eyes that make you melt He lends his coat for shelter Plus he's there for you When he shouldn't be But he stays all the same Waits for you Then sees you through There's no way I Could describe him What I'll say is Just what I'm hoping for But I will find him sittin' on my doorstep Waiting for a surprise And he will feel like he's been there for hours And I can tell that he'll be there for life And I can tell that he'll be there for life\n",
      "\n",
      "Title: Hello\n",
      "Lyrics: [Verse 1] Hello, it's me I was wondering if after all these years You'd like to meet, to go over Everything They say that time's supposed to heal ya But I ain't done much healing Hello, can you hear me? I'm in California dreaming about who we used to be When we were younger and free I've forgotten how it felt before the world fell at our feet [Pre-Chorus 1] There's such a difference between us And a million miles [Chorus] Hello from the other side I must've called a thousand times to tell you I'm sorry, for everything that I've done But when I call you never seem to be home Hello from the outside At least I can say that I've tried to tell you I'm sorry, for breaking your heart But it don't matter, it clearly doesn't tear you apart anymore [Verse 2] Hello, how are you? It's so typical of me to talk about myself I'm sorry, I hope that you're well Did you ever make it out of that town Where nothing ever happened? [Pre-Chorus 2] It's no secret That the both of us are running out of time [Chorus] Hello from the other side I must've called a thousand times to tell you I'm sorry, for everything that I've done But when I call you never seem to be home Hello from the outside At least I can say that I've tried to tell you I'm sorry, for breaking your heart But it don't matter, it clearly doesn't tear you apart anymore [Bridge] Ooooohh, anymore Ooooohh, anymore Ooooohh, anymore Anymore [Chorus] Hello from the other side I must've called a thousand times to tell you I'm sorry, for everything that I've done But when I call you never seem to be home Hello from the outside At least I can say that I've tried to tell you I'm sorry, for breaking your heart But it don't matter, it clearly doesn't tear you apart anymore\n",
      "\n",
      "Title: I Miss You\n",
      "Lyrics: [Verse 1] I want every single piece of you I want your heaven and your oceans too Treat me soft but touch me cruel I wanna teach you things you never knew, ooh baby Bring the floor up to my knees Let me fall into your gravity Then kiss me back to life to see Your body standing over me [Pre-Chorus] Baby, don't let the lights go down Baby, don't let the lights go down Baby, don't let the lights go down Lights go down, lights go down Lights go down, lights go down Down, down, down [Chorus] I miss you when the lights go out It illuminates all of my doubts Pull me in, hold me tight Don't let go, baby give me light I miss you when the lights go out It illuminates all of my doubts Pull me in, hold me tight Don't let go, baby give me light [Verse 2] I love the way your body moves Towards me from across the room Brushing past my every groove No one has me like you do Baby, bring your heart, I'll bring my soul But be delicate with my ego I wanna step into your great unknown With you and me setting the tone [Pre-Chorus] Baby don't let the lights go down Baby don't let the lights go down Baby don't let the lights go down Lights go down, lights go down Lights go down, lights go down Down, down, down [Chorus] I miss you when the lights go out It illuminates all of my doubts Pull me in, hold me tight Don't let go, baby give me light I miss you when the lights go out It illuminates all of my doubts Pull me in, hold me tight Don't let go, baby give me light [Bridge] We play so dirty in the dark Cause we are living worlds apart It only makes it harder, baby It only makes it harder, baby Harder baby, harder baby [Chorus] I miss you when the lights go out It illuminates all of my doubts Pull me in, hold me tight Don't let go, baby give me light I miss you when the lights go out It illuminates all of my doubts Pull me in, hold me tight Don't let go, baby give me light [Outro] I miss you, I miss you I miss you, I miss you I miss you, I miss you I miss you, I miss you\n",
      "\n",
      "Title: Melt My Heart To Stone\n",
      "Lyrics: Right under my feet there's air made of bricks Pulls me down turns me weak for you I find myself repeating like a broken tune And I'm forever excusing your intentions That I give in to my pretendings Which forgive you each time Without me knowing They melt my heart to stone [Chorus] And I hear your words that I made up You say my name like there could be an us I best tidy up my head I'm the only one in love I'm the only one in love Each and every time I turn around to leave I feel my heart begin to burst and bleed So desperately I try to link it with my head But instead I fall back to my knees As you tear your way right through me I forgive you once again Without me knowing You've burnt my heart to stone And I hear your words that I made up You say my name like there could be an us I best tidy up my head I'm the only one in love I'm the only one in love Why do you steal my hand Whenever I'm standing my own ground You build me up, then leave me dead I hear your words you made up I say your name like there should be an us I best tidy up my head I'm the only one, in love I'm the only one in love\n",
      "\n",
      "Title: Someone Like You\n",
      "Lyrics: I heard, that you're settled down That you found a girl and you're, married now I heard, that your dreams came true I guess she gave you things I didn't give to you Old friend, why are you so shy Ain't like you to hold back Or hide from the light I hate to turn up out of the blue uninvited but I Couldn't stay away I couldn't fight it I had hoped you'd see my face And that you be reminded that for me it isn't over Never mind I'll find someone like you I wish nothing but the best For you too, don't forget me I beg, I'll remember you say Sometimes it lasts in love But sometimes it hurts instead Sometimes it lasts in love But sometimes it hurts instead yeah You know how the time flies Only yesterday it was the time of our lives We were born and raised In a summer haze bound by the surprise Of our glory days I hate to turn up out of the blue uninvited but I Couldn't stay away I couldn't fight it I hoped you'd see my face And that you'd be reminded that for me it isn't over Never mind I'll find someone like you I wish nothing but the best for you too Don't forget me I beg, I'll remember you say Sometimes it lasts in love but sometimes it hurts instead Nothing compares no worries or cares Regrets and mistakes their memories made Who would have known how bittersweet This would taste Never mind I'll find someone like you I wish nothing but the best for you Don't forget me I beg, I'll remember you say Sometimes it lasts in love but sometimes it hurts instead Never mind I'll find someone like you I wish nothing but the best for you too Don't forget me I beg, I'll remember you say Sometimes it lasts in love but sometimes it hurts instead Sometimes it lasts in love but sometimes it hurts instead\n",
      "\n",
      "Title: Best For Last\n",
      "Lyrics: Wait, do you see my heart on my sleeve? It's been there for days on end and It's been waiting for you to open up Yours too baby, come on now I'm trying to tell you just how I'd like to hear the words roll out of your mouth finally Say that it's always been me [Chorus] That's made you feel the way you've never felt before And I'm all you need and that you never want more Then you'd say all of the right things without a clue But you'd save the best for last Like I'm the one for you You should know that you're just a temporary fix This is not rooted with you it don't mean that much to me Oh just a filler in the space that happened to be free How dare you think you'd get away with trying to play me Why is it every time I think I've tried my hardest It turns out it ain't enough You're still not mentioning love What am I supposed to do to make you want me properly? I'm taking these chances and getting nowhere And though I'm trying my hardest you go back to her And I think that I know things may never change I'm still hoping one day I might hear you say I make you feel the way you've never felt before And I'm all you need and that you never want more Then you'd say all of the right things without a clue But you'd save the best for last Like I'm the one for you You should know that you're just a temporary fix This is not rooted with you it don't mean that much to me Oh just a filler in the space that happened to be free How dare you think you'd get away with trying to play me But, despite the truth that I know I find it hard to let go and give up on you Seems I love the things you do Like the meaner you treat me the more eager I am To persist with this heartbreak and running around And I will do until I'm finding myself you And make you feel a way you've never felt before And be all you need so that you never want more And you'll say all of the right things without a clue And you'll be the one for me and me the one for you\n",
      "\n",
      "Title: Chasing Pavements\n",
      "Lyrics: I've made up my mind, Don't need to think it over, If I'm wrong I am right, Don't need to look no further, This ain't lust, I know this is love but, If I tell the world, I'll never say enough, Cause it was not said to you, And that's exactly what I need to do, If I'm in love with you, Should I give up, Or should I just keep chasing pavements? Even if it leads nowhere, Or would it be a waste? Even If I knew my place should I leave it there? Should I give up, Or should I just keep chasing pavements? Even if it leads nowhere I'd build myself up, And fly around in circles, Waiting as my heart drops, And my back begins to tingle Finally could this be it or Should I give up, Or should I just keep chasing pavements? Even if it leads nowhere, Or would it be a waste? Even if I knew my place should I leave it there? Should I give up, Or should I just keep chasing pavements? Even if it leads nowhere yeah Should I give up, Or should I just keep chasing pavements? Even if, it leads nowhere, Or would it be a waste? Even if I knew my place should I leave it there? Should I give up, Or should I just keep on chasing pavements? Should I just keep on chasing pavements? Or Should I give up, Or should I just keep chasing pavements? Even if it leads nowhere, Or would it be a waste? Even if I knew my place should I leave it there? Should I give up, Or should I just keep chasing pavements? Even if it leads nowhere\n",
      "\n",
      "Title: Cold Shoulder\n",
      "Lyrics: You say it's all in my head And the things I think just don't make sense So where you been then? Don't go all coy Don't turn it round on me like it's my fault See I can see that look in your eyes The one that shoots me each and every time You grace me with your cold shoulder Whenever you look at me I wish I was her You shower me with words made of knives Whenever you look at me I wish I was her These days when I see you You make it look like I'm see-through Do tell me why you waste our time When your heart ain't in it, and you're not satisfied You know I know just how you feel I'm starting to find myself feeling that way too When you grace me with your cold shoulder Whenever you look at me I wish I was her You shower me with words made of knives Whenever you look at me I wish I was her Time and time again, I play the role of fool (Just for you) Even in the daylight when you think that (I don't see you) Try to look for things I hear but our eyes never find Though I do know how you play You grace me with your cold shoulder Whenever you look at me I wish I was her You shower me with words made of knives Whenever you look at me I wish I was her You grace me with your cold shoulder Whenever you look at me I wish I was her You shower me with words made of knives Whenever you look at me I wish I was her\n",
      "\n",
      "Title: Don't You Remember\n",
      "Lyrics: When will I see you again? You left with no goodbye, not a single word was said No final kiss to seal anything I had no idea of the state we were in I know I have a fickle heart and a bitterness And a wandering eye, and a heaviness in my head But don't you remember, don't you remember? The reason you loved me before, Baby please remember me once more When was the last time you thought of me? Or have you completely erased me from your memories? I often think about where I went wrong The more I do, the less I know But I know I have a fickle heart and a bitterness And a wandering eye, and a heaviness in my head But don't you remember, don't you remember? The reason you loved me before, Baby please remember me once more Oh, I gave you the space so you could breathe I kept my distance so you would be free, In hope that you find the missing piece To bring you back to me Why don't you remember, don't you remember? The reason you loved me before Baby please remember me once more When will I see you again?\n",
      "\n",
      "Title: First Love\n",
      "Lyrics: So little to say but so much time, Despite my empty mouth the words are in my mind. Please wear the face, the one where you smile, Because you lighten up my heart when I start to cry. Forgive me first love, but I'm tired. I need to get away to feel again. Try to understand why, don't get so close to change my mind. Please wipe that look out of your eyes, it's bribing me to doubt myself Simply, it's tiring. This love has dried up and stayed behind, And if I stay I'll be alive, Then choke on words I'd always hide. Excuse me first love, but we're through. I need to taste the kiss from someone new. Forgive me first love, but I'm too tired. I'm bored to say the least and I, I lack desire. Forgive me first love, forgive me first love, forgive me first love, Forgive me first love forgive me, forgive me first love, forgive me first love\n",
      "\n",
      "Title: He Won't Go\n",
      "Lyrics: Some say, I'll be better without you, They don't know you like I do, Or at least as far as I thought I knew I can't bear this time, It drags, as I lose my mind Reminded by things I find I know some clothes you left behind. Wake me up, wake me up when all is done I won't rise until this battle's won My dignity is become undone But I won't go I can't do it on my own If this ain't love, then what is? I'm willing to take the risk I won't go, I can't do it on my own, If this is ain't love, then what is? I'm willing to take the risk So petrified, I'm so scared to step into this right, What if I lose my heart and fail, declined I won't forgive me if I gave up trying I heard his voice today I didn't know a single word he said Not one resemblance to the man I met Just a vacant broken boy instead But I won't go, I can't do it on my own If this ain't love, then what is? I'm willing to take the risk I won't go, I can't do it on my own If this ain't love, then what is? I'm willing to take the risk There will be times, we'll try and give it up Bursting at the seams, no doubt We almost fall apart and burn to pieces So watch them turn to dust But nothing will never taint us I won't go, I can't do it on my own If this ain't love, then what is? I'm willing to take the risk I won't go, I can't do it on my own If this ain't love, then what is? I'm willing to take the risk Will he, will he still remember me? Will he still love me even when he's free Or will he go back to the place where He will choose the poison over me? When we spoke yesterday He said to hold my breath and sit and wait I'll be home soon, I won't be late He won't go He can't do it on his own If this ain't love, then what is? He's willing to take the risk So I won't go, He can't do it on his own, If this ain't love, then what is? I'm willing to take the risk 'Cause he won't go He can't do it on his own If this ain't love, then what is? We're willing to take the risk I won't go! I can't do it on my own If this ain't love, then what is? I'm willing to take the risk\n",
      "\n",
      "Title: Hometown Glory\n",
      "Lyrics: I've been walking in the same way as I did Missing out the cracks in the pavement And turning my heel and strutting my feet \"Is there anything I can do for you dear? Is there anyone I could call?\" \"No and thank you, please Madam. I ain't lost, just wandering\" Round my hometown Memories are fresh Round my hometown Ooh the people I've met Are the wonders of my world Are the wonders of my world Are the wonders of this world Are the wonders of now I like it in the city when the air is so thick and opaque I love to see everybody in short skirts, shorts and shades I like it in the city when two worlds collide You get the people and the government Everybody taking different sides Shows that we ain't gonna stand shit Shows that we are united Shows that we ain't gonna take it Shows that we ain't gonna stand shit Shows that we are united Round my hometown Memories are fresh Round my hometown Ooh the people I've met yea Are the wonders of my world Are the wonders of my world Are the wonders of this world Are the wonders of my world Of my world, yeah Of my world Of my world, yeah\n",
      "\n",
      "Title: I'll Be Waiting\n",
      "Lyrics: Hold me closer, one more time, Say that you love me in your last goodbye, Please forgive me, for my sins, Yes, I swam dirty waters, But you pushed me in, I've seen your face, under every sky, Over every border and on every line, You know my heart, more than I do, We were the greatest, me and you, But we had time against us, And miles between us, The heavens cried, I know I left you speechless, But now the sky has cleared and it's blue, And I see my future in you, I'll be waiting for you when you're ready to love me again, I'll put my hands up, I'll do everything different, I'll be better to you, I'll be waiting for you when you're ready to love me again, I'll put my hands up, I'll be somebody different, I'll be better to you, Let me stay here for just one more night, Build your world around me, And pull me to the light, So I can tell you that I was wrong, I was a child then, but now I'm willing to learn, But we had time against us, And miles between us, The heavens cried, I know I left you speechless, But now the sky has cleared and it's blue, And I see my future in you, I'll be waiting for you when you're ready to love me again, I'll put my hands up, I'll do everything different, I'll be better to you, I'll be waiting for you when you're ready to love me again, I'll put my hands up, I'll be somebody different, I'll be better to you, Time against us, Miles between us, Heavens cried, I know I left you speechless, Time against us, Miles between us, Heavens cried, I know I left you speechless, I know I left you speechless I'll be waiting I'll be waiting for you when you're ready to love me again, I'll put my hands up, I'll do everything different, I'll be better to you, I'll be waiting for you when you're ready to love me again, I'll put my hands up, I'll be somebody different, I'll be better for you,\n",
      "\n",
      "Title: Love In The Dark\n",
      "Lyrics: [Verse 1] Take your eyes off me so I can leave I'm far too ashamed to do it with you watching me This is never ending, we have been here before But I can't stay this time cause I don't love you anymore Please stay where you are Don't come any closer Don't try to change my mind I'm being cruel to be kind [Chorus] I can't love you in the dark It feels like we're oceans apart There is so much space between us Maybe we're already defeated Ah-yeah-yeah-yeah-yeah-yeah-yeah every things changing [Verse 2] You have given me something that I can't live without You mustn't underestimate that when you are in doubt But I don't want to carry on like everything is fine The longer we ignore it all the more that we will fight Please don't fall apart I can't face your breaking heart I'm trying to be brave Stop asking me to stay [Chorus] I can't love you in the dark It feels like we're oceans apart There is so much space between us Maybe we're already defeated Ah-yeah-yeah-yeah-yeah-yeah-yeah everything changing [Bridge] We're not the only ones I don't regret a thing Every word I've said You know I'll always mean It is the world to me That you are in my life But I want to live And not just survive [Instrumental Break] [Chorus] That's why I can't love you in the dark It feels like we're oceans apart There is so much space between us Maybe we're already defeated Ah-yeah-yeah-yeah-yeah-yeah-yeah everything changed me And I-I-I-I-I don't think you can save me\n",
      "\n",
      "Title: Lovesong\n",
      "Lyrics: Whenever I'm alone with you You make me feel like I am home again Whenever I'm alone with you You make me feel like I am whole again Whenever I'm alone with you You make me feel like I am young again Whenever I'm alone with you You make me feel like I am fun again However far away I will always love you However long I stay I will always love you Whatever words I say I will always love you I will always love you Whenever I'm alone with you You make me feel like I am free again Whenever I'm alone with you You make me feel like I am clean again However far away I will always love you However long I stay I will always love you Whatever words I say I will always love you I will always love you However far away I will always love you However long I stay I will always love you Whatever words I say I will always love you I will always love you I will always love you 'Cause I love you\n",
      "\n",
      "Title: Make You Feel My Love\n",
      "Lyrics: When the rain Is blowing in your face And the whole world Is on your case I could offer you A warm embrace To make you feel my love When the evening shadows And the stars appear And there is no one there To dry your tears I could hold you For a million years To make you feel my love I know you Haven't made Your mind up yet But I would never Do you wrong I've known it From the moment That we met No doubt in my mind Where you belong I'd go hungry I'd go black and blue I'd go crawling Down the avenue No, there's nothing That I wouldn't do To make you feel my love The storms are raging On the rolling sea And on the highway of regret Though winds of change Are throwing wild and free You ain't seen nothing Like me yet I could make you happy Make your dreams come true Nothing that I wouldn't do Go to the ends Of the Earth for you To make you feel my love\n",
      "\n",
      "Title: Million Years Ago\n",
      "Lyrics: I only wanted to have fun Learning to fly learning to run I let my heart decide the way When I was young Deep down I must have always known That this would be inevitable To earn my stripes I'd have to pay And bare my soul I know I'm not the only one Who regrets the things they've done Sometimes I just feel it's only me Who can't stand in reflection that they see I wish I could live a little more Look up to the sky not just the floor I feel like my life is flashing by And all I can do is watch and cry I miss the air I miss my friends I miss my mother I miss it when Life was a party to be thrown But that was a million years ago When I walk around all of the streets Where I grew up and found my feet They can't look me in the eye It's like they scared of me I tried to think of things to say Like a joke or a memory But they don't recognize me now In the light of day. I know I'm not the only one Who regrets the things they've done Sometimes I just feel it's only me Who never became who they thought they'd be I wish I could live a little more Look up to the sky not just the floor I feel like my life is flashing by And all I can do is watch and cry I miss the air I miss my friends I miss my mother I miss it when, Life was a party to be thrown But that was a million years ago A Million Years Ago...\n",
      "\n",
      "Title: My Same\n",
      "Lyrics: You said I'm stubborn and I never give in I think you're stubborn 'cept you're always softening You say I'm selfish, I agree with you on that I think you're giving out in way too much in fact I say we've only known each other a year You say I've known you longer my dear You like to be so close, I like to be alone I like to sit on chairs and you prefer the floor Walking with each other, Think we'll never match at all, but we do But we do, but we do, but we do I thought I knew myself, somehow you know me more I've never known this, never before You're the first to make up whenever we argue I don't know who I'd be if I didn't know you You're so provocative, I'm so conservative You're so adventurous, I'm so very cautious, combining You think we would and we do, But we do, but we do, but we do Favoritism ain't my thing but, In this situation I'll be glad Favoritism ain't my thing but, In this situation I'll be glad to make an exception You said I'm stubborn and I never give in I think you're stubborn 'cept you're always softening You say I'm selfish, I agree with you on that I think you're giving out in way too much in fact I say we've only known each other one year You say I've known you longer my dear You like to be so close, I like to be alone I like to sit on chairs and you prefer the floor Walking with each other, Think we'll never match at all, but we do\n",
      "\n",
      "Title: One And Only\n",
      "Lyrics: You've been on my mind I grow fonder every day Lose myself in time Just thinking of your face God only knows why it's taken me So long to let my doubts go You're the only one that I want I don't know why I'm scared I've been here before Every feeling, every word I've imagined it all You'll never know if you never try To forget your past and simply be mine I dare you to let me be your, your one and only I promise I'm worthy To hold in your arms So come on and give me the chance To prove I am the one who can walk that mile Until the end starts If I've been on your mind You hang on every word I say Lose yourself in time At the mention of my name Will I ever know how it feels to hold you close And have you tell me Whichever road I choose, you'll go? I don't know why I'm scared 'Cause I've been here before Every feeling, every word I've imagined it all You'll never know if you never try To forget your past and simply be mine I dare you to let me be your, your one and only I promise I'm worthy, mm To hold in your arms So come on and give me the chance To prove I am the one who can walk that mile Until the end starts I know it ain't easy giving up your heart I know it ain't easy giving up your heart Nobody's perfect (I know it ain't easy giving up your heart) Trust me I've learned it Nobody's perfect (I know it ain't easy giving up your heart) Trust me I've learned it Nobody's perfect (I know it ain't easy giving up your heart) Trust me I've learned it Nobody's perfect (I know it ain't easy giving up your heart) Trust me I've learned it So I dare you to let me be your, your one and only I promise I'm worthy To hold in your arms So come on and give me the chance To prove that I am the, one who can walk that mile Until the end starts Come on and give me the chance To prove that I am the one who can, walk that mile Until the end starts\n",
      "\n",
      "Title: Remedy\n",
      "Lyrics: [Verse 1] I remember all of the things that I thought I wanted to be So desperate to find a way out of my world and finally breathe Right before my eyes I saw, my heart it came to life This ain't easy, it's not meant to be Every story has its scars [Chorus] But when the pain cuts you deep When the night keeps you from sleeping Just look and you will see That I will be your remedy When the world seems so cruel And your heart makes you feel like a fool I promise you will see That I will be, I will be your remedy Ohhh, ohhh [Verse 2] No river is too wide or too deep for me to swim to you Come whatever I'll be the shelter that won't let the rain come through Your love, it is my truth And I will always love you Love you, love you [Chorus x2] But when the pain cuts you deep When the night keeps you from sleeping Just look and you will see That I will be your remedy When the world seems so cruel And your heart makes you feel like a fool I promise you will see That I will be, I will be your remedy Ohhh, ohhh\n",
      "\n",
      "Title: Right As Rain\n",
      "Lyrics: Who wants to be right as rain It's better when something is wrong You get excitement in your bones And everything you do's a game When night comes and you're on your own You can say I chose to be alone Who wants to be right as rain It's harder when you're on top 'Cause when hard work don't pay off And I'm tired there ain't no room in my bed As far as I'm concerned So wipe that dirty smile off We won't be making up I've cried my heart out And now I've had enough of love Who wants to be riding high When you'll just crumble back on down You give up everything you are And even then you don't get far They make believe that everything Is exactly what it seems But at least when you're at your worst You know how to feel things 'Cause when hard work don't pay off And I'm tired there ain't no room in my bed As far as I'm concerned So wipe that dirty smile off We won't be making up I've cried my heart out And now I've had enough of love Go ahead and still my heart To make me cry again 'Cause it will never hurt As much as it did then We were both right And no one had blame But now I give up On this endless game 'Cause who wants to be right as rain It's better when something is wrong I get excitement in my bones Even though everything's a strain When night comes and I'm on my own You should know I chose to be alone Who wants to be right as rain It's harder when you're on top 'Cause when hard work don't pay off And I'm tired there ain't no room in my bed As far as I'm concerned So wipe that dirty smile off We won't be making up I've cried my heart out And now I've had enough of love No room in my bed As far as I'm concerned So wipe that dirty smile off We won't be making up I've cried my heart out And now I've had enough of love\n",
      "\n",
      "Title: River Lea\n",
      "Lyrics: [Verse 1] Everybody tells me it's 'bout time that I moved on And I need to learn to lighten up and learn how to be young But my heart is a valley, it's so shallow and man made I'm scared to death if I let you in that you'll see I'm just a fake Sometimes I feel lonely in the arms of your touch But I know that's just me cause nothing ever is enough When I was a child I grew up by the River Lea There was something in the water, now that something's in me Oh I can't go back, but the reeds are growing out of my fingertips I can't go back to the river [Pre-Chorus] But it's in my roots, it's in my veins It's in my blood and I stain every heart that I use to heal the pain But it's in my roots, it's in my veins It's in my blood and I stain every heart that I use to heal the pain [Chorus] So I blame it on the River Lea, the River Lea, the River Lea Yeah I blame it on the River Lea, the River Lea, the River Lea [Verse 2] I should probably tell you now before it's way too late That I never meant to hurt you or lie straight to your face Consider this my apology, I know it's years in advance But I'd rather say it now in case I never get the chance No I can't go back, but the reeds are growing out of my fingertips I can't go back to the river [Pre-Chorus] But it's in my roots, it's in my veins It's in my blood and I stain every heart that I use to heal the pain It's in my roots, it's in my veins It's in my blood and I stain every heart that I use to heal the pain [Chorus] So I blame it on the River Lea, the River Lea, the River Lea Yeah I blame it on the River Lea, the River Lea, the River Lea So I blame it on the River Lea, the River Lea, the River Lea Yeah I blame it on the River Lea, the River Lea, the River Lea [Outro] River Lea, River Lea River Lea, River Lea River Lea, River Lea River Lea, River Lea The River Lea-Lea-Lea-Lea The River Lea-Lea-Lea-Lea The River Lea-Lea-Lea-Lea The River Lea-Lea-Lea-Lea\n",
      "\n",
      "Title: Rumour Has It\n",
      "Lyrics: She, she ain't real, She ain't gonna be able to love you like I will, She is a stranger, You and I have history, Or don't you remember Sure, she's got it all, But, baby, is that really what you want Bless your soul, you've got you're head in the clouds, You made a fool out of you, And, boy, she's bringing you down, She made your heart melt, But you're cold to the core, Now rumor has it she ain't got your love anymore Rumor has it, ooh, Rumor has it, ooh, Rumor has it, ooh, Rumor has it, ooh, Rumor has it, ooh, Rumor has it, ooh, Rumor has it, ooh, Rumor has it, ooh She is half your age, But I'm guessing that's the reason that you stayed, I heard you've been missing me, You've been telling people things that you shouldn't be, Like when we creep out and she ain't around, Haven't you heard the rumors Bless your soul, you've got your head in the clouds, You made a fool out of me, And, boy, you're bringing me down, You made my heart melt, yet I'm cold to the core, But rumor has it I'm the one you're leaving her for, Rumor has it, ooh, Rumor has it, ooh, Rumor has it, ooh, Rumor has it, ooh, Rumor has it, ooh, Rumor has it, ooh, Rumor has it, ooh, Rumor has it, ooh All of these words whispered in my ear, Tell a story that I cannot bear to hear, Just 'cause I said it, it don't mean that I meant it, People say crazy things, Just 'cause I said it, don't mean that I meant it, Just 'cause you heard it Rumor has it, ooh, Rumor has it, ooh, Rumor has it, ooh, Rumor has it, ooh, Rumor has it, ooh, Rumor has it, ooh, Rumor has it, ooh, Rumor has it, ooh, Rumor has it, ooh, Rumor has it, ooh, Rumor has it, ooh, Rumor has it, ooh, Rumor has it, ooh, Rumor has it, ooh But rumor has it he's the one I'm leaving you for.\n",
      "\n",
      "Title: Send My Love (To Your New Lover)\n",
      "Lyrics: [Intro] Just the guitar? Okay, cool [Verse 1] This was all you, none of it me You put your hands on on my body and told me Told me you were ready For the big one, for the big jump I'd be your last love everlasting, you and me Mmm, that was what you told me [Pre-Chorus] I'm giving you up I've forgiven it all You set me free, oh [Chorus] Send my love to your new lover Treat her better We've gotta let go of all of our ghosts We both know we ain't kids no more Send my love to your new lover Treat her better We've gotta let go of all of our ghosts We both know we ain't kids no more [Verse 2] I was too strong, you were trembling You couldn't handle the hot heat rising (rising) Mmm, baby I'm so rising I was running, you were walking You couldn't keep up, you were falling down (down) Mmm, there's only one way down [Pre-Chorus] I'm giving you up I've forgiven it all You set me free, oh [Chorus] Send my love to your new lover Treat her better We've gotta let go of all of our ghosts We both know we ain't kids no more Send my love to your new lover Treat her better We've gotta let go of all of our ghosts We both know we ain't kids no more [Bridge] If you're ready, if you're ready If you're ready, I am ready If you're ready, if you're ready We both know we ain't kids no more No, we ain't kids no more [Pre-Chorus] I'm giving you up I've forgiven it all You set me free, oh [Chorus] Send my love to your new lover Treat her better We've gotta let go of all of our ghosts We both know we ain't kids no more Send my love to your new lover Treat her better We've gotta let go of all of our ghosts We both know we ain't kids no more [Outro] If you're ready, if you're ready (Send my love to your new lover) If you're ready, are you ready? (Treat her better) We've gotta let go of all of our ghosts We both know we ain't kids no more If you're ready, if you're ready (Send my love to your new lover) If you're ready, are you ready? (Treat her better) We've gotta let go of all of our ghosts We both know we ain't kids no more\n",
      "\n",
      "Title: Take It All\n",
      "Lyrics: Didn't I give it all? Tried my best Gave you everything I had, everything and no less Didn't I do it right? Did I let you down? Maybe you got too used to having me 'round Still how can you walk away From all my tears It's gonna be an empty road without me right here But go on and take it, take it all with you Don't look back at this crumbling fool Just take it all with my love, take it all with my love Maybe I should leave, to help you see Nothing is better than this and this is everything we need So is it over? Is this really it, you're giving up so easily I thought you loved me more than this But go on, go on, take it, take it all with you Don't look back at this crumbling fool Just take it all with my love, take it all with my love I will change if I must Slow it down and bring it home, I will adjust Oh if only, if only you knew Everything I do, is for you But go on and take it, take it all with you Don't look back at this crumbling fool Just take it, take it all with you Don't look back at this crumbling fool Just take it all, with my love Take it all with my love Take it all with my love\n",
      "\n",
      "Title: Tired\n",
      "Lyrics: Hold my hand while you cut me down It had only just begun but now it's over now And you're in the heat of moments with your heart playing up cold I'm between the middle watching hastiness unfold In my eyes you were smiling in the spotlight dancing with the night The night Fell off your mind I'm tired of trying Your teasing ain't enough Fed up of biding your time When I don't get nothing back And for what, and for what, and for what When I don't get nothing back Oy, I'm tired Where'd you go when you stayed behind I looked up and inside down and outside only to find A double taking punching hard and laughing at my smile I get closer you obviously prefer her I'm tired of trying Your teasing ain't enough Fed up of biding your time When I don't get nothing back And for what, and for what, and for what When I don't get nothing back Boy I'm tired of trying Your teasing ain't enough Fed up of biding your time When I don't get nothing back And for what, and for what, and for what When I don't get nothing back Oy, I'm tired (I should have known) Never mind said your open arms I couldn't help believe they tricked me back into them, even though I'm tired of trying Your teasing ain't enough Fed up of biding your time When I don't get nothing back And for what, and for what, and for what When I don't get nothing back Boy I'm tired of trying Your teasing ain't enough Fed up of biding your time When I don't get nothing back And for what, and for what, and for what When I don't get nothing back Oy, I'm tired\n",
      "\n",
      "Title: Turning Tables\n",
      "Lyrics: Close enough to start a war All that I have is on the floor God only knows what we're fighting for All that I say, you always say more I can't keep up with your turning tables Under your thumb, I can't breathe So I won't let you close enough to hurt me No, I won't ask you, you to just desert me I can't give you, what you think you gave me It's time to say goodbye to turning tables To turning tables Under haunted skies I see you Where love is lost, your ghost is found I braved a hundred storms to leave you As hard as you try, no I will never be knocked down I can't keep up with your turning tables Under your thumb, I can't breathe So I won't let you close enough to hurt me, no I won't ask you, you to just desert me I can't give you, what you think you gave me It's time to say goodbye to turning tables Turning tables Next time I'll be braver I'll be my own savior When the thunder calls for me Next time I'll be braver I'll be my own savior Standing on my own two feet I won't let you close enough to hurt me, no I won't ask you, you to just desert me I can't give you, what you think you gave me It's time to say goodbye to turning tables To turning tables Turning tables, yeah Turning oh\n",
      "\n",
      "Title: When We Were Young\n",
      "Lyrics: [Verse 1] Everybody loves the things you do From the way you talk To the way you move Everybody here is watching you Cause you feel like home You're like a dream come true But if by chance you're here alone Can I have a moment Before I go? Cause I've been by myself all night long Hoping you're someone I used to know [Pre-Chorus] It looks like a movie It sounds like a song My God, this reminds me Of when we were young [Chorus] Let me photograph you in this light In case it is the last time that we might Be exactly like we were before we realised We were sad of getting old it made us restless It was just like a movie It was just like a song [Verse 2] I was so scared to face my fears Nobody told me that you'd be here And I swore you moved overseas That's what you said when you left me [Pre-Chorus] You still look like a movie You still sound like a song My God, this reminds me Of when we were young [Chorus] Let me photograph you in this light In case it is the last time that we might Be exactly like we were before we realised We were sad of getting old it made us restless It was just like a movie It was just like a song [Bridge] My God, this reminds me Of when we were young [Verse 3] It's hard to admit that Everything just takes me back To when you were there To when you were there And a part of me keeps holding on Just in case it hasn't gone I guess I still care Do you still care? [Pre-Chorus] It was just like a movie It was just like a song My God, this reminds me Of when we were young [Bridge] My God, this reminds me Of when we were young [Chorus] Let me photograph you in this light In case it is the last time that we might Be exactly like we were before we realised We were sad of getting old it made us restless I'm so mad I'm getting old It makes me reckless It was just like a movie It was just like a song When we were young\n",
      "\u001b[0m\n",
      "Thought:\u001b[32;1m\u001b[1;3mI have reviewed the lyrics and identified the following recurring themes:\n",
      "\n",
      "1.  **Heartbreak and Loss:** This is perhaps the most dominant theme, exploring the pain, regret, and recovery associated with failed relationships.\n",
      "    *   \"Hello from the other side / I must've called a thousand times / To tell you I'm sorry, for everything that I've done\" (Hello)\n",
      "2.  **Longing and Nostalgia:** Many songs reflect on past relationships and happier times, often with a sense of longing and a desire to return to those moments.\n",
      "    *   \"Let me photograph you in this light / In case it is the last time that we might / Be exactly like we were before we realised / We were sad of getting old it made us restless\" (When We Were Young)\n",
      "3.  **Self-Reflection and Regret:** Adele's lyrics often delve into personal flaws, mistakes, and the consequences of past actions.\n",
      "    *   \"I know I have a fickle heart and a bitterness / And a wandering eye, and a heaviness in my head\" (Don't You Remember)\n",
      "4.  **Hope and Resilience:** Despite the prevalent themes of heartbreak and regret, there is often an underlying sense of hope and the determination to move forward.\n",
      "    *   \"Never mind, I'll find someone like you / I wish nothing but the best for you, too\" (Someone Like You)\n",
      "5.  **Vulnerability and Honesty:** Adele's songs are known for their raw emotional honesty, revealing a willingness to be vulnerable and share personal struggles.\n",
      "    *   \"Take your eyes off me so I can leave / I'm far too ashamed to do it with you watching me\" (Love In The Dark)\n",
      "\n",
      "Final Answer: The top 5 main themes in Adele's lyrics are: Heartbreak and Loss (\"Hello from the other side / I must've called a thousand times / To tell you I'm sorry, for everything that I've done\"), Longing and Nostalgia (\"Let me photograph you in this light / In case it is the last time that we might / Be exactly like we were before we realised / We were sad of getting old it made us restless\"), Self-Reflection and Regret (\"I know I have a fickle heart and a bitterness / And a wandering eye, and a heaviness in my head\"), Hope and Resilience (\"Never mind, I'll find someone like you / I wish nothing but the best for you, too\"), and Vulnerability and Honesty (\"Take your eyes off me so I can leave / I'm far too ashamed to do it with you watching me\").\u001b[0m\n",
      "\n",
      "\u001b[1m> Finished chain.\u001b[0m\n"
     ]
    },
    {
     "data": {
      "text/markdown": [
       "The top 5 main themes in Adele's lyrics are: Heartbreak and Loss (\"Hello from the other side / I must've called a thousand times / To tell you I'm sorry, for everything that I've done\"), Longing and Nostalgia (\"Let me photograph you in this light / In case it is the last time that we might / Be exactly like we were before we realised / We were sad of getting old it made us restless\"), Self-Reflection and Regret (\"I know I have a fickle heart and a bitterness / And a wandering eye, and a heaviness in my head\"), Hope and Resilience (\"Never mind, I'll find someone like you / I wish nothing but the best for you, too\"), and Vulnerability and Honesty (\"Take your eyes off me so I can leave / I'm far too ashamed to do it with you watching me\")."
      ],
      "text/plain": [
       "<IPython.core.display.Markdown object>"
      ]
     },
     "execution_count": 373,
     "metadata": {},
     "output_type": "execute_result"
    }
   ],
   "source": [
    "# Initialize the agent with your tool and model\n",
    "agent_executor = initialize_agent(\n",
    "    tools,\n",
    "    model,\n",
    "    agent=AgentType.ZERO_SHOT_REACT_DESCRIPTION,\n",
    "    verbose=True\n",
    ")\n",
    "\n",
    "artist = 'Adele'\n",
    "\n",
    "query = f\"Summarize the top 5 main themes in {artist}'s lyrics. For each theme please quote some lyrics\"\n",
    "response = agent_executor.run(query)\n",
    "Markdown(response)"
   ]
  },
  {
   "cell_type": "markdown",
   "id": "173a6798",
   "metadata": {},
   "source": [
    "## 3.5 Prompt AI agent executor"
   ]
  },
  {
   "cell_type": "code",
   "execution_count": null,
   "id": "4a49eb2e",
   "metadata": {},
   "outputs": [],
   "source": [
    "system_prompt = \"\"\"\n",
    "With the name of an artist as an input, and the lyrics of their songs from the get_lyrics tool,\n",
    "you are tasked to summarize the top 5 themes in their lyrics.\n",
    "\n",
    "Below is an example of the format to use for the response:\n",
    "Here are the 5 main themes in {artist}'s songs:\n",
    "1. Uncertainty and Doubt\n",
    "    The song revolves around the question of whether to keep pursuing a relationship or give up. This doubt is clear in the repeated lines:\n",
    "    “Should I give up? Or should I just keep chasing pavements? Even if it leads nowhere.”\n",
    "\n",
    "2. Love vs. Rationality\n",
    "    Adele expresses the tension between emotional conviction and logical thinking. She knows it’s love but questions if it’s worth continuing:\n",
    "    “This ain't lust, I know this is love, but if I tell the world I'll never say enough.”\n",
    "\n",
    "3. Fear of Waste and Futility\n",
    "    There is a strong fear that continuing the pursuit might be pointless or a waste of effort:\n",
    "    “Or would it be a waste? Even if I knew my place, should I leave it there?”\n",
    "\n",
    "4. Hope and Perseverance\n",
    "    Despite doubts, she shows a desire to keep trying, to keep “chasing pavements,” hoping for a positive outcome even if the path is unclear:\n",
    "    “I build myself up and fly around in circles, waiting as my heart drops.”\n",
    "\n",
    "5. Self-reflection and Decision-Making\n",
    "    The song is about introspection and the difficult process of making a decision about love and whether to keep going or move on:\n",
    "    “I've made up my mind, don't need to think it over, if I'm wrong, I am right.”\n",
    "\n",
    "These themes together create a nuanced emotional landscape about love, uncertainty, and the struggle between hope and letting go.\n",
    "\"\"\""
   ]
  },
  {
   "cell_type": "code",
   "execution_count": 378,
   "id": "dab1c132",
   "metadata": {},
   "outputs": [],
   "source": [
    "agent_2 = create_react_agent(model, tools, prompt=system_prompt)"
   ]
  },
  {
   "cell_type": "code",
   "execution_count": null,
   "id": "6fd8f9ed",
   "metadata": {},
   "outputs": [
    {
     "name": "stdout",
     "output_type": "stream",
     "text": [
      "================================\u001b[1m Human Message \u001b[0m=================================\n",
      "\n",
      "Synthétise les top 5 thèmes des paroles de Dadju et score leur pertinence. Pour chaque thème cite 3 différentes paroles\n",
      "==================================\u001b[1m Ai Message \u001b[0m==================================\n",
      "\n",
      "Bien sûr, je peux faire ça.\n",
      "Tool Calls:\n",
      "  get_lyrics (4291bf6a-9ca3-4c71-91d4-5c0dcd82d866)\n",
      " Call ID: 4291bf6a-9ca3-4c71-91d4-5c0dcd82d866\n",
      "  Args:\n",
      "    artist_name: Dadju\n",
      "=================================\u001b[1m Tool Message \u001b[0m=================================\n",
      "Name: get_lyrics\n",
      "\n",
      "Title: J'ai zayé\n",
      "Lyrics: J'sais qu'elle m'apprécie comme pas possible Plus j'insiste, plus elle est indécise Mais je dois continuer, continuer Devant la petite, oh, j'ai zayé, oh C'est la fierté qui va nous die, yeah, oh Taykee de Taykee Die, yeah, oh Approche-toi de moi, viens kulosa, j'connais pas la chorée, apprends-moi pretty dance, ah J'prendrais soin de toi un petit peu mieux qu'l'a fait ton père Viens, on décale là où y aura beaucoup de solaire Ouh, ouh, ouh, elle me dit Dadju ne te trompe pas Tu sais quoi me faire tard la nuit sur du kompa J'ai d'jà rayer la liste des hommes, c'est mort, ils ne comptent pas T'es mon number one, t'es mon combat Devant la petite oh, j'ai zayé, oh (J'ai zayé, j'ai zayé, j'ai zayé) C'est la fierté qui va nous die, yeah, oh (Qui va nous die, yeah, nous die, yeah, nous die, yeah) J'lui ai pas donné c'qu'il lui fallait, oh (Ce qu'il lui fallait, lui fallait, lui fallait) Qui va parler jusqu'en dernier, oh?Jusqu'en dernier, oh (Ouh, oh, oh, ah) J'sais qu'elle m'apprécie comme pas possible (Comme pas possible) Plus j'insiste, plus elle est indécise (Ouh, elle est indécise) Mais je dois continuer, continuer Mais je dois continuer, continuer (Ouh, ah, ah) J'sais qu'elle m'apprécie comme pas possible (Comme pas possible) Elle est maligne, elle connait tous mes ces-vi (ces-Vi) Mais je dois continuer, continuer (Continuer, continuer) Devant la petite oh, j'ai zayé, oh (J'ai zayé, j'ai zayé, j'ai zayé) C'est la fierté qui va nous die, yeah, oh (Qui va nous die, yeah, nous die, yeah, nous die, yeah) J'lui ai pas donné c'qu'il lui fallait, oh (Ce qu'il lui fallait, lui fallait, lui fallait,toi ou moi?) Qui va parler jusqu'en dernier, oh?Jusqu'en dernier, oh (Ouh, oh, oh, ah) J'peux pas faire ça tout seul Pour aimer faut être deux donc forcément, j'ai l'seum Ensemble, on peut ver-esqui tous les mauvais œils Mais t'es plus là, moi dans mon cœur, j'fais l'deuil Na-na-na, hasta luego, t'as hésité, j't'ai dit: \"Hasta luego\" Donne-moi un... que j'l'allume sans fuego Trop d'soucis, trop [?] Devant la petite oh, j'ai zayé, oh (J'ai zayé, j'ai zayé, j'ai zayé) C'est la fierté qui va nous die, yeah, oh (Qui va nous die, yeah, nous die, yeah, nous die, yeah) J'lui ai pas donné c'qu'il lui fallait, oh (Ce qu'il lui fallait, lui fallait, lui fallait,toi ou moi?) Qui va parler jusqu'en dernier, oh?Jusqu'en dernier, oh (Ouh, oh, oh, ah) J'sais qu'elle m'apprécie comme pas possible (Comme pas possible) Plus j'insiste, plus elle est indécise (Ouh, elle est indécise) Mais je dois continuer, continuer Mais je dois continuer, continuer (Ouh, ah, ah, ah) J'sais qu'elle m'apprécie comme pas possible (Comme pas possible) Elle est maligne, elle connait tous mes ces-vi (Mes ces-vi) Mais je dois continuer, continuer (Continuer, continuer) Devant la petite oh, j'ai zayé, oh (J'ai zayé, j'ai zayé, j'ai zayé) C'est la fierté qui va nous die, yeah, oh (Qui va nous die, yeah, nous die, yeah, nous die, yeah) J'lui ai pas donné c'qu'il lui fallait, oh (Ce qu'il lui fallait, lui fallait, lui fallait,toi ou moi?) Qui va parler jusqu'en dernier, oh?Jusqu'en dernier, oh (Ouh, oh, oh, ah)\n",
      "\n",
      "Title: Makila : Wablé\n",
      "Lyrics: Ambiances Oh, Masami sou'ci wablé Masami sou'ci wablé Oh, Mbeyleli sou'ci wablé Masami sou'ci wablé Oh, Masami sou'ci wablé (Oh, Masami) Masami sou'ci wablé (Oh, Masami sou'ci wablé) Oh, Mbeyleli sou'ci wablé Masami sou'ci wablé Makila na nga Osali mabe ti na kati ya motema To zalaka ba ndeko lelo to ko boundana Ezala mbala suka to bengana makila Ah, ah Makila na nga Osali mabe ti na kati ya motema To zalaka ba ndeko lelo to ko boundana Ezala mbala suka to bengana makila Ah, ah Ambiances Makila Wablé Oh, Masami sou'ci wablé Masami sou'ci wablé (Oh, Masami sou'ci wablé) Oh, Mbeyleli sou'ci wablé Masami sou'ci wablé Oh, Masami sou'ci wablé (Masami, Masami) Masami sou'ci wablé (Sou'ci wablé) Oh, Mbeyleli sou'ci wablé (Mbeyleli sou'ci wablé) Masami sou'ci wablé Makila na nga Osali mabe ti na kati ya motema To zalaka ba ndeko lelo to ko boundana Ezala mbala suka to bengana makila Ah, ah Makila na nga Osali mabe ti na kati ya motema To zalaka ba ndeko lelo to ko boundana Ezala mbala suka to bengana makila Ah, ah Ambiances Makila Wablé Oh, mon frère (Ne m'appelle plus jamais mon frère) Tu étais mon frère (Ne m'appelle plus jamais mon frère, oh, non) Oh, mon frère, oh Makila Wablé Oh, mon frère (Ne m'appelle plus jamais mon frère) Tu étais mon frère (Ne m'appelle plus jamais mon frère, oh, non) Oh, mon frère, oh Makila Wablé Ambiances\n",
      "\n",
      "Title: I love you\n",
      "Lyrics: Oh, oh, ah Taykee de Taykee Et si je te dis que je t'aime Tu dois me répondre que tu m'aimes C'est tellement simple Un peu comme un plus un font deux Et si tu me dis que tu m'aimes Je te repondrai que je t'aime, non Je prends ta main, je ferme les yeux et je me sens mieux (Oh, let's go) Oh, baby, I love, I love, I love, I love, I love you, oh (I love you beaucoup) I love, I love, I love, I love, I love you, oh (I love you beaucoup) Oh, baby, I love, I love, I love, I love, I love you, oh (I love you beaucoup) I love, I love, I love, I love, I love you, oh Je vais casser toutes mes montres Peu importe ce que ça va me coûter, oh (Mon cœur a parlé) Quand j’aime le temps doit pas s'écouler, oh Et depuis que toi c’est moi J’ai tout oublié du passé, oh, ma chérie Hmm, dis moi où tu t’étais cachée, oh, yeah Oh, pourquoi j’ai mal, mal Pourquoi je suis blessé, oh (Bouh) J’ai demandé à Dieu de nous séparer mais il n’veut pas m’éxaucer, oh Oh, c’est lui qui sait et son plan est déjà calé, oh Donc si c’est pour toi c’est avec la joie que je vais pleurer, oh Et si je te dis que je t'aime Tu dois me répondre que tu m'aimes C'est tellement simple Un peu comme un plus un font deux Et si tu me dis que tu m'aimes Je te repondrai que je t'aime, non Je prends ta main, je ferme les yeux et je me sens mieux (Oh, let's go) Oh, baby, I love, I love, I love, I love, I love you, oh (I love you beaucoup) I love, I love, I love, I love, I love you, oh (I love you beaucoup) Oh, baby, I love, I love, I love, I love, I love you, oh (I love you beaucoup) I love, I love, I love, I love, I love you, oh Et si la foudre frappe une seconde L'amour lui n’peut pas finir (Jamais) Laisse moi guérir de tous tes bobos ma chérie (Ah, na, na, na) Je n’peux plus souffrir Souffrance même cherche à te fuire Écoute ma poitrine mon coeur a des choses à te dire, hmm Allez donne tes larmes, oh, donne tes cris Tout ce qu’ils t’ont fait on va oublier Prends moi cadeau, fais moi oublier mon goumin Allez prends moi tout, garde le pour toi, eh Et si le ciel me rappelle c’est devant toi que je veux fermer les yeux Baby, I... Oh, baby, I love, I love, I love, I love, I love you, oh (I love you beaucoup, mama, eh) I love, I love, I love, I love, I love you, oh (Baby, I love you, eh) Oh, baby, I love, I love, I love, I love, I love you, oh (I love you beaucoup) I love, I love, I love, I love, I love you, oh Oh, baby, I love, I love, I love, I love, I love you, oh (I love you beaucoup, mama, eh) I love, I love, I love, I love, I love you, oh (Hmm, baby, I love you, mama, eh) Oh, baby, I love, I love, I love, I love, I love you, oh (I love you beaucoup, baby) I love, I love, I love, I love, I love you, oh Encore une fois, tout est écrit Comme une boucle infinie, tu reviens dans ma vie Encore une fois, tout est écrit Comme une boucle infinie, donc tu reviens dans ma vie Oh, baby, I love, I love, I love, I love, I love you I love, I love, I love, I love, I love you Oh, baby, I love, I love, I love, I love, I love you I love, I love, I love you\n",
      "\n",
      "Title: Le contrat\n",
      "Lyrics: Ouh-ouh-ouh Ouh-ouh-ouh Ouh, you love, you love, oh Ouh-woah Oh-oh-oh, j'ai signé le contrat, toi et moi c'est bouclé (Bah) La vie c'est le combat, avec toi je n'ai pas douté Oh-oh-oh, oh-oh, le contrat, oh, toi et moi c'est bouclé Oh-oh-oh, le contrat, oui, le contrat, oh Ils ont fuit, trop tôt (Tant pis) Ouais, là ils ont fui un peu trop tôt Depuis qu'les comptes se sont rempli On est beaucoup moins sur les photos (Eh) Tu est la seule qui est restée, oh Seulement deux jours qu'on est lié, oh-woah (C'est vrai) Tu as les clés, faut verrouiller, oh-woah (C'est vrai) Tout est signé J'ai signé le contrat (Uh-huh), toi еt moi c'est bouclé (Okay) La vie c'est lе combat (Uh-huh), avec toi je n'ai pas douté Oh-oh-oh, oh-oh, le contrat, oh, toi et moi c'est bouclé Oh-oh-oh, le contrat, oui, le contrat, oh Na nga, yo na nga, yo na nga, yo na nga Oh yo na nga, yo na nga, yo na nga, yo na nga Oh yo na nga, yo na nga, yo na nga, yo na nga Oh yo na nga, yo na nga, yo na nga, yo na nga Oh yo na nga, yo na nga, yo na nga, yo na nga Ma chérie, viens t'asseoir, c'est maintenant qu'on doit parler On a danser le Makossa, si y a kongossa, ça n'a qu'à continuer, hi, yeah, eh Tu portes mon nom, ne laisse aucun d'eux le salir Plus rien ne sera comme avant, j'ai mis à ton doigt du saphir Oh-oh-oh, j'ai signé le contrat (Tout es signé), toi et moi c'est bouclé (J'suis un homme comblé) La vie c'est le combat (La vie un combat), avec toi je n'ai pas douté Oh-oh-oh, oh-oh, le contrat (Le contrat, yeah), oh, toi et moi c'est bouclé (Oh, oh, oh) Oh-oh-oh, le contrat, oui, le contrat, oh Na nga, yo na nga, yo na nga, yo na nga Oh yo na nga, yo na nga, yo na nga, yo na nga Oh yo na nga, yo na nga, yo na nga, yo na nga Oh yo na nga, yo na nga, yo na nga, yo na nga Oh yo na nga, yo na nga, yo na nga, yo na nga Okay, Casanova Man, I'm gonna be a Casanova Y'a pas de Casanova Man, I'm gonna be a Casanova Oh-oh-oh, j'ai signé le contrat (Casanova) Oh-oh-oh, j'ai signé le contrat Oh-oh-oh, le contrat, oui, le contrat, yeah Ouais, ouais, voilà Vous mettez toutes vos billes dans le même panier Êtes-vous vraiment prêt à l'assumer? C'est pour toute la vie À plein d'épreuves, vous serez confronté Crise après crise, faut tenir, rester unis Le projet de fonder une famille En faire votre priorité, c'est facile sur le papier Ce que vous avez entrepris, aujourd'hui impose le respect Vos couples en mode yo na nga, yo na nga Impliquerons de nouvelles danses, oh-oh-oh Yo na nga, yo na nga, il aura des conséquences Vous en ferez des baby mama, baby mama, mama Baby mama, évitez les dramas Oh, baby mama, baby mama, mama Même si elles prennent quelques kilogrammes\n",
      "\n",
      "Title: Épouse-moi\n",
      "Lyrics: Oh-oh, oh-oh-oh (Épouse-moi) Oh-oh, oh-oh-oh (Marie-moi, marie-moi, eh) Oh-oh, oh-oh-oh (Épouse-moi, épouse-moi) Oh-oh, oh-oh-oh Tu peux tout dire mais jamais qu'je n'ai pas fait c'que j'ai promis, yeah (Yeah) Pour nous j'ai mis le monde entier sur mon dos (Wouh-wouh, wouh-wouh, yeah) Avec toi, je veux donner la vie, yeah Faire de vous le plus beau des fardeaux Moi j'ai prié toute la vie, oh J'ai voulu toute ma vie, oh Qu'on soit réuni, oh Rêvé toutes les nuits, oh J'avais le scénario Ouh-wouh-wouh-wouh Les mains vers le ciel, yeah Dieu m'a donné miеux Reste avec moi viеux, oh mama Meurt avec moi vieux (Oh-oh-oh) Oh-oh, oh-oh-oh (Épouse-moi) Oh-oh, oh-oh-oh (Marie-moi, marie-moi, eh) Oh-oh, oh-oh-oh (Épouse-moi, épouse-moi) Oh-oh, oh-oh-oh (Dis-moi oui, dis-moi oui, eh) Je dis: \"Oui\" Demande moi et je dis: \"Oui\" Oui, je sais pourquoi moi je dis: \"Oui\" Devant Dieu, moi je dis: \"Oui\" Oh-oh-oh, je dis: \"Oui\", yeah Demande moi et je dis: \"Oui\" Oui, je sais pourquoi moi je dis: \"Oui\" Oh, maman devant Dieu, moi je dis: \"Oui\" Oh-oh, oh-oh-oh (Limbisa nga limbisa nga ti yang mè) Oh-oh, oh-oh-oh (Limbisa nga limbisa nga ti yang mè) Oh-oh, oh-oh-oh (Limbisa nga limbisa nga ti yang mè) Oh-oh, oh-oh-oh (Limbisa nga limbisa nga ti yang mè) Les larmes sur ton visage pour commencer J'aime africaniser la romance Tant qu'mon coeur continuera d'faire: \"Toukou-toukou\" quand il te voit, tu pourras lui faire confiance J'veux qu'ta robe soit une Dolce ou Goyard Remplaçons les dragées par des soyard Sur du kedjevara, fais moi tchougou-tchougou, mon bébé, c'est encore toi qui mène la danse (Dis-moi oui, oui, yeah) Oh-oh, oh-oh-oh (Épouse-moi, épouse-moi, épouse-moi) Oh-oh, oh-oh-oh (Marie-moi, marie-moi, eh) Oh-oh, oh-oh-oh (Épouse-moi, épouse-moi, épouse-moi, épouse-moi) Oh-oh, oh-oh-oh (Dis-moi oui, dis-moi oui, eh) Je dis: \"Oui\" Demande moi et je dis: \"Oui\" Oui, je sais pourquoi moi je dis: \"Oui\" Devant Dieu, moi je dis: \"Oui\" Oh-oh-oh, je dis: \"Oui\", yeah (Oh, mama, yeah) Demande moi et je dis: \"Oui\" Oui, je sais pourquoi moi je dis: \"Oui\" Oh, maman devant Dieu, moi je dis: \"Oui\" Oh-oh, oh-oh-oh (Limbisa nga limbisa nga ti yang mè) Oh-oh, oh-oh-oh (Limbisa nga limbisa nga ti yang mè) Oh-oh, oh-oh-oh (Limbisa nga limbisa nga ti yang mè) Oh-oh, oh-oh-oh (Limbisa nga limbisa nga ti yang mè) Eh, les mariés, devant Dieu on est marié (Sou) Mariés, devant Dieu on est marié Allez mariés, devant Dieu on est marié Allez mariés, devant Dieu, oh Milolo, milolo, milolo, milolo A ndimi libala, eh, chérie Elle dit oui pour le mariage Lokola o lobi o lingui ye Eh, vanda ne bien pesa ye pe l'amour Fally lakisa biso, Fally lakisa biso Je fais de toi à jamais, priorité de ma vie, oh-oh Toko lokola mpata musobola ngai na yo Tous les jours, tout le temps Fally lakisa biso, Fally lakisa biso\n",
      "\n",
      "Title: La guitare suit la mélo\n",
      "Lyrics: Oh-oh Oh-oh-ah (Ah) Oh-ah-ah-ah-ah-ah L1, L2 SHK (SHK) Oh-oh Oh-oh-ah Oh-ah-ah Tous les jours tu m'demandes de choisir ce qui compte, c'est soit toi soit le monde (C'est soit toi, soit le monde) (Tu es mon seul espoir) Si j'te dis qu'je veux les deux, que pour moi ça va ensemble, t'es persuadé que je mens (T'es persuadé que je mens) J'irais bosser comme un esclave, la lune est en chemin, rеste là Désolé, ma chérie, j'veux dеs gosses de riches comme le boss de Tesla J'ai loupé quelques restau', j'irai t'acheter le restau' (Ah, oui) J'sors pas pour faire le beau, l'avenir appartient à ceux qui misent gros J'ai trop tourné sur Beriz, à la recherche du khaliss Bébé, dès qu'j'te donne le go, on décale aux Maldives sans valises (Let's go) Oublie le rêve des cains-ri, j'suis congolais comme Koffi Bébé, pour ton loketo, j'irai chercher l'soleil à minuit T'es la guitare, j'suis la mélo (J'suis la mélo), j'suis la mélo (J'suis la mélo) J'suis la mélo, la guitare suit la mélo, t'es la guitare, j'suis la mélo (J'suis la mélo) J'suis la mélo, j'suis la mélo, la guitare suit la mélo, hey Tous les jours tu m'demandes (Tout l'temps) de choisir ce qui compte (Qui compte), c'est soit toi soit le monde (Soit toi, soit le monde) Si j'te dis qu'je veux les deux (Si j'te dis), qu'pour moi ça va ensemble, t'es persuadé que je mens (T'es persuadé que je lie) L1, L2 (Oh-oh-ah) Oh-oh-ah (Yeah), Ochoa (Yeah), toxique, sucré comme un soda (Splash) Je la lèche puis l'allonge sur le sofa, toxique, sucré comme mon soda (Toxique, sucré) Trop pour moi, j'pense à toi quand tu penses à moi (La moula) Tu l'sais que y a toujours c'qui faut pour ta teuf, on fait des brésiliennes avec ta meuf Obsédé par l'argent, j'ai vendu la peuf, OCB, ganja, paro, baby, j'sors le neuf On sait déjà que il tient sa guitare, fume son bédo, fume son bédo, fume ses opposants (Tu es mon seul espoir) T'es la guitare, j'suis la mélo (J'suis la mélo), j'suis la mélo (La mélo) J'suis la mélo, la guitare suit la mélo, eh Tous les jours tu m'demandes (Tout l'temps) de choisir ce qui compte (Qui compte), c'est soit toi soit le monde (Soit toi, soit le monde) Si j'te dis qu'je veux les deux (Les deux), qu'pour moi ça va ensemble, t'es persuadé que je mens (T'es persuadé que je lie, ocho) J'veux la poussette dans le Merco (J'te pousse), ton cœur est ton rps-co (Ton cœur) On peut s'aimer sans mais j'préfère plusieurs zéros Toujours au rang de reine (Tout l'temps), si j'dois dire les termes (Si j'dois) J'veux rendre réel c'que tu vois la nuit quand tu rêves Oh-oh-ah\n",
      "\n",
      "Title: Mon soleil\n",
      "Lyrics: Hey Oh, oh, aïe Let's go, mon soleil S'amuser jour et nuit sans parler de sommeil Let's go, mon soleil On va goûter la vie, en entrée, plat, dessert Let's go, mon soleil Si c'est pas toi, c'est qui? Tu connais mon proverbe Let's go, mon soleil Abîmé ton brushing avec le toit ouvert, yeah Trop petit, les hommes superficiels pour toi, c'est trop petit C'est pas l'argent qui va combler ton appétit T'as fini de donner l'heure à n'importe qui, n'importe qui Haut débit, la connexion, c'est forcément du haut débit Tu gères les bails, tu veux l'respect d'une boss lady J'sais comment pimenter le reste de ta vie, oui (Yah, yah) T'es rentrée, tu veux plus sortir de ma tête (Yah, yah) J'suis bien partout avec toi pour être honnête (Yah, yah) C'est autour de toi que tourne ma planète (Yah, yah) Let's go, mon soleil S'amuser jour et nuit sans parler de sommeil Let's go, mon soleil On va goûter la vie, en entrée, plat, dessert Let's go, mon soleil Si c'est pas toi, c'est qui? Tu connais mon proverbe Let's go, mon soleil Abîmé ton brushing avec le toit ouvert, yeah Y tú tenías razón, ya tienes mi atención Perdí tiempo y nunca llené el corazón Sé bien lo que yo me merezco Yo contigo sin miedo yo me arriesgo Porque así la vida es así Bendición es tenerte aquí Vamos a seguir el momento Dejo libre todito lo que siento yo Como una estrella en el mar me haces brillar Y como la luna llena Let's go, mon soleil S'amuser jour et nuit sans parler de sommeil Let's go, mon soleil On va goûter la vie, en entrée, plat, dessert Let's go, mon soleil Si c'est pas toi, c'est qui? Tu connais mon proverbe Let's go, mon soleil Abîmé ton brushing avec le toit ouvert Let's go, mon soleil S'amuser jour et nuit sans parler de sommeil Let's go, mon soleil On va goûter la vie, en entrée, plat, dessert Let's go, mon soleil Si c'est pas toi, c'est qui? Tu connais mon proverbe Let's go, mon soleil Abîmé ton brushing avec le toit ouvert Let's go, mon soleil Je serais, eh, eh Pour toujours ta préférée, eh, eh (Let's go, mon soleil) Toujours là pour toi bébé, eh, eh Où tu veux quand tu veux (Let's go, mon soleil) Je serais, eh, eh Pour toujours ta préférée, eh, eh (Let's go, mon soleil) Toujours là pour toi bébé, eh, eh Où tu veux quand tu veux (Let's go, mon soleil)\n",
      "\n",
      "Title: Amour toxic\n",
      "Lyrics: Hey, on s'fait la guerre sans même encore et encore sans même vouloir la gagner C'est chacun son tour qui est ce qui se prendra la première balle du barillet À moitié déter' quand on se dit que cette fois si c'est terminer Le temps que l'on perd à se disputer, l'on n'pourra jamais le regagner Entre nous y a que de l'amour, mais trop difficile à éparpiller Entre nous y a que des retours, parce qu'on supporte pas d'être éloigné Un discours de sourd on n'prend même plus la peine de s'écouter C'est parce qu'on se connaît, yeah J'aime quand c'est toxique, quand ça sort du lot Quand ça se complique, quand y a plus les mots oh J'aime changer d'avis quand tu me tournes le dos Je te préfère près de moi, plutôt qu'chez un autre, yeah T'aimes quand c'est toxique, quand ça sort du lot Quand ça se complique, quand y a plus les mots oh T'aimes changer d'avis quand je te tourne le dos Je te préfère près de toi, plutôt qu'chez une autre, yeah Encore et encore, on se dit au revoir, sans se déterminer Faut changer d'ampoule à force de s'amuser avec l'électricité Et même dans noir on reste persuadé, que ça va jamais se terminer On garde un espoir tant qu'il reste des bulles dans la bouteille de Périgné On recommence à chaque fois la course, personne n'accepte de finir dernier On consumera tout notre amour jusqu'a on va le tasser dans le cendrier On s'est dit pour toujours, et toujours c'est le nom du calendrier Chérie, ma chérie, ma pire ennemie Je te déteste le jour, mais qu'est-ce que je t'aime la nuit, ouais Jamais d'accord sauf quand c'est pour dire ça va jamais finir, jamais finir Chérie, ma chérie, ma pire ennemie Je te déteste le jour, mais qu'est-ce que je t'aime la nuit, ouais Jamais d'accord sauf quand c'est pour dire ça va jamais finir, jamais finir J'aime quand c'est toxique, quand ça sort du lot (j'aime quand ça sort du lot) Quand ça se complique, quand y a plus les mots oh (j'aime quand y a plus les mots) J'aime changer d'avis quand tu me tournes le dos (j'aime ton bas du dos) Je te préfère près de moi, plutôt qu'chez un autre, yeah T'aimes quand c'est toxique, quand ça sort du lot (t'aimes quand ça sort du lot) Quand ça se complique, quand y a plus les mots oh (t'aimes quand y a plus les mots) T'aimes changer d'avis quand je te tourne le dos (quand je te tourne le dos) Je te préfère près de toi, plutôt qu'chez une autre, yeah Quand c'est toxique, quand ça sort du lot Quand ça se complique, quand y a plus les mots J'aime changer d'avis quand tu me tournes le dos Je te préfère près de moi, près de moi ah\n",
      "\n",
      "Title: Dieu merci\n",
      "Lyrics: Oh, eh, oh, eh, eh, oh, eh, oh Oh, eh, oh, eh, eh, oh, eh, oh Ma chérie, fais tes valises, on va quitter la street J'ai fait du bénéf' qu'on va investir en Afrique J'sais c'que c'est d'avoir la dalle, aujourd'hui, j'dis: \"Dieu merci\" C'est pas Paris mais la carte de crédit qui est magique, hum Oh, eh, oh, eh, eh, oh, eh, oh Oh, eh, oh, eh, eh, oh, eh, oh Oh, eh, oh, eh, eh, oh, eh, oh Oh, eh, oh, eh, eh, oh, eh, oh J'ai donné mes premiers llets-bi à mes tantines, Western au Congo Après, j'ai changé d'habits, Louis Vui', Gucci, pour me sentir beau J'en rêvais depuis petit donc j'ai pété le dernier Merco' Monte un peu dans le bolide, y aura toujours ta place à té-cô Comme le patron du four, on a les femmes, on a deux bigos T'as beau être le plus fort mais pour t'éteindre, on a la méthode Elle veut la bague au doigt, si j'ai plus rien, elle va m'tourner l'dos J'leur donne sans oublier, pas rancunier, j'suis c'genre de négro Ma chérie, fais tes valises, on va quitter la street J'ai fait du bénéf' qu'on va investir en Afrique J'sais c'que c'est d'avoir la dalle, aujourd'hui, j'dis: \"Dieu merci\" C'est pas Paris mais la carte de crédit qui est magique, hum Oh, eh, oh, eh, eh, oh, eh, oh Oh, eh, oh, eh, eh, oh, eh, oh Oh, eh, oh, eh, eh, oh, eh, oh Oh, eh, oh, eh, eh, oh, eh, oh À la base, y avait dalle que, on s'captait que pour taper l'ballon Maintenant, ça fait plus la queue, j'enfile 1000 eu', c'est mon pantalon Quand je dis que j'ai fait d'l'oseille, c'est qu'tout est bon Va briefer tous les baqueux, lui demander si c'est mon gamos Ah, quand y a pas l'oseille, je me sens mal, je me sens faible Pour oublier tout ça: du Jack au miel, remets dans l'verre Ils veulent ma SACEM, ils veulent mon buzz, ils veulent me faire Non, j'suis pas tout seul, y a tous mes srabs, y a tous mes frères Ma chérie, fais tes valises, on va quitter la street J'ai fait du bénéf' qu'on va investir en Afrique J'sais c'que c'est d'avoir la dalle, aujourd'hui, j'dis: \"Dieu merci\" (aujourd'hui) C'est pas Paris mais la carte de crédit qui est magique, hum (Dieu merci) Oh, eh, oh, eh, eh, oh, eh, oh Oh, eh, oh, eh, eh, oh, eh, oh Oh, eh, oh, eh, eh, oh, eh, oh Oh, eh, oh, eh, eh, oh, eh, oh Y a plus rien à faire ici (ici), j'ai déjà fait mon fe-bi Ma chérie a joli physique, vacances en CDI C'est l'scénario, eh, quitter l'bendo, eh Quitter l'bendo, eh, c'est l'scénario, eh Ma chérie, fais tes valises, on va quitter la street J'ai fait du bénéf' qu'on va investir en Afrique J'sais c'que c'est d'avoir la dalle, aujourd'hui, j'dis: \"Dieu merci\" C'est pas Paris mais la carte de crédit qui est magique, hum Oh, eh, oh, eh, eh, oh, eh, oh Oh, eh, oh, eh, eh, oh, eh, oh Oh, eh, oh, eh, eh, oh, eh, oh Oh, eh, oh, eh, eh, oh, eh, oh Tiako' la mélodie Hum, hum, Dadju Hum, hum, seysey Tiako' la mélodie Hum, hum, Dadju Oh, oh, ah\n",
      "\n",
      "Title: Jaloux remix\n",
      "Lyrics: Je suis jaloux Jaloux Je suis jaloux Hey Je sais pas à quoi tu t'attendais Avec moi, y a pas d'histoire de \"c'est juste un ami\" À qui tu veux faire avaler que ton corps ne dérange pas tes soi-disant amis? Mais t'inquiète pas, je ne doute pas de nous, ensemble on est stylé C'est pas une question d'fidélité Le problème ne vient pas de nous Les hommes je les connais, j'ai moi-même été de l'autre côté Oui j'ai fait du mal à je n'sais combien de femmes Et j'ai peur que tu deviennes mon retour de flamme J'te dis que j'ai fait du sale à je n'sais combien de femmes Et j'ai peur que tu deviennes mon retour de flamme Jaloux, oh-oh-ah Jaloux, ouh, hi, ah Je suis jaloux Jaloux, hi, ah Je suis jaloux, ah, hi Jaloux, ah, ah Jaloux, hi, hi Jaloux, hi, hi Oh-oh-ah Aigle Mwasi ya bato ebongi yo ovanda na ndako Na boya ba camarades ya mibali eh Lobi, lobi ba senga \"pia nga numéro na yo, pia nga adresse na yo eh\" Lobi ekoma \"pia nga Snap' na yo\" Lobi kuna a liké photo na Instagram Lobi kuna atindi mua \"LOL\", mua \"LOL\" Après lobi ekomi \"ovandaka wapi eh?\" Après lobi ekomi \"on est juste amis, on est juste amis\" Ou \"c'est le grand frère de ma copine\" Nga na boyi po je suis jaloux Nga na boya po je suis jaloux Jaloux, eh, eh, woh, ouh, woh Je suis jaloux Nga na boya po je suis jaloux, eh Si je t'aime, je suis jaloux Nana, je suis jaloux, eh En amour, moi je suis jaloux, eh, hi Quand j'aime, je suis jaloux, eh, eh Et j'ai confiance en toi mais j'suis jaloux, hi, hi Je l'avoue, je suis jaloux, yeah, yeah, yeah J'avoue, je suis jaloux Non, non, je suis jaloux eh, mon bébé (Jaloux) Pona, pona yo na koboma moto (Je suis jaloux) Pona, pona yo na koboma moto (Jaloux) Nako, na koboma likolo na yo (Je suis jaloux) Pona yo na koboma moto eh (Jaloux) Ba kokufa likolo na yo eh (Je suis jaloux) Pona yo na kosasa moto eh (Jaloux) Bako kufa likolo na yo (Je suis jaloux) Ah, ah, ah (Jaloux) Tokooos (Je suis jaloux)\n",
      "\n",
      "Title: Va dire à ton ex\n",
      "Lyrics: Mmh, eh Oh, oh, aïe Diding, diding, diding, diding, diding Hey Va dire à ton ex que c'est fini, qu'il n'a plus de pouvoir sur le bas de ton dos Va dire à ton ex qu'il aille vous effacer de sa mémoire, toi et ton numéro Et viens dans le lit, là où le temps ne s'arrêtera jamais Reviens dans le lit, là où l'hiver est à 100 degrés Laisse-le sur le té-cô, ouais, il a perdu, game over La porte qu'il a fermé, ne pourra plus s'ouvrir Dis-lui que t'es sée-po, et même si il est désolé L'homme à sa place ne risque pas de s'enfuir, yeah Diding, diding, diding, diding, oh Diding, diding, diding, diding, oh Diding, diding, diding, diding, oh, eh, oh, eh Diding, diding, diding, diding, oh Diding, diding, diding, diding, oh Diding, diding, diding, diding, oh, eh, oh, eh Va dire à ton ex, que s'il pense être l'attaquant du siècle, j'suis un bon libéro Va dire à ton ex, que s'il veut m'enlever mon cadeau du ciel, il n'a qu'à s'lever tôt Tu peux dormir tranquille, si je suis là, c'est jusqu'à la muerte Bébé, prions la nuit, pour que Dieu nous offre l'éternité Laisse-le sur le té-cô, ouais, il a perdu, game over La porte qu'il a fermé, ne pourra plus s'ouvrir Dis-lui que t'es sée-po, et même si il est désolé L'homme à sa place ne risque pas de s'enfuir, yeah Diding, diding, diding, diding, oh Diding, diding, diding, diding, oh Diding, diding, diding, diding, oh, eh, oh, eh Diding, diding, diding, diding, oh Diding, diding, diding, diding, oh Diding, diding, diding, diding, oh, eh, oh, eh Na lingi yo, eh, na lingo yo, eh Facile à dire, pas facile à assumer Na lingi yo, eh, na lingo yo, eh Facile à dire, pas facile à assumer Laisse-le sur le té-cô, laisse-le faire parti d'la déco' Il n'a qu'à regarder tes photos qu'il y a dans ses mémories Laisse-le sur le té-cô, laisse-le faire parti d'la déco' Il n'a qu'à regarder tes photos qu'il y a dans ses mémories Diding, diding, diding, diding, oh Diding, diding, diding, diding, oh Diding, diding, diding, diding, oh, eh, oh, eh Diding, diding, diding, diding, oh Diding, diding, diding, diding, oh Diding, diding, diding, diding, oh, eh, oh, eh Ah, merci à Joé Dwèt Filé pour la prod' Ce miel nous vient droit d'Haïti, chérie Et c'est le prince Dadj' Oh, oh, ah\n",
      "\n",
      "Title: Le Mâle Honnête\n",
      "Lyrics: Eh, Seysey Oh, oh, aïe Hey J'vais t'expliquer qui je suis que tu saches clairement J'ai le cœur noir comme le dresscode d'un enterrement J'collectionne les femmes comme si c'était des diamants Des diamants, mais pas dans le bon sens Célibataire ou en couple, je me loupe rarement Malgré le fait que j'sois au courant, pas d'empêchements Le pire c'est qu'à la fin d'l'histoire, je me déclare fièrement, ton meilleur amant Je sais utiliser les mots, ouais, je sais comment te rendre mauvaise sans que tu t'en aperçoives Te rendre hystérique dans le love, devenir un point norvant un mauve, sans que tu demandes pourquoi La seule chose de vraie c'est qu'on s'apprécie ('précie), les pages seront blanchies par nos récits (récits) J'te laisse croire que c'est toi qui résiste, qui me résiste, qui me résiste (yeah) J'ai trop joué avec les cœurs de toutes celles que j'appelle mi amor J'suis tombé sur plus d'une âme sœur mais je cherche encore, je cherche encore Et tout au fond de moi j'ai peur de finir seul avec mes remords J'ai laissé trop de cœurs en pleurs donc pour moi c'est mort, je sais qu'c'est mort Je sais qu'c'est mort (je sais qu'c'est mort, je sais qu'c'est mort) Nah uh, je sais qu'c'est mort J'te rends malade juste pour devenir le médicament Indispensable, pour toi tu m'verras comme un traitement J'te collerai comme un garde du corps, j'serai ultra présent Présent, pour qu'tu ressentes mon absence En sécurité près de moi donc tu te confies T'insistes pour savoir tout de moi donc pas de non-dits La vérité c'est qu't'aimes donner ton cœur aux bandits (hein, yeah) Et quelques principes, quelques codes, c'est dur à croire mais j'fais les choses, jamais sans le bon vouloir Si la nuit tombe jusqu'à l'aube, il fait trop noir pour qu'tu te sauves, tes affaires sont dans l'armoire J'essaye d'être un maximum précis (précis), ça s'ra court mais notre relation s'ra magique (magique) J'te laisse croire que c'est toi qui résiste, qui me résiste, qui me résiste (yeah) J'ai trop joué avec les cœurs de toutes celles que j'appelle mi amor (mi amor) J'suis tombé sur plus d'une âme sœur mais je cherche encore, je cherche encore Et tout au fond de moi j'ai peur de finir seul avec mes remords J'ai laissé trop de cœurs en pleurs donc pour moi c'est mort, je sais qu'c'est mort (c'est mort) Pour moi je sais qu'c'est déjà fini Ça fait mal mais je l'ai bien compris Au final j'aurais tout c'que je mérite Je mérite tout c'que je mérite Pour moi je sais qu'c'est déjà fini Ça fait mal mais je l'ai bien compris Au final j'aurais tout c'que je mérite Je mérite tout c'que je mérite J'ai trop joué avec les cœurs de toutes celles que j'appelle mi amor (mi amor) J'suis tombé sur plus d'une âme sœur mais je cherche encore, je cherche encore Et tout au fond de moi j'ai peur de finir seul avec mes remords J'ai laissé trop de cœurs en pleurs donc pour moi c'est mort, je sais qu'c'est mort (c'est mort) J'ai trop joué avec les cœurs de toutes celles que j'appelle mi amor (mi amor) J'suis tombé sur plus d'une âme sœur mais je cherche encore, je cherche encore Et tout au fond de moi j'ai peur de finir seul avec mes remords J'ai laissé trop de cœurs en pleurs donc pour moi c'est mort, je sais qu'c'est mort (c'est mort) Oh, oh, ah\n",
      "\n",
      "Title: Provoquer\n",
      "Lyrics: Hey, hey Ho ho ha J't'ai dit de me fuir, pour ton bien pour le notre Persuader que la flamme etait morte J't'ai laisser prendre t'es affaires, j't'ai vu passer la porte Et j'regrettais pas, jusqu'à te voir avec un autre Hypocrite à la base c'est ma faute Trop toxique pour la plupart des go mais T'as toujoirs tout fait au final pour que l'on s'en sorte J'suis dégouté d'avoir compris ça maintenant qu't'es sortie d'ma vie Et puis c'est difficile Difficile de me dire qu'il n'y aura plus de marche arrière Est-ce que tu m'aimes encore Est-ce que j'dois tenter l'impossible Je sais qu'avec que les \"si\" Avec les \"si\", j'pourrai effacer chaque bêtises, nah eh Mais c'est trop tard pour moi, et ça m'faitmal d'observer Je t'ai dit d'aller refaire ta vie Mais j'aimerais qu'tu fasses comme si je n't'avais rien dit Oublie, dans l'fond, j'aurais voulu qu'tu m'contredises On s'est dit qu'c'était fini mais j'suis pas prêt qu'un autre homme que moi t'déshabille Oublie, j'avais ni les épaules ni les reins solides mais c'est fini J'ai laissé ma place à un autre Mais quand j'te vois avec un autre, c'est comme me provoquer J'ai laissé ma place à un autre Mais quand j'te vois avec un autre, c'est comme me provoquer J'ai laissé ma place à un autre Mais quand j'te vois avec un autre, c'est comme me provoquer J'ai laissé ma place à un autre Mais quand j'te vois avec un autre, c'est comme me provoquer J'ai voulu aller voir ailleurs mais c'est pas toi J'ai essayé d'ouvrir mon cœur mais c'est pas toi Quand elles regardent dans mes yeux, elles te voient toi J'sais pas comment j'pourrais être plus français J'ai perdu l'temps à toutes ces femmes qui n'sont pas toi En essayant d'trouver des choses qu'il y a chez toi Au final t'as été la seule et la seule fois Est-ce que j'te parle français J'regrette tellement tout ce que j't'ai dis Maintenant j'suis sorti de ma folie J'ai explosé ma carte de crédit seulement pour t'montrer que j'suis solide J'sais même plus comment faire pour avoir l'air crédible devant toi Tu m'fais perdre mon charisme si j'dis qu'j'ai fini d'être un imbécile Pour toi est-ce que ça te suffit Je t'ai dit d'aller refaire ta vie Mais j'aimerais qu'tu fasses comme si je n't'avais rien dit Oublie, dans l'fond, j'aurais voulu qu'tu m'contredises On s'est dit qu'c'était fini mais j'suis pas prêt qu'un autre homme que moi t'déshabille Oublie, j'avais ni les épaules ni les reins solides mais c'est fini J'ai laissé ma place à un autre Mais quand j'te vois avec un autre, c'est comme me provoquer J'ai laissé ma place à un autre Mais quand j'te vois avec un autre, c'est comme me provoquer J'ai laissé ma place à un autre Mais quand j'te vois avec un autre, c'est comme me provoquer J'ai laissé ma place à un autre Mais quand j'te vois avec un autre, c'est comme me provoquer J'ai laissé ma place à un autre Mais quand j'te vois avec un autre, c'est comme me provoquer J'ai laissé ma place à un autre Mais quand j'te vois avec un autre, c'est comme me provoquer J'ai laissé ma place à un autre Mais quand j'te vois avec un autre, c'est comme me provoquer J'ai laissé ma place à un autre Mais quand j'te vois avec un autre, c'est comme me provoquer Um eh Oh oh ah\n",
      "\n",
      "Title: Elle me demande\n",
      "Lyrics: Han, han Yeah, han, han Yeah, yeah, yeah, yeah Seysey Han, han, han, han Yeah, han, han Yeah, yeah Oh, oh, ah Encore une de mes stories, encore une femme que je veux Elle connaît tous nos discours, j'crois qu'elle sait lire dans les yeux Je veux lui dire qu'j'suis celui qui l'appellera \"Madame\" Elle pense que je mens mais c'est normal, on lui a tous dit ça Comment tu t'appelles? Elle fait la sourde Est-ce que t'as un mec? Elle laisse le doute Rentrer dans sa tête, le chemin le plus court Mais elle connaît les bails, elle laisse aucune faille Elle hésite à parler mais elle tend son oreille J'lui dis qu'le miel attire l'abeille Elle croit que j'joue un rôle mais elle accepte la partie Elle m'demande si j'lui donnerai l'amour De maintenant à toujours Si tu veux mon corps, faut qu'tu l'mérites Je n'changerai mes principes pour personne J'lui dis: \"J'suis pas personne\" Elle joue avec moi, elle veut qu'j'me livre Elle m'demande si j'lui donnerai l'amour L'amour, l'amour, han, han, yeah, yeah Yeah, yeah Hey, j'lui dis qu'j'ai comme une vision que j'ai l'image de nous deux Elle rigole, c'est un point pour moi, j'ai réussi mais j'reste loin de son cœur Tout c'qu'elle fait m'donne l'envie d'insister mais elle résiste encore Elle donne l'heure, le go et pour son égo, elle veut l'dernier mot Quand est-ce qu'on s'appelle? Donne-moi le jour Donne-moi ton adresse, dis-moi où \"Vous êtes tous pareils\", pas du tout Laisse-moi du temps, tu baisseras ta garde Elle se met à douter, creuse encore Elle pense que je n'cherche que le corps à corps Elle veut m'laisser une chance Au final, tout ce qu'elle m'demande si j'donnerai de l'amour De maintenant à toujours Si tu veux mon corps, faut qu'tu l'mérites Je n'changerai mes principes pour personne J'lui dis: \"J'suis pas personne\" Elle joue avec moi, elle veut qu'j'me livre Elle m'demande si j'lui donnerai l'amour De maintenant à toujours Si tu veux mon corps, faut qu'tu l'mérites Je n'changerai mes principes pour personne J'lui dis: \"J'suis pas personne\" Elle joue avec moi, elle veut qu'j'me livre Elle m'demande si j'lui donnerai l'amour L'amour, l'amour, han, han, yeah, yeah Yeah, yeah, oh, oh, ah Mentir, je n'vais pas te mentir, mama Mentir, je n'vais pas te mentir, mama Mentir, je n'vais pas te mentir Je n'vais pas te mentir Je n'vais pas te mentir, mama Mentir, je n'vais pas te mentir, mama Mentir, je n'vais pas te mentir, mama Mentir, je n'vais pas te mentir Je n'vais pas te mentir Je n'vais pas te mentir, mama Mentir, je n'vais pas te mentir, mama Mentir, je n'vais pas te mentir, mama Mentir, je n'vais pas te mentir Je n'vais pas te mentir Je n'vais pas te mentir, mama\n",
      "\n",
      "Title: Piqûre de rappel\n",
      "Lyrics: Seysey Oh, oh, ah J'étais pauvre avant d'être riche, j'connais la diff', diff', diff' Main dans la che-po, crois pas que j'oublie, rends-moi mon biff, biff, biff J'ai quitté l'binks dès qu'la SACEM m'a dit: \"Je kiffe, kiffe, kiffe\" On fait du ness-bi mais si j'investis, c'est 80-10-10 Tellement d'inspi', j'entends une story, j'en fait un hit, hit, hit Tellement de-spi qu'ils ont oublié qu'ça faisait plus d'dix piges J'te connais pas, si tu m'appelles, t'entendras \"bip, bip, bip\" J't'ai bloqué depuis, continue d'écrire, lancer des piques, piques, piques Monde à l'еnvers, curieux sur ma life J'lеur donne du son, ils cherchent encore à savoir qui est ma wife Eh, tu sais bien qui j'suis, le miel coule dans tes oreilles J'ai vu beaucoup d'enfants qui veulent percer en faisant pareil J'suis un survivant du bendo, un synonyme de \"nambo\" J'veux devenir dans la 'sique un classique comme la Super Nintendo Toujours un œil sur le rétro', ça existe pas le biff en trop Si tu fais parti d'l'équipe, il fera bon vivre quand on t'fera quer-cro J'étais pauvre avant d'être riche, j'connais la diff', diff', diff' Main dans la che-po, crois pas que j'oublie, rends-moi mon biff, biff, biff J'ai quitté l'binks dès qu'la SACEM m'a dit: \"Je kiffe, kiffe, kiffe\" On fait du ness-bi mais si j'investis, c'est 80-10-10 Tellement d'inspi', j'entends une story, j'en fait un hit, hit, hit Tellement de-spi qu'ils ont oublié qu'ça faisait plus d'dix piges J'te connais pas, si tu m'appelles, t'entendras \"bip, bip, bip\" J't'ai bloqué depuis, continue d'écrire, lancer des piques, piques, piques J'écris des chansons d'amour qui l'aident à dormir J'suis le loup de une heure du mat', posé à l'hôtel Y a toujours l'top du classement dans la ligne de mire En physique, en stream, c'est d'nous qu'on s'inspire T'as bien vu l'empire, yeah J'vois ma vie, j'vois ma vie comme un rêve Maintenant, quand j'vais dormir, j'fais plus la diff' avec mes rêves Toujours élevé l'niveau, quand l'Parc des Princes sera full, j'arriverai peut-être en hélico' (oh, oh, ah) J'étais pauvre avant d'être riche, j'connais la diff', diff', diff' Main dans la che-po, crois pas que j'oublie, rends-moi mon biff, biff, biff J'ai quitté l'binks dès qu'la SACEM m'a dit: \"Je kiffe, kiffe, kiffe\" On fait du ness-bi mais si j'investis, c'est 80-10-10 Tellement d'inspi', j'entends une story, j'en fait un hit, hit, hit Tellement de-spi qu'ils ont oublié qu'ça faisait plus d'dix piges J'te connais pas, si tu m'appelles, t'entendras \"bip, bip, bip\" J't'ai bloqué depuis, continue d'écrire, lancer des piques, piques, piques, yeah J'vois ma vie, j'vois ma vie comme un rêve Maintenant, quand j'vais dormir, j'fais plus la diff' avec mes rêves J'vois ma vie, j'vois ma vie comme un rêve Maintenant, quand j'vais dormir, j'fais plus la diff' avec mes rêves\n",
      "\n",
      "Title: Tout ou rien du tout\n",
      "Lyrics: Seysey Oh, oh, ah Étincelle dev'nue flamme, pas d'monsieur sans madame Le monde peut nous haïr, la difficulté m'attire Rien ne m'éloignera de toi, les gens, les 'blèmes, etcetera Sans toi c'est même plus possible, comment j'ai fait jusqu'ici? J'irai partout où tu iras, chez moi c'est entre tes deux bras Mille et une manières de l'dire, mais j'préfère te l'faire ressentir Tu as ma loyauté et mon corps de la tête aux pieds Avec toi c'est tout ou rien, j'vois pas le verre à moitié plein Je veux tout de nous (je veux tout de nous) Tout ou rien du tout (tout ou rien du tout) Je veux tout de nous (je veux tout de nous) Tout ou rien du tout (tout ou rien du tout) Tout, tout, je veux tout de nous Je veux tout de nous ou rien du tout Tu peux perdre la vue, devenir sourd Pas besoin de m'prouver ton amour Je peux facilement lire sur tes lèvres (sur tes lèvres) T'as juste à les poser sur les miennes (sur les miennes) Tu peux perdre la vue, devenir sourd Pas besoin de m'prouver ton amour Je peux facilement lire sur tes lèvres (sur tes lèvres) T'as juste à les poser sur les miennes (sur les miennes) Montre moi ce que j'aime voir, dans le blanc de mes yeux noirs Miroir mon miroir, tu reflètes le bien en moi Tu es mon identité, tu n'as plus à t'inquiéter Ta place est indélébile (nah-ah) J'faisais plus confiance aux hommes, t'es l'exception à la règle J'pourrais parler des heures, parler de nous sans arrêts Fais-moi dire (on va le dire, tu vas le dire) \"Pour le meilleur et pour le pire\" (pour le meilleur et pour le pire) Je veux tout de nous (je veux tout de nous) Tout ou rien du tout (tout ou rien du tout) Je veux tout de nous (je veux tout de nous) Tout ou rien du tout (tout ou rien du tout) Tout, tout, je veux tout de nous Je veux tout de nous ou rien du tout Tu peux perdre la vue, devenir sourd Pas besoin de m'prouver ton amour Je peux facilement lire sur tes lèvres, lèvres T'as juste à les poser sur les miennes, miennes Tu peux perdre la vue, devenir sourd Pas besoin de m'prouver ton amour Je peux facilement lire sur tes lèvres (sur tes lèvres) T'as juste à les poser sur les miennes (sur les miennes) Tu peux perdre la vue, devenir sourd Pas besoin de m'prouver ton amour Je peux facilement lire sur tes lèvres, lèvres T'as juste à les poser sur les miennes, miennes Tu peux perdre la vue, devenir sourd Pas besoin de m'prouver ton amour Je peux facilement lire sur tes lèvres (sur mes lèvres) T'as juste à les poser sur les miennes (sur les miennes) On peut facilement lire sur tes lèvres Tu peux perdre la vue, devenir sourd Pas besoin d'me prouver ton amour Ouh-ouh-ouh Oh, oh, ah\n",
      "\n",
      "Title: La roue tourne\n",
      "Lyrics: J'ai suivi mon cur une fois, c'est mort, j'me suis désabonné Elle aime les hommes avec son boule Elle n'hésite pas à le donner Elle me dégoûte, les négros la tapent tous les jours J'ai fait qu'une seule erreur: faire un gosse à une meuf qui voulait seulement jouer J'suis un bonhomme jusqu'au bout, j'vais assumer Mais j'suis un homme, ne joue pas avec ma fierté Tu arrêtes tout, tes histoires d'écarter tes genoux On est plus ensemble mais respecte moi Et le tit-pe qu'on a, tu l'as pas trouvé J'ai fait des salles pendant des années Retour de flammes ne m'a pas loupé T'as fait tout ça pour que ça me blesse Je mens si j'dis qu'ça m'a pas touché Mais la roue tourne, la roue tourne Même si c'est moi qui ai mal en premier C'que j'veux c'est que la roue tourne, la roue tourne C'est toi qui aura mal en dernier, je te le promets\n",
      "\n",
      "Title: Grand bain\n",
      "Lyrics: Hey, hey C'est elle qu'il me faut, j'dois la présenter à yemma M'aimeras-tu quand j'serai fauché comme à l'ancienne? Sois ma Elvira, sois ma Cardi, j'serai ton Offset Plein d'choses qu'on dira pas par peur de faire foirer les projets (yeah, yeah) C'est nous deux ou bien rien jusqu'à la fin (jusqu'à la fin) Y a trop d'jaloux, trop d'requins dans le grand bain (y a trop d'requins dans le grand bain) C'est nous deux ou bien rien jusqu'à la fin, eh Y a trop d'jaloux, trop d'requins dans le grand bain Bébé veut des marmots, elle veut qu'j'l'emmène à la mairie J'veux l'[blégué?], plein de Lambo', j'suis trop cramé sur Bériz, hey Bébé, dans la main gauche, j'ai le diamant que tu mérites Regarde bien l'hombre qui va changer ta ie-v Parce que ta vie sera probablement meilleure à mes côtés Faut pas qu'tu doutes, dis-moi combien faut de zéros pour te doter et j'te les donnerai J'peux t'donner sans même sentir que j'ai donné Faut aller charbonner pour éviter de bégayer C'est elle qu'il me faut, j'dois la présenter à yemma (à yemma) M'aimeras-tu quand j'serai fauché comme à l'ancienne? Sois ma Elvira, sois ma Cardi, j'serai ton Offset Plein d'choses qu'on dira pas par peur de faire foirer les projets (yeah, yeah) C'est nous deux ou bien rien jusqu'à la fin (jusqu'à la fin) Y a trop d'jaloux, trop d'requins dans le grand bain (trop d'jaloux, trop d'requins dans le grand bain) C'est nous deux ou bien rien jusqu'à la fin, oh Y a trop d'jaloux, trop d'requins dans le grand bain, hmm J'ferai disparaître tes soucis comme si j'étais Copperfield (Copperfield) Bébé, j'ai pris rendez-vous chez ton père pour demander la main d'sa fille (la main d'sa fille) On fait les choses dans les règles mais faudra toujours qu'on s'explique Ils parleront, ouais, ils nous veulent du mal mais bon (mais bon, mais bon) J'suis mauvais, piqué ton cœur et tu sais que j'suis trop précis (trop précis) T'as des principes et des valeurs, tu fais partie de ma famille (ma famille) On fait les choses dans les règles mais faudra toujours qu'on s'explique Ils parleront (oh), ils nous veulent du mal mais bon (mais bon, mais bon) Je sais qu'ils parleront, parleront jusqu'à [la gorge séchée?] T'inquiète pas, je prends des coups mais faudra bien t'accrocher On peut s'en aller, se barrer mais on va rester ici On s'défendra pas des autres pour continuer C'est elle qu'il me faut, j'dois la présenter à yemma (à yemma) M'aimeras-tu quand j'serai fauché comme à l'ancienne? Sois ma Elvira, sois ma Cardi, j'serai ton Offset Plein d'choses qu'on dira pas par peur de faire foirer les projets (yeah, yeah) C'est nous deux ou bien rien jusqu'à la fin (jusqu'à la fin) Y a trop d'jaloux, trop d'requins dans le grand bain (y a trop d'requins dans le grand bain) C'est nous deux ou bien rien jusqu'à la fin, eh Y a trop d'jaloux, trop d'requins dans le grand bain C'est elle qu'il me faut, j'dois la présenter à yemma (à yemma) M'aimeras-tu quand j'serai fauché comme à l'ancienne? Sois ma Elvira, sois ma Cardi, j'serai ton Offset Plein d'choses qu'on dira pas par peur de faire foirer les projets (yeah, yeah) C'est nous deux ou bien rien jusqu'à la fin (jusqu'à la fin) Y a trop d'jaloux, trop d'requins dans le grand bain (trop d'jaloux, trop d'requins dans le grand bain) C'est nous deux ou bien rien jusqu'à la fin, oh (jusqu'à la fin) Y a trop d'jaloux, trop d'requins dans le grand bain (dans le grand bain) Hi hi, hi hi, hi hi, hi hi Trop d'jaloux, trop d'requins dans le grand bain Oh, oh, ah Yeah, yeah\n",
      "\n",
      "Title: Confessions\n",
      "Lyrics: Hum, eh Oh oh ah Tu entendras sûrement dire que je n’suis pas l’homme le plus réglo Que si je t’aime, je serais trop possessif, que trop souvent j’agis par ego C’est peut-être vrai, je n'me suis jamais senti comme quelqu’un digne d'être appelé \"héros\" À mi-chemin entre ce qu’on appelle être gentil et peut-être le dernier des salauds Quand on m’a lâché, j’ai perdu du monde sur le trajet depuis mon point de départ, je n’fais qu’y penser Est-c'que c’est moi qui ai mal fait ou j’étais seul dès l’départ? J’ai eu d’la peine, quand j’ai failli perdre ma reine à penser qu’chez moi, c’était la scène J’ai eu la haine, à deux doigts d’me trancher les veines quand la trahison vient par derrière Laisse-les parler, laisse-les parler, laisse-les parler, j’sais quoi faire J’peux supporter, j’peux supporter les mots de la Terre entière J’étais dans le partage, j’ai dû tourner la page, dans mon cœur, y a eu un carnage C’est dans les virages que tu vois les vrais visages: y a moins d’monde quand y a l’orage Avant d’être riche, j’étais pauvre, j’connais la douleur du pauvre, j’veux plus cette vie Y avait pas d’eau dans le seau, j’ai taffé de midi à l’aube pour changer ma vie La rancune, c’est mon défaut, si tu m’as laissé dans la fosse, j’vais pas t’oublier Le pire, c’est quand il fait beau, tout l'monde veut monter dans l’bateau, va t’faire enculer Je suis loin d’être un exemple, d’ailleurs, j’veux pas qu’on m’prenne en exemple Avec un sourire, je peux te mentir, y a personne qui sait c’que je ressens J’suis bien éduqué mais souvent, j’ai eu beaucoup d’mal à appliquer Parfois, j’ai le cœur brisé mais c’est beaucoup trop compliqué à expliquer Faut que j’me ressaisisse, j’ai perdu du temps dans ma vie J’crois qu'j’me détruis, j’calcule plus mes ennemis qu’ma famille J’ai jamais d’répit, tellement d’gens que j’dois mettre à l’abri Et c’qui me guérit, c’est de voir le sourire de ma fille (yeah) On m’a toujours dit qu’un homme doit s’cacher pour pleurer J’crois que c’est le seul conseil que j’ai appliqué sans fauter Madame ne comprend pas mon envie de tout gérer, elle me dit: \"'Dju, tu sais, on est marié\" Mais si je garde en moi, c’est pour ne pas les inquiéter Et si j’me livrais chaque fois, mon entourage s'rait dévasté Mon monde tourne autour de certaines personnes que j'peux compter, les voir en bonne santé, yeah Jamais fini, je n’ai jamais fini et même quand j’ai réussi, j’en veux encore J’fais encore la bêtise de montrer que j’ai du biff Feu d’artifice en boîte de nuit quand ma carte noire sort Et la règle d’or, c’est qu’en désaccord Tu veux rester neutre pas choisir ton camp, pour moi, t’es mort Tu as toute ma force même si tu as tort Ton ennemi, c’est l’mien en cas d’blèmes-pro Et j’espère que quand on m’enterrera demain, vous irez prendre soin des miens Ces derniers mots s'ront ma dernière volonté Et j’espère qu’avant d’être enterré demain, j’aurais de nouveau le cœur gros sur la main, histoire de repartir un peu plus apaisé J’ai grandi sans mon papa J’veux pas qu’ma fille finisse comme moi Ouh ouh, yeah yeah, na, eh Oh oh ah\n",
      "\n",
      "Title: Toi d'abord\n",
      "Lyrics: Oh, oh, ah Ça m'fait d'la peine de me dire que mon envie d'réussir t'as mis en stand-by, eh Ça m'fait d'la peine de savoir que t'en es à t'demander si tu m'dis: \"bye bye\", eh Tu me l'as déjà dit: \"Profitons de nous, le reste un détail\", eh À quoi ça sert d'être ensemble si on passe notre temps à constamment nous éparpiller J'aurais dû jouer le une-deux, fallait la jouer une-deux, une-deux c'est solide J'ai voulu prendre pour nous deux mais nous deux c'est solide, eh J'aurais dû jouer le une-deux, fallait la jouer une-deux, une-deux c'est solide J'ai voulu prendre pour nous deux mais nous deux c'est solide J'me prends la tête à faire des sous, tous les jours, mais j'ai oublié Que tu me donnais ton amour, en retour, j'étais occupé Est-ce que l'argent m'a rendu fou? C'qui était clair pour moi est devenu flou J'me prends la tête à faire des sous, tous les jours, mais j't'ai oublié, ah C'était toi d'abord, pour moi ta vie valait plus que l'or C'était toi d'abord, hi-hi, hi-hi C'était toi d'abord, j'ai pris du biff mais le cœur est vide Toi d'abord, vide, oh, oh, ah Et si j'me pose et que j'réfléchis, au final qu'est-ce que j'ai bâti? Mon pire ennemi c'est moi-même Plus j'accélère, plus j'ralentis, j'suis égoïste et indécis On parlait de s'enfuir loin d'ici, le minimum pour fonder une famille J'ai succombé à l'argent facile, c'est c'que j'ai fais pour toi qui nous détruit, eh J'me prends la tête à faire des sous, tous les jours, mais j'ai oublié Que tu me donnais ton amour, en retour, j'étais occupé Est-ce que l'argent m'a rendu fou? C'qui était clair pour moi est devenu flou J'me prends la tête à faire des sous, tous les jours, mais j't'ai oublié, ah C'était toi d'abord, pour moi ta vie valait plus que l'or C'était toi d'abord, hi-hi, hi-hi C'était toi d'abord, j'ai pris du biff mais le cœur est vide Toi d'abord, vide, oh, oh, ah Ah Ça sera, ça sera, ça sera, ça sera toi d'abord Toi d'abord, mhh eh Toi d'abord J'me prends la tête à faire des sous, tous les jours, mais j'ai oublié Que tu me donnais ton amour, en retour, j'étais occupé Est-ce que l'argent m'a rendu fou? C'qui était clair pour moi est devenu flou J'me prends la tête à faire des sous, tous les jours, mais j't'ai oublié, ah C'était toi d'abord, pour moi ta vie valait plus que l'or C'était toi d'abord, hi-hi, hi-hi C'était toi d'abord, j'ai pris du biff mais le cœur est vide Toi d'abord, vide, oh, oh, ah\n",
      "\n",
      "Title: Papa\n",
      "Lyrics: Y'a plus rien à manger Tu m'as laissé tombé T'as dis que tu reviendrais Mais t'es jamais rentré L'école m'a demandé Ton papa où est-ce qu'il est? J'ai dis que tu reviendrais Mais t'es jamais rentré Papa, t'es où papa? Maman pleure oh papa T'es où papa? Papa, papa T'es où papa? Maman pleure oh papa T'es où papa? Oh oh ah Mon rêve c'était pas de devenir pompier (umh eh) J'voulais te ressembler, ton pieds mon pieds Pour moi tu étais l'homme le plus puissant du monde entier L'une des seule personnes à qui j'pouvais me confier À l'école tout le monde en rit Je suis fatigué de les corriger Mon papa va revenir Je sais qu'il nous aime, il est obligé J'sais plus comment réagir Ils sont pas à ma place, ils peuvent pas piger Au final j'ai plus d'amis Et j'crois que c'est ta faute si je suis négligé Y'a plus rien à manger ([?]) Tu m'as laissé tombé (dis moi, t’es où?) T'as dis que tu reviendrais (umh) Mais t'es jamais rentré (eh) L'école m'a demandé (et l’école m’a demandé) Ton papa où est-ce qu'il est? (t’es où?) J'ai dis que tu reviendrais Mais t'es jamais rentré Papa, t'es où papa? Maman pleure oh papa T'es où papa? Papa, papa T'es où papa? Maman pleure oh papa T'es où papa? Oh oh ah Au final t'es partis sans t'retourner (umh eh) Maman a pris ton rôle pour continuer Et maintenant j'ai grandis, j'ai appris par moi-même comment respirer À l'époque y'avais ni l'temps, ni l'biff pour être dégoutté Faut plus jamais revenir Si tu demande à mon cœur il t'as oublié J'ai tellement d'choses à te dire Mais je préfère te montrer qui je suis, eh J'avais de la haine à t'offrir Mon but c'était de n’jamais te ressembler J'ai fini par ne plus t'haïr Mais je n'sais toujours pas si j't'ai pardonné, yeah Y'a plus rien à manger ([?]) Tu m'as laissé tombé (dis moi, t’es où?) T'as dis que tu reviendrais (umh) Mais t'es jamais rentré (eh) L'école m'a demandé (l’école m’a demandé) Ton papa où est-ce qu'il est? (t’es où?) J'ai dis que tu reviendrais Mais t'es jamais rentré Papa, t'es où papa? Maman pleure oh papa T'es où papa? Papa, papa T'es où papa? Maman pleure oh papa T'es où papa? Oh oh ah Tu nous laisse nous débrouiller Ton cœur est verrouillé Tu nous laisse nous débrouiller Ton cœur est verrouillé Papa, tu nous laisse nous débrouiller Ton cœur est verrouillé Tu nous laisse nous débrouiller Ton cœur est verrouillé Papa, papa Tu nous laisse nous débrouiller Papa, papa Ton cœur est verrouillé Papa, papa Tu nous laisse nous débrouiller Papa, papa Ton cœur est verrouillé Papa, papa Papa, tu nous laisse nous débrouiller Papa, papa Ton cœur est verrouillé Papa, papa Tu nous laisse nous débrouiller Papa, papa Ton cœur est verrouillé Papa, papa Tu nous laisse nous débrouiller Papa, papa Ton cœur est verrouillé Oh oh ah\n",
      "\n",
      "Title: Compliqué\n",
      "Lyrics: Eh Yeah, yeah, yeah, yeah Mmh, eh J'ai rencontré une meuf en soirée sur Paris On s'voyait quelque soirs, on était plus qu'amis Elle m'appelait quand ça chauffait avec son p'tit ami Histoire de décompresser sur le tatami Les trois règles c'était, de une, on n'se promet rien De deux, pas de jalousie, de trois, personne parle jusqu'à la fin Bien évidemment, j'accepte, moi, je n'risque rien Son mec, c'est pas mon souci, t'inquiète, j'risque pas d'y mettre fin Célibataire endurci, rien à foutre que l'on me juge Si vous savez c'qu'elle me disait mais bon là, c'est pas le sujet Quand j'lui disais de venir, mon appart', c'était le QG Et comme toute femme qui se livre, mademoiselle se sent négligée Et t'as beau fixer les règles, au final, c'est compliqué, ouais On était d'accord, au final, elle est piquée, ouais Elle est prête à tout, tout pour me faire abdiquer, ouais J'ai voulu être clair, mademoiselle a paniqué Dans tous les cas, ça finit mal Dans tous les cas, ça finit mal, mal, mal Dans tous les cas, ça finit mal Dans tous les cas, ça finit mal, mal, mal J'ai rencontré une autre femme et toujours sur Paris Elle avait l'air sérieuse, elle m'parlait d'avenir Du coup, j'ai pris l'temps d'écouter c'qu'elle avait à me dire J'aimais sa façon d'être et j'aimais son charisme Plus l'temps passe et plus je kiffe être en sa présence Et qui l'aurait parié? J'esquive les appels, elle recommence Et j'ai toujours cinq ou six appels en absence Pourtant, je l'avais briefée, j'ai quelqu'un qui me fait confiance Elle veut pas lâcher l'affaire, elle me dit qu'elle veut me revoir Elle a repris ses affaires, elle a même quitté son gava Maintenant, j'ai quelque chose à perdre, je veux plus croiser ton regard Elle me dit que c'est la dernière, après ça, j'te dirais \"au revoir\" Et t'as beau fixer les règles, au final, c'est compliqué, ouais On était d'accord, au final, elle est piquée, ouais Elle est prête à tout, tout pour me faire abdiquer, ouais J'ai voulu être clair, mademoiselle a paniqué Dans tous les cas, ça finit mal Dans tous les cas, ça finit mal, mal, mal Dans tous les cas, ça finit mal Dans tous les cas, ça finit mal, mal, mal Eh, j'ai pris l'risque d'y aller une dernière fois Je savais qu'j'allais faire n'importe quoi Maintenant, la shh ose venir m'faire du chantage Soit c'est elle, soit elle dit tout à ma femme Eh, j'ai pris l'risque d'y aller une dernière fois Je savais qu'j'allais faire n'importe quoi Maintenant, la shh ose venir m'faire du chantage Soit c'est elle, soit elle dit tout à ma femme Et t'as beau fixer les règles, au final, c'est compliqué, ouais (compliqué) On était d'accord, au final, elle est piquée, ouais Elle est prête à tout, tout pour me faire abdiquer, ouais (abdiquer yéiyé) J'ai voulu être clair, mademoiselle a paniqué Dans tous les cas, ça finit mal Dans tous les cas, ça finit mal, mal, mal Dans tous les cas, ça finit mal Dans tous les cas, ça finit mal, mal, mal Oh, compliqué Compliqué, compliqué\n",
      "\n",
      "Title: Jure-le\n",
      "Lyrics: Mmh yeah, oh oh ah J'suis rentré tard en tac au tac, j'suis parti dodo Six heures du mat' on m'réveille mais c'est pas la lice-po Madame me guette de haut en bas, ça sent les blèmes-pro Ça sent la merde, dans sa main droite y avait mon bigo \"Jure-le, jure-le, tu la connais pas\" et \"Jure-le, jure-le, tu la connais pas\" J'ai fais le maximum pour retourner son cerveau, mais tout c'que j'lui dis: ça rentre et ça sort Et \"Jure-le, jure-le, tu la connais pas\" et \"Jure-le, jure-le\" \"Jure-le, jure-le, tu la connais pas, jure-le, jure-le\" \"Jure-le, jure-le, tu la connais pas, jure-le, jure-le\" \"Jure-le, jure-le, tu la connais pas, jure-le, jure-le\" Elle est dans l'monologue, elle s'met à parler solo Elle m'pose cette question sans réponse, elle m'voit en mytho Entre les insultes et les talons qui volent à gogo J'sais plus quoi faire à part attendre qu'elle baisse le niveau \"Jure-le, jure-le, tu la connais pas\" et \"Jure-le, jure-le, tu la connais pas\" Une heure après, j'la vois fatiguée, c'est pas trop tôt mais tout c'que j'lui dis: ça rentre et ça sort Et \"Jure-le, jure-le, tu la connais pas\" et \"Jure-le, jure-le\" \"Jure-le, jure-le, tu la connais pas, jure-le, jure-le\" \"Jure-le, jure-le, tu la connais pas, jure-le, jure-le\" \"Jure-le, jure-le, tu la connais pas, jure-le, jure-le\" Elle me dit: \"Dis-moi la vérité et j'arriverai peut-être à te pardonner\" Et j'me dis que si elle dit la vérité, elle m'le ressortira dans quelques années On va rester ici de midi jusqu'à minuit, si j'la laisse partir voir ses copines, je suis un homme cuit Trop d'émotions, dans sa tête c'est sûrement le grand huit Elle passe de \"Je t'aime\" à \"J'sais pas pourquoi j't'ai dis: oui\" Et \"Jure-le, jure-le, tu la connais pas\" et \"Jure-le, jure-le\" \"Jure-le, jure-le, tu la connais pas, jure-le, jure-le\" \"Jure-le, jure-le, tu la connais pas, jure-le, jure-le\" \"Jure-le, jure-le, tu la connais pas, jure-le, jure-le\" Mmh, au bout du compte, j'ai fini par me noyer Les yeux vers le ciel à m'demander: \"Qui m'a envoyé?\" Au bout du compte, j'ai fini par me noyer Les yeux vers le ciel à m'demander: \"Qui m'a envoyé?\", yeah Malgré ça, j'vais nié encore et encore C'est pour te retenir, hin, oh oh ah\n",
      "\n",
      "Title: Please\n",
      "Lyrics: Ton corps n’a plus rien de spécial (spécial spécial) Bien trop d’hommes y ont gouté Ton corps n’a plus rien de spécial (spécial) Bien trop d’hommes y ont gouté Même si tu dis please, même si tu dis please, même si tu dis please (oh oh ah) Même si tu dis please, même si tu dis please, même si tu dis please (oh oh ah) Je sais qu’des chéries t’en veux milles, et j’suis le millième À combien de nous tu l’as dis sans même aucune gêne Dernier bolide mais dernier miles Ils sont soumis et toi tu likes Baby baby baby baby choisis ton titre et prend ton time J’suis pas fanatique de ce genre de life L’homme est mauvais, tu m’as prouvé Qu’en face de la femme, il est rien L’homme est mauvais mais je n’ferais pas partie de ta liste Ton corps n’a plus rien de spécial (spécial spécial) Bien trop d’hommes y ont gouté Ton corps n’a plus rien de spécial (spécial) Bien trop d’hommes y ont gouté Même si tu dis please, même si tu dis please, même si tu dis please (oh oh ah) Même si tu dis please, même si tu dis please, même si tu dis please (oh oh ah) J’étais le seul, l’unique la veille Tu parlais même de m’élever au rang de prince T’avais promis juré le ciel Suffit qu’un autre se pointe pour que d’un seul coup ça coince Donc permet moi de douter un peu Ça devient maladif, ça devient maladif Plus de mensonges, tu fais plus la diff’ Tu les voulais, tu les a eus T’as mentis de minuit à l’aube Et maintenant tu prends, tu recules sur nous mais jamais Ton corps n’a plus rien de spécial (spécial spécial) Bien trop d’hommes y ont gouté Ton corps n’a plus rien de spécial (spécial) Bien trop d’hommes y ont gouté Même si tu dis please, même si tu dis please, même si tu dis please (oh oh ah) Même si tu dis please, même si tu dis please, même si tu dis please (oh oh ah) Même à genoux Oh oh ah\n",
      "\n",
      "Title: Paire d'As\n",
      "Lyrics: Oh oh ah Tu veux un amour fort et sincère? Tu demandes à maman C'est soit tu détruis ma vie, soit t'es l’médicament Il est, il est trente milles euros quand j'regarde l'heure sur ma montre En gros, quand je réussis, je prends l'temps de la montrer J'écris ma vie quand l'inspi' déborde, je connais la valeur des mots Pour l'résultat, la manière importe peu, la chance ne fait pas partie du lot J'suis là parce que j'ai jamais rien la’, jamais rien lâché J'suis là parce que j'ai jamais rien la’, jamais rien lâché, yeah Et j'suis toujours autre part, bébé c'soir je rentre tard Gentleman sans costard, j'mène une vie de rockstar J'voulais faire le milli', milli', maintenant j'en ai deux-trois J’donne l'heure à ces tocards, j'viens d'signer chez Audemars J'étais dans les cordes, j'attendais seulement d'leur mettre un crochet dans les côtes J'ai toujours crû au proverbe qui dit: \"Un jour ou l'autre\" J'aime quand maman m'dit: \"Mon fils, t'es la fierté des nôtres\" J'ai la clé qui ouvre toutes les portes J'ai pété l'disque de diamant pourtant j'étais loin derrière C'est pas pour l'style quand j'te dis que j'ai dû remuer ciel et terre Numéro dix dans mon domaine avec l'art et la manière Je vois ton vice quand j'me rappelle des deux-trois années derrière (ah) On s'fait la guerre en s'aimant, la gloire amène forcément les femmes Et les femmes cherchent le sexe du bon amant La Terre tourne doucement, les hommes trichent Tous se mentent, la partie était déjà truquée (yeah) En meute avec mes loups, la lune nous garde en éveil (ahou) Y a rien d'mieux que de rêver mais debout, les deux yeux grands ouverts Tu veux un amour fort et sincère? Tu demandes à maman C'est soit tu détruis ma vie, soit t'es l’médicament Il est, il est trente milles euros quand j'regarde l'heure sur ma montre En gros, quand je réussis, je prends l'temps de la montrer J'écris ma vie quand l'inspi' déborde, je connais la valeur des mots Pour l'résultat, la manière importe peu, la chance ne fait pas partie du lot J'suis là parce que j'ai jamais rien la’, jamais rien lâché J'suis là parce que j'ai jamais rien la’, jamais rien lâché, yeah J'veux péter le pavillon, je ne suis pas vieux, voler sans avion Noir est le pavillon, j'écris ma vie mais j'ai planté personne, je suis pas Villon J'ai trahi personne, je suis pas Fillon, ne viens pas nous faire la mafia Je sais pourquoi tout l'monde est méfiant, j'relativise quand j'suis pas fiable Crois-moi y a pas plus lâche qu'un homme apeuré Rapport charnel tellement intense, qu'elle en a pleuré J'ai fouillé dans mes songes comme dans du sable mouillé Y avait écrit: \"devant les hommes, ne jamais s'agenouiller\" Jeune Ken, pas de travail, pas d'blé, rien que j'voulais cale-dé, comme un keuf j'voulais palper Si j'me sens pauvre, en un aller simple, y a les sous Rien qu'on s'emporte, mon adolescence, elle est sombre Y a les sons propres, ouais mais y a les sons salissants Et j'me sens comme Mohamed Ali sans sa licence Repas sans porc, fait peur à la France plus que Monsanto Comme Népal, rendez-vous Omotesandō Quand j'suis à Los Angeles, c'est Los Santos, ouais c'est Los Santos Un putain d'centaure (centaure), je sors le soir dehors quand Paris s'endort (s'endort) Pour tes yeux j'aurais pu torturer cent hommes, J'arrête le jeu puis je recommence sans toi, j'recommence sans toi Tu veux un amour fort et sincère? Tu demandes à maman C'est soit tu détruis ma vie, soit t'es l’médicament Il est, il est trente milles euros quand j'regarde l'heure sur ma montre En gros, quand je réussis, je prends l'temps de la montrer J'écris ma vie quand l'inspi' déborde, je connais la valeur des mots Pour l'résultat, la manière importe peu, la chance ne fait pas partie du lot J'suis là parce que j'ai jamais rien la’, jamais rien lâché (c'est parce que j'ai jamais) J'suis là parce que j'ai jamais rien la’, jamais rien lâché (hum, hum) J'suis là parce que j'ai jamais rien, jamais rien lâché J'suis là parce que j'ai jamais rien\n",
      "\n",
      "Title: Ma vie\n",
      "Lyrics: T'as détruit ma vie Détruit ma vie Ma vie Est-c'que t'y penses? Qu'est-c'que ça t'fait? De m'avoir pris jusqu'au dernier morceau du cœur que t'as détruit Triste vie, j'me suis fait des films J'ai tapé dans l'mille mais j'ai préféré m'dire que c'était qu'un film J'peux plus dormir quand j't'imagine avec ce fils de te-pu dans mon lit J'essaye d'être le plus calme et serein possible Mais j'ai qu'une envie: c'est d'éclater vos têtes sur la vitre T'as détruit ma vie, ma vie T'as détruit ma vie, ma vie T'as détruit ma vie, ma vie Ma vie, oh oh, ma vie T'as détruit ma vie, ma vie T'as détruit ma vie, ma vie Ma vie, oh oh, ma vie T'es quelqu'un d'malhonnête, dis-moi qu'c'est l'fruit d'une erreur que tu regrettes Que tu voulais m'faire subir un supplice, une injustice pour que j'te dise à quel point je t'aime Est-c'qu'il fait ça mieux qu'moi? Qu'est-c'qu'il, qu'est-c'qu'il a que j'n'ai pas? J'veux même pas l'savoir, j'essaye d'être le plus calme et serein possible Mais j'ai qu'une envie: c'est d'éclater vos têtes sur la vitre T'as détruit ma vie, ma vie T'as détruit ma vie, ma vie T'as détruit ma vie, ma vie, (ma vie) Ma vie, oh oh, ma vie, (ma vie) Ma vie (ma vie), ma vie Ma vie, oh oh, ma vie Ma vie T'as détruit ma vie Oh-oh-ah\n",
      "\n",
      "Title: Mémoire courte\n",
      "Lyrics: T'as la mémoire courte, ah eh T’as oublié tous c’que j’ai fais pour que tu sois qui tu es T’as la mémoire courte, ah eh J’ai donné sans jamais demander de me restituer, umh Tu m’as tourné le dos sans prévenir Ce qui m’fait mal c’est que j’ai pas vu venir Cherche un mot plus fort que déçu Donc de ton côté ta langue tu ne sais plus la retenir Pour t’arranger, moi j’ai tout tenté Jusqu’à mettre certains de mes projets en attente, umh Ça glissera mieux si je le chante Tu fais partie d’la pire des races: ingrate et gentille J’ai beau me le dire à chaque fois Trop donner, trop donner c’est pas bon pour moi, yeah Est-ce que tu as été sincère une fois? Ou bien jamais, tu m’as jamais vue comme j’te vois, yeah J’attend pas qu’on me le rende Si je t’ai monté c’est pas pour te faire redescendre Mais tu t’es enflammé dans la monté Jusqu’à réduire tous ce que j’ai fais pour toi en cendres T'as la mémoire courte, ah eh T’as oublié tous c’que j’ai fais pour que tu sois qui tu es T’as la mémoire courte, ah eh J’ai donné sans jamais demander de me restituer, umh Et maintenant tu parles dans mon dos Toi, t’utilises tous ce que je t’ai confié Tant pis si ça m’fait rester sous l’eau Tu m’fait regretter de t’avoir élever Ça m’énerve encore plus d’être énervé Je t’ai considéré comme pas beaucoup Tu t’es servi d’moi jusqu’à c’que tu puisses t’acheter tes ceintures LV Tu rends mon cœur un peu plus sombre Si j’te demande pourquoi, tu saurais pas répondre Puisque briller c’est tout c’qui compte J’te souhaite l’obscurité, l’avenir est comme ton ombre Je peux pas dire que ça m’affecte pas Je t’ai donné ma confiance et tu m’la rends comme ça Je peux pas dire que ça m’affecte pas Désolé, désolé mais ça n’se passe pas comme ça Aujourd’hui t’as choisis ton camp Mon dos est large, il encaisse pendant trop longtemps Je veux quand même que tu l’entendes Quand tu tomberas, je serai le premier content T'as la mémoire courte, ah eh T’as oublié tous c’que j’ai fais pour que tu sois qui tu es T’as la mémoire courte, ah eh J’ai donné sans jamais demander de me restituer, umh Et maintenant tu parles dans mon dos, toi Tous ça pour te valoriser En faite tu veux juste briller solo Et maintenant tu craches dans mon dos, toi T’utilises tous c’que je t’ai confié Tant pis si ça m’fait rester sous l’eau Tu veux juste briller, briller, briller solo Tant pis si ça m’fait rester, rester sous l’eau Tant pis pour les souvenirs, tant pis C’est ta faute, tu m’as laissé mourir Tant pis pour les souvenirs, tant pis C’est ta faute, tu m’as laissé mourir Oh oh ah\n",
      "\n",
      "Title: Perdu\n",
      "Lyrics: Comment je vais récupérer ce que j'ai perdu? Perdu (hi) J'me rends compte de ta valeur maintenant que j't'ai perdu, perdu (hi) Te faire croire que tout va pour le mieux, c'est dans ma nature, nature (hi) Ma bouche t'avoueras pas que pour mon cœur c'est trop dur, trop dur (hi-yeah) J'ai perdu madame, sortie de ma vie aussi vite qu'on peut entrevoir un éclair J’ai perdu madame, j’me refais toutes les pièces, il n’y a plus ses affaires Elle m’avait dit qu’j’allais la perdre (eh), j’entendais mais j’étais sûr de n’pas la perdre (yeah) Je n’ai fait qu’attiser sa haine (eh), j’étais sûr qu’l’amour serait plus fort que sa haine Mmh quoi je m’attendais? Je suis fautif, je mérite ce qui m’arrive J’me suis mis en danger, j’suis trop naïf, je mérite ce qui m’arrive Je t’aimerais toujours, je ne t’oublierais jamais, femme de ma vie Ma langue est bien trop lourde pour dire que je voulais que tu reviennes dans ma vie Comment je vais récupérer ce que j'ai perdu? Perdu (hi) J'me rends compte de ta valeur maintenant que j't'ai perdu, perdu (hi) Te faire croire que tout va pour le mieux, c'est dans ma nature, nature (hi) Ma bouche t'avoueras pas que pour mon cœur c'est trop dur, trop dur (hi-yeah) Ma baby mama baby mama, à chaque fois que j’te vois, je continue de faire comme si rien ne m’affectait Ma baby mama baby mama, est-ce que t’arrives à voir au-delà de ma fierté? Est-ce que ma fille réclame son père? (mmh) Qu’est-ce que tu réponds quand elle demande son père? (yeah) J’aimerais tant revenir en arrière (yeah), revivre en boucle les jours où tu m’aimais sincèrement (ah) On me demande sans cesse: comment je fais pour ne rien ressentir? S’ils savaient ce que j’encaisse, c’que tu me fais, mais je continue de ne rien dire Je t’aimerais toujours, je ne t’oublierais jamais, femme de ma vie Ma langue est bien trop lourde pour dire que je voulais que tu reviennes dans ma vie Comment je vais récupérer ce que j'ai perdu? Perdu J'me rends compte de ta valeur maintenant que j't'ai perdu, perdu (hi) Te faire croire que tout va pour le mieux, c'est dans ma nature, nature (hi) Ma bouche t'avoueras pas que pour mon cœur c'est trop dur, trop dur (hi-yeah) Je veux que tu reviennes, mais ça veut pas sortir J’aimerais que tu reviennes, j’arrive pas à te le dire J’aimerais tant que tu reviennes, mais ça veut pas sortir Ça veut pas sortir, j’aimerais tant te le dire Je veux que tu reviennes, mais ça veut pas sortir J’aimerais que tu reviennes, j’arrive pas à te le dire J’aimerais tant que tu reviennes, mais ça veut pas sortir Ça veut pas sortir, j’aimerais tant te le dire Mmh yeah, mmh yeah Oh oh aye\n",
      "\n",
      "Title: Ma faute\n",
      "Lyrics: Oh oh ah Quand tu m'avais quitté, je ne pensais pas te retrouver Je cherchais à me venger avec la première que j'ai trouvé Un long mois s’est écoulé, on a fini par se retrouver Et pendant que je doutais, j'ai fais une chose qu'on ne peut réparer Eh, oh yeah J'ai fais le con, je t'ai menti, menti, tu l'as pas vu, pas senti, senti Donc j’ai continuer de te mentir, mentir, mais c’était de pire en pire Elle est revenu pour me dire, me dire, qu'elle attendait un petit, petit Je l'ai pas vu, pas senti, senti, eh J'aurais du prendre le risque, prendre le risque de t'en parler Tu méritais des explications, mais j'ai préféré garder Aujourd'hui je t'ai rendu triste, je suis sincèrement désolé Je comprendrais si tu me quittes, si tu décides de t'en aller Et c'est de ma faute à moi, mais je ne peux pas le laisser tomber (je dois tout assumer) Et c'est de ma faute à moi, mais je ne veux pas te laisser tomber (c’est toi que j’aime mon bébé) Et c'est de ma faute à moi, mais je ne peux pas le laisser tomber (je dois tout assumer) Et c'est de ma faute à moi, mais je ne veux pas te laisser tomber (je ne vais jamais le supporter) C’était qu'un coup d'un soir, je n'l'ai vu qu'une seule fois Y’avait pas de relation, non pas de love J'ai voulu cacher ça, mais c'était sans savoir pour le gosse (je ne savais pas) Je sais bien qu’il est trop tard pour raconter l'histoire, je te demande de me croire ma baby love Maintenant que je sais tout ça, je ne peux pas faire semblant, j'ai pas la force (faire semblant de n’pas l’voir) Oh yeah Donc si tu décide de partir, partir, j'n’ai pas le droit de te retenir, retenir Je sais que ça va changer ta vie, ta vie, mais j’veux pas te laisser partir, partir C'est que je dois en payer le prix, le prix, et au fond j’ai qu’une envie, envie C'est tenter de te retenir, retenir, eh J'aurais du prendre le risque, prendre le risque de t'en parler Tu méritais des explications, mais j'ai préféré garder Aujourd'hui je t'ai rendu triste, je suis sincèrement désolé Je comprendrais si tu me quittes, si tu décides de t'en aller Et c'est de ma faute à moi, mais je ne peux pas le laisser tomber (je dois tout assumer) Et c'est de ma faute à moi, mais je ne veux pas te laisser tomber (c’est toi que j’aime mon bébé) Et c'est de ma faute à moi, mais je ne peux pas le laisser tomber (je dois tout assumer) Et c'est de ma faute à moi, mais je ne veux pas te laisser tomber (je ne vais jamais le supporter) Je ne vais jamais le supporter Je ne vais jamais le supporter Je ne vais jamais le supporter Oh oh ah\n",
      "\n",
      "Title: Je ne t'aime plus\n",
      "Lyrics: Hmm, hmm, hmm yeah, eh Ma chérie j'ai tellement de choses à te dire mais tu vois Je n'sais pas vraiment comment te les dire, excuses-moi J'vais commencer par t'jurer qu''y a pas d'autre fille Je ne t'ai jamais menti De c'côté la je suis clean, rassures-toi J'vais t’expliquer un peu mon ressenti depuis des mois Plus de love, que du jeu d'acting, cinéma C'est dur à dire mais je dois partir pour me sentir mieux J'comprends si tu dis qu'je te dégoûte, t'étais pas préparée J'crois qu'moi même j'me dégoûte, j'y pense sans arrêt Mais pour mon cœur y'a plus aucun doute je dois m'en aller Parce que c'est mieux comme ça Ni la force, ni l'envie de continuer de te mentir mon bébé Je réalise qu'il n'y a plus d'avenir Je ne t'aime plus, nah, eh Je ne t'aime plus Et pourtant j'te jure que j'ai essayé Mais je n't'aime plus, ouh ouh, yeah Et j'suis là à m'casser la tête à trouver un synonyme de \"je n't'aime plus\" Je ne t'aime plus J'vais sûrement devenir le petit bâtard qui t'as blessé Entrer dans la case des hommes que tu rêve d'effacer Et même si j'deviens ton pire ennemie, je n'peux plus m'retenir Y'a plus d'amour maintenant c'est de l'affection du respect J'ai essayé mais ça fais quatre, cinq, six coup d'essaie J'veux m'réveiller, je veux sortir de ce film, il est temps d'en finir C'est pas parce que tu es mauvaise non, c'est moi qui n'tiens pas debout T'as fais c'qu'il fallait mais j'irais pas jusqu'au bout Et je le sais, au fond de moi je le sais, je vais te faire souffrir J'ai ni la force, ni l'envie de continuer de te mentir mon bébé Je réalise qu'il n'y a plus d'avenir Je ne t'aime plus, oouh, eh, eh Je ne t'aime plus Et pourtant j'te jure que j'ai essayé Mais je n't'aime plus, eh, ah, ouh Et j'suis là à m'casser la tête à trouver un synonyme de \"je ne t'aime plus\" Je ne t'aime plus Tic-tac Plus le temps passe, plus je me lasse Je ne ressent plus rien quand je t'embrasse Plus le temps passe, plus je me lasse Je ne ressent plus rien Tic-tac Plus le temps passe, plus je me lasse Je ne ressent plus rien quand je t'embrasse Plus le temps passe, plus je me lasse Je ne ressent plus rien Oouh, eh, eh je ne t'aime plus Et pourtant j'te jure que j'ai tout essayé Mais je n't'aime plus, eh Je n't'aime plus, eh Et j'suis là à m'casser la tête à trouver un putain synonyme de Et je ne t'aime plus Tic-tac Plus le temps passe, plus je me lasse Je ne ressent plus rien quand je t'embrasse Plus le temps passe, plus je me lasse Je ne ressent plus rien Et je ne t'aime plus Tic-tac Plus le temps passe, plus je me lasse Je ne ressent plus rien quand je t'embrasse Plus le temps passe, plus je me lasse Je ne ressent plus rien\n",
      "\n",
      "Title: Normal\n",
      "Lyrics: Hmmm, mhé Oh oh ah Ah rhou, ah ah rhou, yeah hé Ah rhou, yeah, ah ah rhou, yeah hé J'ai envie d'me barrer, j'ai envie d'être là J'ai envie d'me marrer ouais, j'ai envie d'être seul J'ai envie d'être sérieux, j'ai envie d'faire du sale J'ai envie d'faire beaucoup mieux, mais j'veux rester moi J'ai envie d'te voir, mais seulement quand j'en ai envie J'ai envie d'm'engager, mais j'refuse de prendre des risques J'ai envie de partager, envie d'être égoïste J'ai envie d'abandonner, mais j'veux pas lâcher prise Je ne suis pas normal, normal J'ai envie de faire ma vie sans que tu le prennes mal J'ai envie d'être normal, normal Pouvoir rester tel que je suis, sans que tu l'prennes mal, yeah Ah rhou, ah ah rhou, yeah hé Ah rhou, ah ah rhou, yeah hé Ah rhou, ah ah rhou, yeah hé Ah rhou, ah ah rhou, yeah hé J'ai envie d'réfléchir, j'veux penser à rien J'veux m'éloigner d'tout l'monde, mais j'veux garder les miens J'ai envie de faire confiance, je veux pas être déçu J'ai envie d'être conscient, mais j'veux garder l'dessus, hey J'ai envie qu'on m'voit, mais j'ai envie d'être invisible Être proche de toi, tout en restant inaccessible J'ai envie d'enfourailler, j'ai envie d'être libre Que tu me dises: \"je t'aime\", sans te dire: \"moi aussi\" Je ne suis pas normal, normal J'ai envie de faire ma vie sans que tu le prennes mal J'ai envie d'être normal, normal Pouvoir rester tel que je suis, sans que tu l'prennes mal, yeah Ah rhou, ah ah rhou, yeah hé Ah rhou, ah ah rhou, yeah hé Ah rhou, ah ah rhou, yeah hé Ah rhou, ah ah rhou, yeah hé J'suis un peu comme tous les garçons, tu sais qu'on se cherche On essaie, on essaie, de toutes les façons, de n'pas perdre la tête J'suis un peu comme tous les garçons, tu sais qu'on se cherche On essaie, on essaie, de toutes les façons, de n'pas perdre la tête Yeah Je ne suis pas normal, normal J'ai envie de faire ma vie sans que tu le prennes mal J'ai envie d'être normal, normal Pouvoir rester tel que je suis, sans que tu l'prennes mal, yeah Ah rhou, ah ah rhou, yeah hé Ah rhou, ah ah rhou, yeah hé Ah rhou, ah ah rhou, yeah hé Ah rhou, ah ah rhou, yeah hé\n",
      "\n",
      "Title: Cette femme\n",
      "Lyrics: Tellement parfaite que cette femme n'existe pas, cette femme n'existe pas, hey Cette femme n'existe pas, je dois rêver Tellement parfaite que cette femme n'existe pas, cette femme n'existe pas, hey hey hi yeah Cette femme n'existe pas, je dois rêver J'ai recherché, recherché dans le monde entier c'qui m’était nécessaire J'ai recherché partout, t'es apparue comme une oasis dans le désert J'suis comme l'enfant qui dit: \"c'est à moi\" J'pense pas réussir à tout partager Collé-serré comme siamois, impossible à départager Tu as l'amour de l'Afrique, ma maman t'aimera pour ça J'ai revu ton historique, j'ai rien trouvé Si la fin de ce rêve signifie que je ne vais plus jamais te revoir C'que je souhaite, c'n'est jamais me réveiller Cette femme n'existe pas, cette femme n'existe pas, cette femme n'existe pas Cette femme n'existe pas, cette femme n'existe pas je dois rêver Tellement parfaite que cette femme n'existe pas, cette femme n'existe pas Cette femme n'existe pas, cette femme n'existe pas, je dois rêver Tu as fini la partie, convaincu mon esprit que rien n'est éternel (rien n'est éternel) J'me sens partir, je résiste un peu pour profiter du temps additionnel (temps additionnel) Sans même entendre le son de ta voix, j'imagine seulement l'accent de ton pays Après tout, y a plus rien à voir, pourquoi quitter mon sommeil? Est-ce le mot magnifique serait suffisant pour toi? J'ai puisé dans mon lexique, mais j'ai pas trouvé Si la fin de ce rêve signifie que je ne vais plus jamais te revoir C'que je souhaite, c'n'est jamais me réveiller Cette femme n'existe pas, cette femme n'existe pas, cette femme n'existe pas Cette femme n'existe pas, cette femme n'existe pas je dois rêver Tellement parfaite que cette femme n'existe pas, cette femme n'existe pas Cette femme n'existe pas, cette femme n'existe pas, je dois rêver Il le faut, je sais que c'est toi qu'il me faut T'as quitté, tout est plié, je sais que c'est toi qu'il me faut Il le faut, je sais que c'est toi qu'il me faut T'as quitté, tout est plié, je sais que c'est toi qu'il me faut\n",
      "\n",
      "Title: Promesse\n",
      "Lyrics: Ca prendra l'temps qu'il faudra, yeah Yeah hi hi hi hi hi hi hi Ca prendra l'temps qui faudra, prendra l'temps qui faudra Yeah Bébé, ne crains rien (bébé, ne crains rien), je sais d'où tu viens (je sais d'où tu viens) T'as vécu la pire des choses (pire des choses), tu as mon soutien (tu as mon soutien) Et ton corps se souvient (et ton corps se souvient), de la dernière fois et de tous les coups Et tatoué sur ta peau (sur ta peau), ce n'était pas moi Et ça prendra le temps qu'il faut, mais je vais te soigner (et je vais te soigner) J'attendrai le temps qu'il faudra, si tu le permets (si tu le permets) Je te fais la promesse (je te fais la promesse), de n'pas faire de promesse (de n'pas faire de promesse) Te donner ce qu'il faut, mais sans faire de promesse Je n'suis pas ton ex, je n'suis pas dangereux Là promis, c'est d'entendre: \"je vais te rendre heureuse\" Finie l'époque où ta confiance était aveugle, aveugle Hi hey hi hi hi Que plus personne s'approche de toi, c'est c'que tu veux Tu n'laisseras plus un homme te rendre malheureuse Les coups qu'il t'a portés t'ont bien ouverts les yeux, les yeux Hi hey hi hi hi Tu dis qu'y a pas d'avenir entre toi et moi Parce qu'au final, les hommes on est tous les mêmes Hi hey hi hi hi Tu dis qu'y a pas d'avenir entre toi et moi Mais laisse-moi essayer d'régler tes problèmes Bébé, ne crains rien (bébé, ne crains rien), je sais d'où tu viens (je sais d'où tu viens) T'as vécu la pire des choses (pire des choses), tu as mon soutien (tu as mon soutien) Et ton corps se souvient (et ton corps se souvient), de la dernière fois et de tous les coups Et tatoué sur ta peau (sur ta peau), ce n'était pas moi Et ça prendra le temps qu'il faut, mais je vais te soigner (et je vais te soigner) J'attendrai le temps qu'il faudra, si tu le permets (si tu le permets) Je te fais la promesse (je te fais la promesse), de n'pas faire de promesse (de n'pas faire de promesse) Te donner ce qu'il faut, mais sans faire de promesse Tu n'arriveras pas à m'éloigner de toi, juste parce que tu as peur qu'je puisse te décevoir Des héroïnes que j'sauve à la fin de l'histoire, de l'histoire Hi hey hi hi hi Puisqu'je peux pas promettre, il ne te reste qu'à voir J'te propose, je te donne, tu n'as qu'à recevoir Tes yeux confirmeront c'que ton cœur peine à croire, à croire Hi hey hi hi hi Tu dis qu'y a pas d'avenir entre toi et moi Parce qu'au final, les hommes on est tous les mêmes Hi hey hi hi hi Tu dis qu'y a pas d'avenir entre toi et moi Mais laisse-moi essayer d'régler tes problèmes Yeah Bébé, ne crains rien (bébé, ne crains rien), je sais d'où tu viens (je sais d'où tu viens) T'as vécu la pire des choses (pire des choses), tu as mon soutien (tu as mon soutien) Et ton corps se souvient (et ton corps se souvient), de la dernière fois et de tous les coups Et tatoué sur ta peau (sur ta peau), ce n'était pas moi Et ça prendra le temps qu'il faut, mais je vais te soigner (et je vais te soigner) J'attendrai le temps qu'il faudra, si tu le permets (si tu le permets) Je te fais la promesse (je te fais la promesse), de n'pas faire de promesse (de n'pas faire de promesse) Te donner ce qu'il faut, mais sans faire de promesse On prendra l'temps qui faudra, yeah On prendra l'temps qui faudra, yeah Yeah hi hi hi hi hi hi hi Yeah, oh oh\n",
      "\n",
      "Title: Robe\n",
      "Lyrics: Quand tes formes se dessinent, ta robe nous laisse imaginer (hein) Que pour toi c'est impossible de dire \"oui\" (ouh) Contente-toi d'me faire un signe, juste un battement de cil (ouh oui) Si jamais tu te décides de dire \"oui\" (ouh) J'ai commencé par demander ton nom (demander ton nom) Et quelques minutes pour m'écouter, -couter, -couter, -couter (ouh) Avant de devenir plus proche que ton ombre Au point d'avoir le souffle coupé, coupé, coupé, coupé (ouh) Et j'ai des projets pour toute une vie, j'suis un peu différent de celui qui chante \"BruxellesVie\" (ouais) J'nous vois bien bloqués dans cette même nuit À braquer l'soleil pour empêcher qu’ça se termine Laisse-moi t'accompagner, laisse-moi t'prouver que cette nuit durera sûrement des années Ma chérie laisse-moi t’enlever, tout est, tout est, tout est (ouh) Quand tes formes se dessinent (se dessinent), ta robe nous laisse imaginer (ta robe nous laisse imaginer) Que pour toi c'est impossible de dire \"oui\" (ouh) Contente-toi d'me faire un signe (un signe), juste un battement de cil (ouh oui) Si jamais tu te décides de dire \"oui\" Dans ta tte-cha je ferais oh oh ah J't'ai vu briser tous les cœurs des bricraveurs du club, des gros gros bras L’amour, j’connais que celui tiré par les cheveux pendant le doggy, me d’mande pas pourquoi Très écologique quand il s'agit de ta plastique, girl Mauvais pronostic, askip t'aimes pas les blacks, ni beurs J'loue un jet pour un date, j'f'rais la tchatche du septième ciel, ah bas oui J'créé d'la moula, on vivra comme dans clip des cains-ri T'enlèves ta robe, j'perds la vue T'es comme du shit dans la rue, tu t'fais désirer pour mieux t'fumer dans une feuille sale Si j'demande ta main, c'est pour la mettre sous le froc Balmain, y a pas de fiançailles ici J'me sens comme Biggie après Juicy, j'nous vois à deux mais sur un tricycle Un marmot, une villa marbrée à Marbella, une vie dans laquelle les aiguilles tournent mais où le temps ne passe pas, Dams Quand tes formes se dessinent ((se dessinent)), ta robe nous laisse imaginer (ta robe nous laisse imaginer) Que pour toi c'est impossible de dire \"oui\" (ouh) Contente-toi d'me faire un signe (un signe), juste un battement de cil (ouh oui) Si jamais tu te décides de dire \"oui\" (ouh) Un signe Ta robe nous laisse imaginer Ouh Ta robe nous laisse imaginer Oh oh ah\n",
      "\n",
      "Title: Lionne\n",
      "Lyrics: Lionne Oh oh ah Un peu de respect Faut respecter Quand une lionne arrive à tout gérer Un de perdu, mais elle s’est retrouvée Pas besoin d'un homme qui l'empêche d'avancer Elle a ses règles, et sa fierté C'est pas elle que tu verras mendier Célibataire ou femme mariée Ça change à rien sa façon de penser Fort caractère, elle sait dire non Elle dit jamais son dernier mot Et tu peux lire sous ses paupières: \"Déterminée\" Elle agit, elle ne parle pas Lionne affamée Si tu lui donnes la misère du monde Elle va tout assumer Si tu lui donnes la richesse d'un homme Elle va tout assumer Elle mettra toujours la famille d'abord Elle va tout assumer Le genre de femme qui à chaque problème s'en sort Elle va tout assumer Lionne Ah, Lionne Cours ma Lionne Ah, Lionne Sois pas naïf La Khaleesie, sait très bien comment gérer sa vie Charismatique, elle est sexy Elle prend soin d'elle malgré tous les soucis Elle prend des risques elle réfléchit Pas besoin de demander ton avis Son objectif: la réussite Son amour connaît pas de limite Fort caractère, elle sait dire non Elle dit jamais son dernier mot Et tu peux lire sous ses paupières: \"Déterminée\" Elle agit, elle ne parle pas Lionne affamée Si tu lui donnes la misère du monde Elle va tout assumer Si tu lui donnes la richesse d'un homme Elle va tout assumer Elle mettra toujours la famille d'abord Elle va tout assumer Le genre de femme qui à chaque problème s'en sort Elle va tout assumer Lionne Ah, Lionne Cours ma Lionne Ah, Lionne Elle veut tout assumer, ssumer Tout assumer, ssumer Et toutes les fois où elle aurait pu tomber Elle a jamais pensé qu'elle pouvait pas y arriver Ah, Lionne Cours ma Lionne Ah, Lionne Tout assumer, ssumer Tout assumer, ssumer Elle veut tout assumer, tout assumer Tout assumer, tout assumer Oh oh ah\n",
      "\n",
      "Title: Déjà trouvé\n",
      "Lyrics: Yeah, mmh yeah Rakutaku, Dadju, Dadju Rakutaku, Dadju, Dadju Tout le monde la connaît dans l'jeu Si t'as pas tes crampons sous les semelles, c'est dangereux Interdit aux moins de 20 000E Si ton banquier te parle pas, négro t'es hors-jeu Mademoiselle est sucrée Donc bien évidemment, je suis allé discuter Noires sont mes idées Elle se demande mais pourquoi j'suis en train d'hésiter? Elle m'dit: \"Alors?\" \"Est-ce que t'es prêt pour notre corps à corps?\" \"C'est mort\" \"Quoi qu'il arrive, on ne fera qu'un seul corps\" Mais j'lui dis: \"j'ai déjà trouvé, mon amour je l'ai déjà trouvé\" J'ai déjà trouvé, ce que tu donnes je l'ai déjà trouvé J'ai déjà trouvé, mon amour je l'ai déjà trouvé J'ai déjà trouvé, ce que tu donnes je l'ai déjà trouvé Mmh, yeah Oh oh ah Rakutaku, Dadju, Dadju Rakutaku, Dadju, Dadju Elle fait tomber les mafieux Celui qui se croit intouchable, il est audacieux Écartez tous les tits-pe C'est le genre de femme qui fait et prend ce qu'elle veut J'crois bien que je l'ai choquée Mademoiselle n'a pas l'habitude d'être bloquée, déstabilisée Quand je refuse, ça lui donne envie de me croquer Elle dit: \"Vraiment? \" \"Toi tu refuses notre corps-à-corps\" \"Tu mens\" \"Y'a aucun homme qui ne veut pas mon corps\" Donc j'lui dis: \"j'ai déjà trouvé, mon amour je l'ai déjà trouvé\" J'ai déjà trouvé, ce que tu donnes je l'ai déjà trouvé J'ai déjà trouvé, mon amour je l'ai déjà trouvé J'ai déjà trouvé, ce que tu donnes je l'ai déjà trouvé Mmh, yeah Oh oh ah Rakutaku, Dadju, Dadju Rakutaku, Dadju, Dadju Jamais de la vie, tu m'auras Quand je serai célibataire, tu l'sauras Pour te remonter le moral Dis-toi qu'y'a toujours plus fort que soi-même Je te dis bye-bye-bye-bye Je m'en vais, ne m'attends pas-pas-pas-pas Je te dis bye-bye-bye-bye Je m'en vais, ne m'attends pas-pas-pas-pas Jamais de la vie, tu m'auras Quand je serai célibataire, tu l'sauras Pour te remonter le moral Dis-toi qu'y'a toujours plus fort que soi-même Je te dis bye-bye-bye-bye Je m'en vais, ne m'attends pas-pas-pas-pas Je te dis bye-bye-bye-bye Je m'en vais, ne m'attends pas-pas-pas-pas Mais j'lui dis: \"j'ai déjà trouvé, mon amour je l'ai déjà trouvé\" J'ai déjà trouvé, ce que tu donnes je l'ai déjà trouvé J'ai déjà trouvé, mon amour je l'ai déjà trouvé J'ai déjà trouvé, ce que tu donnes je l'ai déjà trouvé Mmh, yeah Oh oh ah Rakutaku, Dadju, Dadju Rakutaku, Dadju, Dadju\n",
      "\n",
      "Title: Oublie-le\n",
      "Lyrics: La routine du célibat m'a rentré dans un délire Ou j'pensais même que mon coeur était mort Mais là j'reçois un snap d'une certaine Cathie Qui m'dit \"tu t'rappelles qui j'suis? Si t'as oublié, tranquille tu m'ignores\" J'me suis reveillé, choqué \"comment j'pourrais t'oublier? J't'ai cherché d'puis le lycée jusqu'à qu'on m'dise que tu t'es mariée\" Elle m'dit \"t'as pas bien cherché, t'es mauvais Si tu m'avais trouvé, peut-être qu'aujourd'hui on se serait marié\" \"Mais aujourd'hui, c'est trop tard, j'ai un homme Peut-être, dans une autre vie, dans un autre monde\" J'lui dis \"c'est jamais trop tard, on finira par s'revoir À c'moment là, je n'donnerai pas cher de ton homme\" Et même si je sais que t'es mariée, qu'on devrait pas s'parler Tu sais pas c'que tu veux, j'le sens quand j't'entends parler Laisse-moi te revoir, si t'es sûre de ne pas tomber J'te montrerai bien plus que des mots, oh, yeah Ça t'éffraie de savoir que si tu me revois, ta vie pourrait changer Tu peux pas dire non J'ai forcé le destin, si tu croises mon chemin, ça va mal terminer Je veux que tu l'oublies pour de bon Tu peux pas dire non Je veux que tu l'oublies pour de bon Tu peux pas dire non Je veux que tu l'oublies pour de bon Tu peux pas dire non Je vais faire en sorte que tu l'oublies pour de bon Tu peux pas dire non Je sais que c'est pas comme ça, t'es mariée, t'as déjà fait ton choix Ne gache pas tout juste pour un ami de longue date Je n'dis pas que t'es malheureuse, je dis que tu pourrais être plus heureuse Si pour toi je suis plus qu'un ami de longue date Je te veux depuis que j't'ai connu, je sais même pas comment j'ai tenu Je veux te voir sans retenu, sans témoin, sans ta tenue J'ai du respect pour toi, j'ai besoin de toi J'parle en connaissance de cause, j'ai essayé sans toi Tu le mérites, m'en veut pas de te donner c'que tu mérites mama Même si ce qu'j'fais, c'est mauvais Le passé je m'en débarrasse, qu'est-ce t'as fait quand j'étais pas là? J'étais pas là, donc pour moi ça compte pas Et même si je sais que t'es mariée, qu'on devrait pas s'parler Tu sais pas c'que tu veux, j'le sens quand j't'entends parler Laisse-moi te revoir, si t'es sûre de ne pas tomber J'te montrerai bien plus que des mots, oh, yeah Ça t'éffraie de savoir que si tu me revois, ta vie pourrait changer Tu peux pas dire non J'ai forcé le destin, si tu croises mon chemin, ça va mal terminer Je veux que tu l'oublies pour de bon Tu peux pas dire non Je veux que tu l'oublies pour de bon Tu peux pas dire non Je veux que tu l'oublies pour de bon Tu peux pas dire non Je vais faire en sorte que tu l'oublies pour de bon Tu peux pas dire non Ne te prends pas la tête Choisis avec ton cur, pas avec ta tête (oh oh ah) Ne te prends pas la tête Choisis avec ton cur, pas avec ta tête, yeah Ça t'éffraie de savoir que si tu me revois, ta vie pourrait changer Tu peux pas dire non J'ai forcé le destin, si tu croises mon chemin, ça va mal terminer Je veux que tu l'oublies pour de bon (je veux que tu l'oublies) Tu peux pas dire non Je veux que tu l'oublies pour de bon (je veux que tu l'oublies) Tu peux pas dire non Je veux que tu l'oublies pour de bon (je veux que tu l'oublies) Tu peux pas dire non Je vais faire en sorte que tu l'oublies pour de bon (je veux que tu l'oublies) Tu peux pas dire non Et je veux que tu l'oublies Je veux que tu l'oublies, je veux que tu l'oublies Je veux que tu l'oublies, yeah Oh oh ah\n",
      "\n",
      "Title: Trouvez-la moi\n",
      "Lyrics: Cette femme-là je n'arrive pas à l'oublier Et pourtant j'en ai connu plein d'autres De toutes origines, que des canons sciés Mais celle-là, elle m'a ensorcelé On m'avait pourtant dit de me méfier C'est la seule avec qui faut pas jouer Combien d'hommes ont essayé de la marier Elle sait comment les manipuler Remets les compteurs à zéro Laisse-moi devenir ton super-héros Commence par me donner ton numéro Puis sois la mère de mes enfants Avec moi, jamais tu ne t'ennuies Tu vas crier de midi jusqu'à minuit Et comme il faut pas réveiller les petits On les laissera chez ta maman Tu redonnes vie à tous les leggings Chérie, donne-moi ta main Ça sent le feeling Mama ya bana eh na lingui yo ya ko sakana té Soki motema na yo ezo coopéré ko banga té Cette femme-là je n'arrive pas à l'oublier Et pourtant j'en ai connu plein d'autres De toutes origines, que des canons sciés Mais celle-là, elle m'a ensorcelé On m'avait pourtant dit de me méfier C'est la seule avec qui faut pas jouer Combien d'hommes ont essayé de la marier Elle sait comment les manipuler Mais où qu'elle soit, trouvez-la moi Où qu'elle soit, trouvez-la moi Où qu'elle soit, trouvez-la moi Hééé Mais où qu'elle soit, trouvez-la moi Où qu'elle soit, trouvez-la moi Où qu'elle soit, trouvez-la moi Hééé Mais où es-tu donc Car j'ai reçu la flèche à Cupidon Mais ou es-tu donc j'crois que mes cadeaux sont pas suffisants Ah mama na bana a lelaka Dolce & Gabbana Putain moi j'suis pauvre elle téma ma ganache, stop! Malembé moi je veux pas que tu partes ma chérie Ma chérie porte une étoile comme monsieur le shérif Moi je ne veux pas que tu partes ma chérie Ma chérie porte une étoile comme monsieur le shérif Cette femme-là je n'arrive pas à l'oublier Et pourtant j'en ai connu plein d'autres De toutes origines, que des canons sciés Mais celle-là, elle m'a ensorcelé On m'avait pourtant dit de me méfier C'est la seule avec qui faut pas jouer Combien d'hommes ont essayé de la marier Elle sait comment les manipuler Mais où qu'elle soit, trouvez-la moi Où qu'elle soit, trouvez-la moi Où qu'elle soit, trouvez-la moi Hééé Mais où qu'elle soit, trouvez-la moi Où qu'elle soit, trouvez-la moi Où qu'elle soit, trouvez-la moi Hééé Na kobala yé, Na kobala yé eh C'est elle la plus belle, c'est elle la plus sexy L'amour de ma vie, la mère de mes enfants Na kobala yé, Na kobala ye ndé (Epasuka) Pas toi chérie na nga a leki yo na nioso Pas toi, chérie na nga a leki yo na taille Pas toi, chérie na nga a leki yo na souplesse Pas toi, chérie na nga a leki yo na ko sala mayi Cette femme-là je n'arrive pas à l'oublier Et pourtant j'en ai connu plein d'autres De toutes origines, que des canons sciés Mais celle-là, elle m'a ensorcelé On m'avait pourtant dit de me méfier C'est la seule avec qui faut pas jouer Combien d'hommes ont essayé de la marier Elle sait comment les manipuler Mais où qu'elle soit, trouvez-la moi Où qu'elle soit, trouvez-la moi Où qu'elle soit, trouvez-la moi Hééé Mais où qu'elle soit, trouvez-la moi Où qu'elle soit, trouvez-la moi Où qu'elle soit, trouvez-la moi Hééé Oh Ry-dyze Likambo nini ko kata nzembo boye Mabanga esalami nanu te dih, zongisa! Dalida mama na Dadju, queen mother Soki yo te nani angooo! Djuna Djanana le grand prêtre depuis ti sikoyo Franglish, Takesh, Joss Stinson, les mundele mwindu Kerby l'americain, JC Tsungula mokonzi Adonis Tsungula Charles Tabu petit de taille mais grand dans l'esprit Dany Synthé, maestro ya ko sakana te dih Naza, tika makambo ya ba debauchars, papa kola! Darcy, Bedjik, Maître Gims, ba ndekos ya makila Rudy le locksé de Belgique, to monani D.R.Y. na Niska, ba ndekos ya Brazzaville Ehh Papa Lorenz, Okagué ya Paris ko Gradur, na bosani yo te masta na ngai Tozo lukela yo kingo hehehe Serge Ibaka, Mafuzzy mais, 2m10 ya charisme Tony Yoka, masasi na maboko Boma mutu eeeeeehhhh Famille Tsungula na Kinshasa X-Gangs, Djelass, Trésor Djuna, makila Djuna Family, Prince Dadj Fally Ipupa Dicap la merveille Keblack mutu toujours bazardé Trop d'avance comme jet privé sur tricycle Trouvez-la moi eeeehhh Oh oh ah!\n",
      "\n",
      "Title: Reine\n",
      "Lyrics: Oh oh ah, Seysey Aujourd'hui je suis fatigué, je t'ai regardé dormir Et si ma voix peut t'apaiser Je chanterai pour toi toute la nuit Je t'entends dire à tes pines-co: \"Dadju, j'peux plus m'passer de lui\" Hey, tout va glisser sur ta peau C'est comme si je te passais de l'huile Et s'ils ne sont pas nous, c'est tant pis pour eux Et s'ils sont jaloux, c'est tant pis pour eux Fais le moi savoir quand c'est douloureux Je suis là s'il faut encaisser pour nous deux Et je le sais, je te fais confiance Quand tu me souris, tu fais pas semblant J'ai pas besoin d'attendre plus longtemps Je sais qu'il est temps d'partager mon sang Et t'élever au rang de reine Au rang de reine, au rang de reine J'vais t'élever au rang de reine Au rang de reine, au rang de reine Oh oh ah Je sais que l'amour c'est compliqué Mais avec toi, c'est plus facile Continue de rester toi-même et je ne regrette pas de t'avoir choisi Je l'ai promis à ton papa, je vais prendre soin de sa fille Tu fais parti de ma famille et Dieu sait combien j'aime ma famille Et s'ils te demandent, c'est qu'ils sont curieux S'ils te redemandent, c'est qu'ils sont envieux Ferme la porte à ceux qui font de leur mieux, pour nous empêcher d'être deux quand on sera vieux Et je le sais, je te fais confiance Quand tu me souris, tu fais pas semblant J'ai pas besoin d'attendre plus longtemps Je sais qu'il est temps d'partager mon sang Et t'élever au rang de reine Au rang de reine, au rang de reine J'vais t'élever au rang de reine Au rang de reine, au rang de reine Oh oh ah Assez parlé, au bout d'un moment y'a plus les mots Ça y est, j'ai délaissé mon cur dans ta paume J'te laisserai pas t'en aller, c'est mort J'ai mis du temps à te trouver mi amor Celui qui dit qu'on s'est trompé a tort On se battra même contre les coups du sort Assez parlé, au bout d'un moment y'a plus les mots Ça y est, j'ai délaissé mon cur dans ta paume J'te laisserai pas t'en aller, c'est mort J'ai mis du temps à te trouver mi amor Celui qui dit qu'on s'est trompé a tort On se battra même contre les coups du sort Et je le sais, je te fais confiance Quand tu me souris, tu fais pas semblant J'ai pas besoin d'attendre plus longtemps Je sais qu'il est temps d'partager mon sang Et t'élever au rang de reine Au rang de reine, au rang de reine J'vais t'élever au rang de reine Au rang de reine, au rang de reine Oh oh ah Au rang de... Au rang de... Je vais t'élever au rang de reine Au rang de... Au rang de... Laisse-moi t'élever au rang de reine Mmh hé\n",
      "\n",
      "Title: Jenny\n",
      "Lyrics: Seysey Oh oh ah Hmm, hmm, hmm, hmm Jenny va avoir 30 ans Célibataire trop longtemps (hmm hmm) Elle a plus le temps de perdre du temps Pas de mari, pas d'enfants (hmm hmm) Jenny est indépendante C'est pas l'argent qui lui manque (hmm hmm) Elle veut un homme maintenant Elle veut aller de l'avant Mais c'est jamais facile Elle veut voir dans les yeux de chaque homme qui la voit sans ces habits Jenny a le physique C'est ce qui empêche les autres de voir qu'elle se limite pas qu'a son physique C'qu'on dit sur elle, c'est une légende Elle s'est très bien s'que disent les gens Le genre de vieille femme qui se prend pour une dame Mais qui n'sais pas cadenasser ses jambes, yeah Hmm, hmm, hmm, hmm Toujours dans de sales histoires Hmm, hmm, hmm, hmm Toujours dans de sales histoires Hmm, hmm, hmm, hmm Toujours dans de sales histoires Pourtant c'est elle qui dit au gars ''Si tu comptes pas me revoir, au revoir!'' Hmm, hmm, hmm, hmm Toujours dans de sales histoires Hmm, hmm, hmm, hmm Toujours dans de sales histoires Hmm, hmm, hmm, hmm Toujours dans de sales histoires Pourtant c'est elle qui dit au gars ''Si tu comptes pas me revoir, au revoir!'' À chaque fois qu'elle est de sortie La même routine, elle se fait accoster C'est jamais de sa faute si elle l'attire vos sois disant bébés Jenny cherche un guerrier Un gars qui veut s'marier, pour la déshabiller Un gars qui lui répéterait \"Ça y est maintenant que j'suis arrivé plus rien n'va t'arriver\" Toujours l'mariage d'une copine À force ce n'est même plus drôle Jenny veut se créer ses propres souvenirs En ayant le premier rôle Jenny a beaucoup d'égo Elle donne jamais sont numéro Pour finir au tel-hô Ce qui on vu le bas de son dos Se limitent à deux, trois salauds qui sont rentré dans son cerveau Hmm, hmm, hmm, hmm Toujours dans de sales histoires Hmm, hmm, hmm, hmm Toujours dans de sales histoires Hmm, hmm, hmm, hmm Toujours dans de sales histoires Pourtant c'est elle qui dit au gars ''Si tu comptes pas me revoir, au revoir!'' Hmm, hmm, hmm, hmm Toujours dans de sales histoires Hmm, hmm, hmm, hmm Toujours dans de sales histoires Hmm, hmm, hmm, hmm Toujours dans de sales histoires Pourtant c'est elle qui dit au gars ''Si tu comptes pas me revoir, au revoir!'' Je n'arrive pas à l'oublier Jenny elle est bien trop belle, elle est bien trop bonne Son physique me fait vaciller Pour elle je n'ai pas ce que d'habitude tous les garçons donnent Non pour elle j'ai pris la Lune, emprunté le Soleil J'les ai mis dans un sac Gucci Mais Jenny ne veut pas la lune, non Jenny un homme avec lequel elle aura pas d'soucis \"Je t'en pris Jenny, ne pars pas\" Aucune importance, rien à foutre si une meuf [?] Pourtant j'veux être le gilet par balle Le canon, la poudre, le couteau et le 9 millimètre (Jenny veut le gilet par balle) (Le canon, la poudre, le couteau et le 9 millimètre) Hmm, hmm, hmm, hmm Toujours dans de sales histoires Hmm, hmm, hmm, hmm Toujours dans de sales histoires Hmm, hmm, hmm, hmm Toujours dans de sales histoires Pourtant c'est elle qui dit au gars ''Si tu comptes pas me revoir, au revoir!'' Hmm, hmm, hmm, hmm Toujours dans de sales histoires Hmm, hmm, hmm, hmm Toujours dans de sales histoires Hmm, hmm, hmm, hmm Toujours dans de sales histoires Pourtant c'est elle qui dit au gars ''Si tu comptes pas me revoir, au revoir!''\n",
      "\n",
      "Title: Bob Marley\n",
      "Lyrics: Oh oh ah Seysey Elle veut qu'on s'en aille vivre au pays d'Bob Marley Vivre une vie de star un peu comme Bob Marley J'lui ai dit de ralentir, je suis pas Bob Marley Quand on s'ra sûr de nous on pourra bombarder Elle veut qu'on s'en aille vivre au pays d'Bob Marley Vivre une vie de star un peu comme Bob Marley J'lui ai dit de ralentir, je suis pas Bob Marley Quand on s'ra sûr de nous on pourra bombarder Elle veut des petits, ma carte de crédit Photo Snapchat du lundi au lundi Elle est dans son délire Elle m'aime quand y'a la Wi-Fi Tant qu'on nous voit heureux ça lui suffit Elle veut trop qu'on soit sur les réseaux Je suis pas contre mais il faut doser Comprends qu'on peut pas tout exposé sur nous Elle est dans l'insta-love Elle veut que tout le monde sache que je suis son homme C'est sa façon d'être love de nous Elle veut qu'on s'en aille vivre au pays d'Bob Marley Vivre une vie de star un peu comme Bob Marley J'lui ai dit de ralentir, je suis pas Bob Marley Quand on s'ra sûr de nous on pourra bombarder Elle veut qu'on s'en aille vivre au pays d'Bob Marley Vivre une vie de star un peu comme Bob Marley J'lui ai dit de ralentir, je suis pas Bob Marley Quand on s'ra sûr de nous on pourra bombarder Toujours les mêmes bêtises Hashtag mon bae, mon chéri Quand tu veux qu'on s'envole N'oublie pas d'atterrir Comme ça on va pas tenir La vie c'est pas une série Tu sais plus vivre ta vie dans la vraie vie Regarde-moi et dis moi ce qu'il te faut Moi ou une équipe de followers J'sais y'a pire comme gros défauts Mais je doute de nous Elle est dans l'insta-love Elle veut que tout le monde sache que je suis son homme C'est sa façon être love de nous Elle veut qu'on s'en aille vivre au pays d'Bob Marley Vivre une vie de star un peu comme Bob Marley J'lui ai dit de ralentir, je suis pas Bob Marley Quand on s'ra sûr de nous on pourra bombarder Elle veut qu'on s'en aille vivre au pays d'Bob Marley Vivre une vie de star un peu comme Bob Marley J'lui ai dit de ralentir, je suis pas Bob Marley Quand on s'ra sûr de nous on pourra bombarder Habibti ntia, mon amour Notre vie, c'est pas leurs affaires Si tu nous veux ensemble pour toujours Méfions-nous de l’œil des gens Pour éloigner les vautours C'est à nous d'être intelligents Habibti ntia, mon amour Notre vie c'est pas leurs affaires Elle m'dit titi ah mon amour Notre vie c'est pas leurs affaires Si tu nous veux ensemble pour toujours Méfions-nous, de l'oeil des gens Pour éloigner les vautours C'est à nous d'être intelligents\" Elle m'dit titi ah mon amour Notre vie c'est pas leurs affaires\" Elle veut qu'on s'en aille vivre au pays d'Bob Marley Vivre une vie de star un peu comme Bob Marley J'lui ai dit de ralentir, je suis pas Bob Marley Quand on s'ra sûr de nous on pourra bombarder Elle veut qu'on s'en aille vivre au pays d'Bob Marley Vivre une vie de star un peu comme Bob Marley J'lui ai dit de ralentir, je suis pas Bob Marley Quand on s'ra sûr de nous on pourra bombarder No, no, no woman no cry No, no, no woman no cry No, no, no woman no cry No, no, oh oh ah\n",
      "\n",
      "Title: Sous contrôle\n",
      "Lyrics: Que du sale, que du sale, que du sale Charo Eh, oh oh ah Que du sale, que du sale SeySey La petite est kitoko, t'as rien dans la tête, tu vas pas nous la faire à nous (Jamais) J'connais des femmes kitoko, seulement sur Instagram en vrai tu la vois, tu cours Après minuit, y'a plus de cendrillon, premier de la classe, mais seulement dans l'avion Mama mérite d'avoir son pavillon, Audemars Piguet, c'est pas d'occasion D'après ce que les feu-m m'on dit, depuis que je perce, c'est tous des célibataires On fait monter le chiffre des tel-hô, mwana ya Congo, je suis le fils de mon père Gradur au bigo: Dadju faut niquer le game comme Escobar Celui qui essaye de nous jeter l'il, on va lui fermer de force en lui mettant un cocard T'as quitté la ville sans un alibi, tu n'es plus des nôtres (chut) C'est même plus la peine de revenir, ta go ne t'attend pas (sale) C'est bien fait pour toi comme une mexicaine qui a voté Trump (t'as voté Donald?) Nous on ne se trompe pas. Jamais! Sous contrôle, tout est sous contrôle Sous contrôle, la zone est sous contrôle Sous contrôle, tout est sous contrôle Sous contrôle, la zone est sous contrôle Charo c'est violent, énervé comme Charo! (charo), je fume de la frappe quand j'suis paro Et si j'viens te monter, personne peut m'séparer, j'connais des gars méchant caché dans tout Paris Quand tout est carré, le ventre il est paré, premier qui l'ouvre, il finit dans la marré Je me rappelle un soir, j'avais la barre, elle m'a dit qu'elle suce pas, bah du coup je l'ai barré Allô chérie, rappelle-moi demain (bendo), j'pose avec le frère à Gims (oui) J'assure la retraite de mon fils, j'veux pas le laisser vendre du cannabis (jamais) Bisso na bisso, oh zifu des bargos Petit je connais ta culture, j'vis dans le bendo, j'fais des millier par jours, j'suis dans l'truc T'as quitté la ville sans un alibi, tu n'es plus des nôtres (chut) C'est même plus la peine de revenir, ta go ne t'attend pas (sale) C'est bien fait pour toi comme une mexicaine qui a voté Trump (t'as voté Donald?) Nous on ne se trompe pas. Jamais! Sous contrôle, tout est sous contrôle Sous contrôle, la zone est sous contrôle Sous contrôle, tout est sous contrôle Sous contrôle, la zone est sous contrôle C'est carrément ça, Dadju regarde j'vais les prendre de vitesse J'allume mon blinde, j'parfume la pièce comme le CLS Tout est sous contrôle, faire du sale Dadju ça payera Tout est sous contrôle, t'inquiète ça payera Elle est pas jalouse (jamais), elle sait que tout roule À part si c'est burgo, j'connais la route, la somme elle elle roule (zoulou), t'as mis le turbo Tout est sous contrôle, faire du sale Niska ça payera Tout est sous contrôle, t'inquiète ça payera Sous contrôle, tout est sous contrôle Sous contrôle, la zone est sous contrôle Sous contrôle, tout est sous contrôle Sous contrôle, la zone est sous contrôle, bah ouais 93.23.0 Akats Akats G.A.N.G Zifu des koros Prince D.A.D.J Ah ah ah Oh oh ah\n",
      "\n",
      "Title: Déjà donné\n",
      "Lyrics: Donné, donné, donné J'ai donné, donné, donné Oh oh ah J'ai donné, donné, donné SeySey J'ai donné, donné, donné On voit jamais le cur d'un homme On s'base sur qu'il a accompli On remercie la main qui donne On oublie pas l'ennemi (jamais) J'sais qu'à partir d'une certaine somme y a plus d'histoires de famille On m'avait dit qu'le biff et le succès attirait les ennuis Mais je n'en fais qu'à ma tête J'me dis que ça va pas m'arriver J'pensais que l'équipe de départ serait la même à l'arrivée Je n'ai ni le temps, ni l'envie d'essayer de positiver Tu m'as trahi juste une fois C'est mort, tu vas récidiver Ne m'appelle plus mon frère Ne m'appelle plus ton court Mon cur est devenu sourd Mais il sait lire sur les lèvres Je t'aimais comme un frère Mais tu m'l'as mise à l'envers Tes excuses j'en ai rien à foutre À toi de lire sur mes lèvres J'ai déjà donné (j'ai déjà donné, donné, donné) Il faut même pas jouer l'étonné (j'ai déjà donné, donné, donné) Et je ne compte pas te pardonner (j'ai déjà donné, donné, donné) Tu m'as trahi, j'vais pas l'oublier Et même si tu viens supplier, c'est mort J'ai déjà donné (j'ai déjà donné, donné, donné) Il faut même pas jouer l'étonné (j'ai déjà donné, donné, donné) Et je ne compte pas te pardonner (j'ai déjà donné, donné, donné) Tu m'as trahi, j'vais pas l'oublier Et même si tu viens supplier, c'est mort J'ai déjà donné (j'ai déjà donné, donné, donné) (j'ai déjà donné, donné, donné) On voit jamais le cur d'une femme On s'base souvent sur le physique On veut avoir sa première dame Rapidement, parce qu'ils nous piquent Mais le retour de flamme, ça brûle Parfois c'est même bénéfique On m'avait parlé de son passé Mais moi j'ai l'fait l'amnésique Pour elle j'aurais tout donné Mon cur, mon biff, mon nom d'famille Elle a raté l'homme du siècle J'lui souhaite même pas un p'tit ami Elle m'a rappelé que les femmes n'étaient pas toute comme la daronne Malheureusement pour toi je n'suis pas de ceux qui pardonne Ne m'appelle plus mon bébé Part sans dire au revoir Mon cur n'a pas su voir Mais mon cur à la mémoire Ne m'appelle plus mon bébé Ton maquillage est tombé Tout ce que tu dis sonne faux Mais ce sont tes derniers mots J'ai déjà donné (j'ai déjà donné, donné, donné) Il faut même pas jouer l'étonné (j'ai déjà donné, donné, donné) Et je ne compte pas te pardonner (j'ai déjà donné, donné, donné) Tu m'as trahi, j'vais pas l'oublier Et même si tu viens supplier, c'est mort J'ai déjà donné (j'ai déjà donné, donné, donné) Il faut même pas jouer l'étonné (j'ai déjà donné, donné, donné) Et je ne compte pas te pardonner (j'ai déjà donné, donné, donné) Tu m'as trahi, j'vais pas l'oublier Et même si tu viens supplier, c'est mort J'ai déjà donné (j'ai déjà donné, donné, donné) (j'ai déjà donné, donné, donné) Au revoir mon ami au revoir On a eu de bons souvenirs Mais je ne souhaite pas te revoir Et au revoir ma chérie au revoir On a eu de bons souvenirs Mais je ne souhaite pas te revoir J'ai déjà donné (j'ai déjà donné, donné, donné) Il faut même pas jouer l'étonné (j'ai déjà donné, donné, donné) Et je ne compte pas te pardonner (j'ai déjà donné, donné, donné) Tu m'as trahi, j'vais pas l'oublier Et même si tu viens supplier, c'est mort J'ai déjà donné (j'ai déjà donné, donné, donné) Il faut même pas jouer l'étonné (j'ai déjà donné, donné, donné) Et je ne compte pas te pardonner (j'ai déjà donné, donné, donné) Tu m'as trahi, j'vais pas l'oublier Et même si tu viens supplier, c'est mort J'ai déjà donné Je m'en souviendrais crois moi Je m'en souviendrais crois moi Tu m'as trahi j'vais pas l'oublier Et même si tu viens supplier, c'est mort J'ai déjà donné\n",
      "\n",
      "Title: J'ai dit non\n",
      "Lyrics: Seysey Oh oh ah Yeah Essaye d'être droite et je serais toujours là pour toi (promis, juré) Quand j'aime quelqu'un, j'suis michtonable C'que j'vis c'est pour de vrai, c'est pas du cinéma (nan, nan) Ce soir on sort, Djibril est libérable On m'a toujours dit que si les gens parlent dans ton dos Négro, tu peux être fier de toi Quand tu agis pour toi, on dit que t'es mauvais L'avis des gens, aujourd'hui je m'en moque Les hypocrites demandent mon aide Je leur dit non, je dit non Majeur en l'air quand je dit non, je dit non Son homme est revenu avec un gosse de 10 ans Il sait qu'elle aime mais elle dit non, elle dit non Elle veut qu'elle lui achète mais il veut pas la toucher C'est pas bénef' donc il dit non, il dit non C'est simple à comprendre, c'est pas compliqué Tend bien l'oreille quand je dis non, je dis non Mmh, j'ai dit non Mmh, j'ai dit non Mmh, j'ai dit non, mmh On m'a souvent dit que celui qui vivra, verra (j'suis toujours là) Tu changes pour une meuf, t'es la pire des races On voit que l'été arrive, on quitte les Favelas Plus de 20 degrés, chicha sur la terrasse (c'est obligé) Petit rappel à ceux qui disent qu'on jour tout se sait: Tout ne se sait pas, hélas Quand tu agis pour toi, on dit que t'es mauvais L'avis des gens, aujourd'hui je m'en moque Les hypocrites demandent mon aide Je leur dit non, je dit non Majeur en l'air quand je dit non, je dit non Son homme est revenu avec un gosse de 10 ans Il sait qu'elle aime mais elle dit non, elle dit non Elle veut qu'elle lui achète mais il veut pas la toucher C'est pas bénef' donc il dit non, il dit non C'est simple à comprendre, c'est pas compliqué Tend bien l'oreille quand je dis non, je dis non Mmh, j'ai dit non Mmh, j'ai dit non Mmh, j'ai dit non, mmh Mmh, j'ai dit non Mmh, j'ai dit non Mmh, j'ai dit non, mmh À qui tu me compares? Mama, y'a même pas photo C'est pas la chance, nous on est riche sans jouer au loto Évident comme poulet braisé XXX Est-ce que si j'enlève son filtre, elle est kitoko? Les hypocrites demandent mon aide Je leur dit non, je dit non Majeur en l'air quand je dit non, je dit non Son homme est revenu avec un gosse de 10 ans Il sait qu'elle aime mais elle dit non, elle dit non Elle veut qu'elle lui achète mais il veut pas la toucher C'est pas bénef' donc il dit non, il dit non C'est simple à comprendre, c'est pas compliqué Tend bien l'oreille quand je dis non, je dis non Ouais ouais, Prince Dadj Le seul et l'unique, muana-mboka Il a la force de chanter tout style de musique Gentleman 2.0 Oh oh ah\n",
      "\n",
      "Title: Par amour\n",
      "Lyrics: Par amour Par amour j'ai dû affronter le regard de ton père Par amour j'ai même fait semblant de regarder la mer Tu dois sûrement te dire que c'etait des paroles en l'air Oui par amour j'ai appris à ne plus voir tes defauts Je suis pas d'accord mais je te laisse avoir le dernier mot Par amour je t'ai donné ce que j'avais de plus beau Je refuse de vivre à travers le regard des autres, des autres Ouh par amour J'etais prêt à donner même ce que je n'avais pas J'ai su que c'était toi depuis le depart Quand tu es loin de moi je me retrouve nulle part Par amour (J'suis prêt à prendre les armes) Par amour (Moi j'essuyerai tes larmes) Par amour (Rien n'éteindra la flamme, la flamme) Par amour Par amour j'ai dû affronter le regard de ton père Tu penses sûrement que c'est des paroles en l'air Par amour j'ai même fait semblant de regarder la mer Je n'arrive même plus à voir tes defauts J't'ai même laissé avoir le dernier mot Je t'aurais même donné ce que je n'avais pas J'ai su que c'était toi depuis le depart Je saigne encore (Je saigne encore) Je saigne encore (Je saigne encore) Je saigne encore mais je t'attend depuis longtemps Par amour J'ai totalement sorti de ma tête de ce que tu etais hier J'vois loin devant nous je ne regarderai pas derrière C'est toi et moi en tête d'affiche sur toute les bannières Et j'en suis fier Ouh par amour J'ai fait d'la place, mon cur j'ai dû l'aggrandir J'ai même adopté mon style de vie Recentrer sur toi, c'est devenu logique, oui Ouh par amour Je te ferai briller avec ou sans le millions A cause de toi y'a plus de Cendrillon T'es devenu mon centre d'attention Par amour (J'suis prêt à prendre les armes) Par amour (Moi j'essuyerai tes larmes) Par amour (Rien n'éteindra la flamme, la flamme) Par amour Par amour j'ai dû affronter le regard de ton père Tu penses sûrement que c'est des paroles en l'air Par amour j'ai même fait semblant de regarder la mer Je n'arrive même plus à voir tes defauts J't'ai même laissé avoir le dernier mot Je t'aurais même donné ce que je n'avais pas J'ai su que c'était toi depuis le depart Je saigne encore (Je saigne encore) Je saigne encore (Je saigne encore) Je saigne encore Mais je t'attend depuis longtemps Je saigne encore, je saigne encore Je saigne encore, je saigne encore Par amour Par amour je te laisse me guider Par amour Par amour, tu m'emmènes où tu veux Par amour Par amour je te laisse me guider Par amour Amour téléguidé Par amour Par amour, par amour, par amour Par amour Par amour, par amour, par amour C'est par amour Par amour, par amour, par amour Par amour, par amour Par amour Oh oh ah\n",
      "\n",
      "Title: Monica\n",
      "Lyrics: Monica, Monica Oh oh ah Monica 25 ans que tu n'es plus là Et je n'ai pas pu refaire ma vie 25 ans que je survis sans toi Avec un cur à moitié vide Et je t'en prie pardonne-moi, d'être triste sans toi Même si tu m'as dis 100 fois d'garder le sourire chaque fois Je prends soin de tout ce qui t'est cher À part moi tout le monde a su se relever Je prends au sérieux mon rôle de père Mais sans mère, difficile de les éléver Je m'disais doucement mais sûrement je finirai par l'accepter Doucement mais sûrement Mais j'ai toujours pas accepté Monica, ma Monica j'ai pas oublié Nos enfants sont hors de danger comme tu m'la demandé Monica, ma Monica j't'ai pas oublié J'ai même pas envie d'essayer comme tu m'l'a demandé 25 ans que j'me demande pourquoi C'est moi qui suis toujours en vie 25 ans que j'espère te revoir À chaque fois que j'me reveille la nuit Et j'deviens fou parfois quand je pense à notre histoire Il n'y aura plus de nous Chaque fois q'j'y pense, tout devient noir Je ne crois pas retrouver sur cette Terre Un amour plus fort que ce que tu m'as donné J'ai fini tout ce que j'avais à faire Tout ce que je veux maintenant c'est te retrouver Donc j'me dis doucement mais sûrement On sera de nouveau réuni Doucement mais sûrement Mais j'suis toujours seul dans mon lit Monica, ma Monica j'ai pas oublié Nos enfants sont hors de danger comme tu m'la demandé Monica, ma Monica j'tai pas oublié J'ai même pas envie d'essayer comme tu m'l'a demandé Monica, Monica Hmm, hmm Monica, Monica Oh oh ah\n",
      "\n",
      "Title: Django\n",
      "Lyrics: Oh oh ah Je veux que tu portes mon nom de famille Mais ça prend du temps J'ai même parlé de notre avenir à tes parents Mais ils m'ont dit d'attendre J'ai fait tout ce que ton père m'a dit mais Il est jamais content Et s'il décide d'être l'ennemi de notre amour Il sera forcer d'entendre quand... J'briserai les chaînes comme Django Djan-Djan-Django J'briserai les chaînes comme Django Djan-Djan-Django J'briserai les chaînes comme Django Djan-Djan-Django J'briserai les chaînes comme Django Djan-Djan-Django Il veut nous éloigner Donc il sort toute sorte de foutaises Et quand j'lui demande quel genre d'homme il te faut Il me dit \"comme toi mais pas toi\" Laisse-moi le calmer, il faut que son cur s'appaise Laisse-moi lui montrer qu'il a tort de penser qu'un autre t'aimeras bien plus que moi Il veut que tu te maries, que tu fondes une famille avec n'importe quel autre homme que moi Il me voit comme celui qui vient lui voler sa fille Pour te retenir, il abuse de ses droits J'veux bien être gentil, papa Mais même toi, tu peux pas nous bloquer Donc on va parler d'homme à homme Car c'est ma vie là et tu m'empêches d'avancer Je veux que tu portes mon nom de famille (my family name) Mais ça prend du temps (so much time) J'ai même parlé de notre avenir à tes parents Mais ils m'ont dit d'attendre (mais ils m'ont dit d'attendre) J'ai fait tout ce que ton père m'a dit mais Il est jamais content (il est jamais content) Et s'il décide d'être l'ennemi de notre amour Il sera forcer d'entendre quand... J'briserai les chaînes comme Django (Django) Djan-Djan-Django (Django) J'briserai les chaînes comme Django (Django) Djan-Djan-Django (Django) J'briserai les chaînes comme Django (Django) Djan-Djan-Django (Django) J'briserai les chaînes comme Django (Django) Djan-Djan-Django Qu'est-ce qu'il faut que je fasse pour avoir dans son cur une place? J'ai fait l'impossible pour que ce soit possible Il me voit comme un bon rien Mais dis lui que je suis bon dans tout ce que je fais Dans ma vie je sais où j'vais Contre ses choix, j'refuse, je m'impose C'est toi mon choix et pas une autre Laisse-le croire qu'on poussera droit dans un mur Change pas d'avis, de nous j'suis sûr Dis à ta mère, j'prendrai soin de toi avec ou sans son accord L'affaire, je lâcherai pas, je compte pas t'abandonner Sache que... Je veux que tu portes mon nom de famille (my family name) Mais ça prend du temps (so much time) J'ai même parlé de notre avenir à tes parents Mais ils m'ont dit d'attendre (mais ils m'ont dit d'attendre) J'ai fait tout ce que ton père m'a dit mais Il est jamais content (il est jamais content) Et s'il décide d'être l'ennemi de notre amour Il sera forcer d'entendre quand... J'briserai les chaînes comme Django (Django) Djan-Djan-Django (Django) J'briserai les chaînes comme Django (Django) Djan-Djan-Django (Django) J'briserai les chaînes comme Django (Django) Djan-Djan-Django (Django) J'briserai les chaînes comme Django (Django) Djan-Djan-Django Paniquer, il ne faut pas paniquer non C'est qu'une épreuve à traverser avant d'arriver Baby, même si il veut pas valider C'est qu'une épreuve à traverser avant d'arriver Django Djan-Djan-Django J'briserai les chaînes comme Django Djan-Djan-Django J'briserai les chaînes comme Django Djan-Djan-Django Oh oh ah\n",
      "\n",
      "Title: Intuition\n",
      "Lyrics: Tu me fais moins confiance tu t'énerves pour un rien tu commences à m'ignorer Tout se passe bien en apparence mais rien ne vas plus entre nous c'est comme une prison dorée À trop chercher la moindre erreur bébé tu finiras bien par trouver Mais dis moi pourquoi tu t'acharnes à vouloir chercher ce qui finiras par nous exterminer Tu t'éloignes doucement comme si rien ne comptait tout ce temps On se capte en coup de vent redevenons ce qu'on étais avant Tu t'éloignes doucement comme si rien ne comptait tout ce temps Sur une intuition t'es prête à nous laisser nous consumer Si ton intuition t'avertie alors dis moi ce qu'elle te dit Ne reste pas dans ton coin non réglons ça maintenant avant que ton cur m'oublie Si ton intuition t'avertie alors dis moi ce qu'elle te dit Ne reste pas dans ton coin non réglons ça maintenant avant que ton cur m'oublie Bébé réglons ça maintenant avant que ton cur m'oublie Les jours passent rien n'avance Tu parles pas j'avais oublié ton côté borné C'est comme si t'avais déjà décidé que pour nous deux c'était belle et bien terminer (game over) Tu veux toujours rien me dire mais tu ne veux pas t'en aller J'arrive toujours pas à comprendre pourquoi tu tiens tant à chercher ce que tu ne veux pas trouver Tu t'éloignes doucement comme si rien ne comptait tout ce temps On se capte en coup de vent redevenons ce qu'on étais avant Tu t'éloignes doucement comme si rien ne comptait tout ce temps Sur une intuition t'es prête à nous laisser nous consumer Si ton intuition t'avertie alors dis moi ce qu'elle te dit Ne reste pas dans ton coin non réglons ça maintenant avant que ton cur m'oublie Si ton intuition t'avertie alors dis moi ce qu'elle te dit Ne reste pas dans ton coin non réglons ça maintenant avant que ton cur m'oublie Si tu veux rien me dire qu'est ce qu'on va devenir? J'essaie de reconstruire ce que tu cherches à fuir Si ton intuition t'avertie alors dis moi ce qu'elle te dit Ne reste pas dans ton coin non réglons ça maintenant avant que ton cur m'oublie Si ton intuition t'avertie alors dis moi ce qu'elle te dit Ne reste pas dans ton coin non réglons ça maintenant avant que ton cur m'oublie Bébé réglons ça maintenant avant que ton cur m'oublie\n",
      "\n",
      "Title: Ma fierté\n",
      "Lyrics: Demande-moi d'aller au bout du monde, j'irai Et si je te disais le contraire, je mentirais Ne doute pas de toi Tu es ma number one, number one, number one Mais les mots, c'est compliqué Est-ce que tu sauras lire dans mes pensées? Ah, c'est ma façon de t'aimer Mon cur est censuré par la fierté Je sais que c'est mal, tu voudrais que je parle C'est important pour toi de savoir Mais n'attends pas, je vais te décevoir Je ne parle pas mais j'vais te faire voir Ma señorita L'amour que j'ai pour toi Dépasse de loin tous les mots Mais tu ne le sens pas Je sais que tu ne l'entends pas Car je suis rempli d'ego Ma fierté va me tuer sur la durée Mais t'es la seule qui pourra tout endurer Oh, ma señorita L'amour que j'ai pour toi Dépasse de loin tous les mots Puerto Rico, Dior, Dolce & Gabana Laisse ces mythos Gracias, ils pèsent nada Tu m'aimes mucho, bientôt j'te fais le hena Quitte tes pines-co, j'vais assumer Rouge coquelicot, tes lèvres m'enivrent chica Noir pépito, je fond quand tu bouges chica Fier comme Esco', baisse le regard chica J'suis ton Capo, j'vais assurer Où le vent nous emmènera Tu seras près de moi Tu es la moitié d'un homme J'ai tellement besoin de nous Même si j'te le montre pas La rue ne m'aura pas Je me dois de te rassurer Ma señorita L'amour que j'ai pour toi Dépasse de loin tous les mots Mais tu ne le sens pas Je sais que tu ne l'entends pas Car je suis rempli d'ego Ma fierté va me tuer sur la durée Mais t'es la seule qui pourra tout endurer Oh, ma señorita L'amour que j'ai pour toi Dépasse de loin tous les mots Tu connais ma vie mais tu me poses twenty-one questions J'suis pas ton ami si je peux être ton amant J'suis focus sur toi mais j'te fais croire que j'ai pas le temps Pour ça, ni pour ça, ni pour ça Je ne m'abandonnerais pas totalement De peur de ne pas avoir de retour Équivalent à ce que tu reçois J'entends déjà le compte à rebours Ma fierté me tue, ma fierté me tue Ça fait mal, ça fait mal, ça fait mal au fond Ça fait mal, ça fait mal dans le fond Ma señorita L'amour que j'ai pour toi Dépasse de loin tous les mots Mais tu ne le sens pas Je sais que tu ne l'entends pas Car je suis rempli d'ego Ma fierté va me tuer sur la durée Mais t'es la seule qui pourra tout endurer Oh, ma señorita L'amour que j'ai pour toi Dépasse de loin tous les mots\n",
      "\n",
      "Title: Comme si de rien n'était\n",
      "Lyrics: Tu n'étais qu'un de mes plans T'aimer ne faisait pas parti de mon plan On se voyait de temps en temps J'pensais qu'on pouvait gérer, pourtant Tout a commencer à changer J'ai commencé à te regarder en m'disant Pourquoi pas? Et si c'est elle, pourquoi pas? Pourquoi pas? Et si c'est toi, pourquoi pas? Le problème c'est que tu connais ma vie Choisir c'est difficile Avant de te connaitre j'avais une vie Tu sais que c'est impossible Tout ce qui arrive est de ma faute mais Je laisserais pas ma femme pour une autre Et tu voulais mon coeur j'te l'ai donné Tu m'en demandes plus encore Et je sais que c'est moi qui ai merdé Mais j'suis bloqué Donc on fera comme si de rien n'était, de rien n'était On fera comme si de rien n'était, de rien n'était Et tu voulais mon cur j'te l'ai donné Tu m'en demandes plus encore Et je sais que c'est moi qui ai merdé Mais j'suis bloqué Donc on fera comme si de rien n'était, de rien n'était On fera comme si de rien n'était, de rien n'était J'aime être avec toi, tu aimes être avec moi Mais il n'y a pas d'espoir et c'est mort On peut pas tout avoir, on se voit quelques soirs Mais on sait tout les deux qu'on a tort J'devrais tout stopper mais j'y arrive pas Comment te laisser tomber? Tu devrais m'éviter mais t'y arrives pas Rien que le fait d'y penser, non merci Quand on est ensemble on sait même plus quelle heure il est Mais tu sais pourquoi j'suis obligé de m'en aller Tout ce qui arrive est de ma faute J'la laisserais pas pour une autre Et tu voulais mon cur j'te l'ai donné Tu m'en demandes plus encore Et je sais que c'est moi qui ai merdé Mais j'suis bloqué Donc on fera comme si de rien n'était, de rien n'était On fera comme si de rien n'était, de rien n'était Et tu voulais mon cur j'te l'ai donné Tu m'en demandes plus encore (c'est mort) Et je sais que c'est moi qui ai merdé Mais j'suis bloqué Donc on fera comme si de rien n'était, de rien n'était, de rien n'était On fera comme si de rien n'était, De rien n'était, de rien n'était Tout arrêter c'est douloureux Mais continuer ça nous rend pas plus heureux Y a qu'une victime dans l'histoire c'est pas nous deux Et je fais du mal à celle qui m'a tout donner Ça n'a pas de prix, son amour n'a pas de prix Et tu l'as bien compris J'ai choisis de te laisser partir, nous deux c'est mort Et tu voulais mon cur j'te l'ai donné Tu m'en demandes plus encore Et je sais que c'est moi qui ai merdé Mais j'suis bloqué Donc on fera comme si de rien n'était, de rien n'était On fera comme si de rien n'était, de rien n'était Et tu voulais mon coeur j'te l'ai donné (donné) Tu m'en demandes plus encore (c'est mort) Et je sais que c'est moi qui ai merdé Mais j'suis bloqué Donc on fera comme si de rien n'était, de rien n'était, de rien n'était On fera comme si de rien n'était, De rien n'était, de rien n'était\n",
      "\n",
      "Title: Seconde chance\n",
      "Lyrics: Je n'ai pas toujours fais ce qu'il faut J'ai promis des choses mais les actes ne suivent par les mots (Faut m'excuser) Tout soustraire et repartir à zéro Ne m'laisse pas devenir l'homme qui n'affronte pas ces défauts (J'vais tout assumer) Ne m'dit pas qu'il est trop tard pour revenir, eh Si l'histoire ne te plaît pas, on va changer de livre Lève la tête, regarde-moi, on va s'en sortir, eh Dans tes yeux, je peux voir notre avenir Donne-moi, donne-moi, donne-moi, donne-moi Donne-moi une seconde chance (Une seconde chance) Donne-moi, donne-moi, donne-moi, donne-moi Donne-moi une seconde chance (Une seule) Donne-moi, donne-moi, donne-moi, donne-moi Donne-moi une seconde chance (Donne-moi une seule chance) Donne-moi, donne-moi, donne-moi, donne-moi Donne-moi une seconde chance Te perdre, c'est risquer de tomber de haut Je n'peux plus voler avec une seule aile dans le dos (J'ai essayé) C'est peut-être pas la dernière fois que je faute Mais prendre un mur parfois, j'te jure c'est tout ce qui me faut (Ça va pas durer) Laisse-moi faire le premier pas pour revenir, eh Si l'histoire ne te plaît pas, on va changer de livre Lève la tête et regarde-moi, on va s'en sortir, eh Dans tes yeux, je peux voir notre avenir Donne-moi, donne-moi, donne-moi, donne-moi Donne-moi une seconde chance (Une seconde chance) Donne-moi, donne-moi, donne-moi, donne-moi Donne-moi une seconde chance (Une seule) Donne-moi, donne-moi, donne-moi, donne-moi Donne-moi une seconde chance (Donne-moi une seule chance) Donne-moi, donne-moi, donne-moi, donne-moi Donne-moi une seconde chance Un amour sans faille n'existe pas Oublie-tout, laisse ton cur parler Anh anh, yeah eh eh Tu es tout ce qui compte pour moi Donc j'ai laissé mon cur parler Anh anh anh anh, yeah eh Donne-moi, donne-moi, donne-moi, donne-moi Donne-moi une seconde chance (Une seconde chance) Donne-moi, donne-moi, donne-moi, donne-moi Donne-moi une seconde chance (Une seule) Donne-moi, donne-moi, donne-moi, donne-moi Donne-moi une seconde chance (Donne-moi une seule chance) Donne-moi, donne-moi, donne-moi, donne-moi Donne-moi une seconde chance\n",
      "\n",
      "Title: Comme à chaque fois\n",
      "Lyrics: Comme à chaque fois, tu claques la porte pour la rouvrir après Comme à chaque fois, tu cherches la faute pour m'dire que tu le savais Mais qu'est-ce qu'il te faut? Qui peut s'asseoir et te dire \"je t'ai tout donné\"? C'est pas des mots, quand je te parle c'est pas pour t'impressionner Tout est clair, en tout cas pour moi; j'ai finis de m'éparpiller Sois sincère, et dis le si toi tu vois pas la longue durée, no Tu te focalises beaucoup trop sur les détails J'essaye de créer quelque chose quand toi tu vois des failles Peut être parce que tu sais que je veux pas que tu t'en ailles Tu fais même plus l'effort, donc si je force autant couper le cordon Je crois qu'avec toi j'ai bien procédé Quand on dormait ensemble, j'sais même pas comment j'ai pas cédé Soirée sans contact, on fera tout quand t'auras décidé Plus on attendait, plus je me disais \"je crois que je l'ai trouvé\" Comme à chaque fois, tu claques la porte pour la rouvrir après Comme à chaque fois, tu cherches la faute pour m'dire que tu le savais Mais qu'est-ce qu'il te faut? Qui peut s'asseoir et te dire \"je t'ai tout donné\"? C'est pas des mots, quand je te parle c'est pas pour t'impressionner Tout est clair, en tout cas pour moi; j'ai finis de m'éparpiller Sois sincère, et dis le si toi tu vois pas la longue durée, no Tu m'guettes, tu fais l'innocente, je te trouve pas reconnaissante Tu me fais perdre mon time, tu regrettera,s te connaissant Si c'est pas intéressant, va faire ta vie dans l'autre sens, qu'on évite de s’entre-tuer Dans le cas contraire j'aimerais que tu mûrisses, je veux pas jouer la nourrice Les problèmes nous ralentissent, faut qu'on se pose, qu'on se parle une fois qu'on en finisse Choisis un moment propice, y'a une femme à qui je dois te présenter Comme à chaque fois, tu claques la porte pour la rouvrir après Comme à chaque fois, tu cherches la faute pour m'dire que tu le savais Mais qu'est-ce qu'il te faut? Qui peut s'asseoir et te dire \"je t'ai tout donné\"? C'est pas des mots, quand je te parle c'est pas pour t'impressionner Tout est clair, en tout cas pour moi; j'ai finis de m'éparpiller Sois sincère, et dis le si toi tu vois pas la longue durée, no Ouh limité Il faut que t'arrêtes de nous limiter Il faut que t'arrêtes de nous limiter Il faut que t'arrêtes de nous limiter Il faut que t'arrêtes de nous limiter Il faut que t'arrêtes de nous limiter Il faut que t'arrêtes de nous limiter Il faut que t'arrêtes de nous limiter Comme à chaque fois, tu claques la porte pour la rouvrir après Comme à chaque fois, tu cherches la faute pour m'dire que tu le savais Mais qu'est-ce qu'il te faut? Qui peut s'asseoir et te dire \"je t'ai tout donné\"? C'est pas des mots, quand je te parle c'est pas pour t'impressionner Tout est clair, en tout cas pour moi; j'ai finis de m'éparpiller Sois sincère, et dis le si toi tu vois pas la longue durée, no Me fais pas perdre mon time Me fais, me fais pas perdre mon time Me fais pas perdre mon, me fais pas perdre mon, me fais pas perdre mon time Me fais pas perdre mon time Me fais, me fais pas perdre mon time Yeah, yeah, yeah, yeah\n",
      "\n",
      "==================================\u001b[1m Ai Message \u001b[0m==================================\n",
      "\n",
      "Voici les 5 principaux thèmes des chansons de Dadju :\n",
      "\n",
      "1.  **Relations Amoureuses Tumultueuses et Infidélité :**\n",
      "    *   Les chansons explorent souvent la complexité des relations amoureuses, avec des thèmes d'infidélité, de jalousie et de ruptures.\n",
      "    *   \"J'ai fais le con, je t'ai menti, menti, tu l'as pas vu, pas senti, senti Donc j’ai continuer de te mentir, mentir, mais c’était de pire en pire\" (Ma Faute)\n",
      "    *   \"On s\\'fait la guerre sans même encore et encore sans même vouloir la gagner C\\'est chacun son tour qui est ce qui se prendra la première balle du barillet\" (Amour Toxic)\n",
      "    *   \"J'te dis que j'ai fait du sale à je n'sais combien de femmes Et j'ai peur que tu deviennes mon retour de flamme\" (Jaloux Remix)\n",
      "\n",
      "2.  **Difficulté à Exprimer ses Sentiments et Fierté :**\n",
      "    *   Le thème de la difficulté à exprimer ses émotions et de la fierté qui empêche de montrer ses vrais sentiments revient souvent.\n",
      "    *   \"Est-ce que tu sauras lire dans mes pensées? Ah, c'est ma façon de t'aimer Mon cur est censuré par la fierté\" (Ma Fierté)\n",
      "    *   \"Ma langue est bien trop lourde pour dire que je voulais que tu reviennes dans ma vie\" (Perdu)\n",
      "    *   \"J'ai loupé quelques restau', j'irai t'acheter le restau' (Ah, oui) J'sors pas pour faire le beau, l'avenir appartient à ceux qui misent gros\" (La guitare suit la mélo)\n",
      "\n",
      "3.  **Difficultés et Succès :**\n",
      "    *   Les paroles évoquent souvent le parcours difficile vers le succès, les luttes passées et la reconnaissance de la chance et du travail acharné.\n",
      "    *   \"J\\'étais pauvre avant d\\'être riche, j\\'connais la diff\\', diff\\', diff\\' Main dans la che-po, crois pas que j\\'oublie, rends-moi mon biff, biff, biff\" (Piqûre de rappel)\n",
      "    *   \"J\\'ai fait du bénéf\\' qu\\'on va investir en Afrique J\\'sais c\\'que c\\'est d\\'avoir la dalle, aujourd\\'hui, j\\'dis: \\\"Dieu merci\\\"\" (Dieu Merci)\n",
      "    *   \"Depuis qu\\'les comptes se sont rempli On est beaucoup moins sur les photos (Eh) Tu est la seule qui est restée, oh\" (Le contrat)\n",
      "\n",
      "4.  **L'Importance de la Famille et des Relations Durables :**\n",
      "    *   Malgré les thèmes de l'infidélité et des relations compliquées, l'importance de la famille et des relations durables est soulignée.\n",
      "    *   \"Tu as l'amour de l'Afrique, ma maman t'aimera pour ça\" (Cette Femme)\n",
      "    *   \"Elle mettra toujours la famille d'abord Elle va tout assumer Le genre de femme qui à chaque problème s'en sort Elle va tout assumer\" (Lionne)\n",
      "    *   \"Aujourd'hui je suis fatigué, je t'ai regardé dormir Et si ma voix peut t'apaiser Je chanterai pour toi toute la nuit\" (Reine)\n",
      "\n",
      "5.  **Regret et Rédemption :**\n",
      "    *   Certaines chansons expriment des regrets pour les erreurs passées et un désir de rédemption et de seconde chance.\n",
      "    *   \"Et c'est de ma faute à moi, mais je ne peux pas le laisser tomber (je dois tout assumer) Et c'est de ma faute à moi, mais je ne veux pas te laisser tomber (c’est toi que j’aime mon bébé)\" (Ma Faute)\n",
      "    *   \"J'ai trop joué avec les cœurs de toutes celles que j'appelle mi amor J'suis tombé sur plus d'une âme sœur mais je cherche encore, je cherche encore Et tout au fond de moi j'ai peur de finir seul avec mes remords\" (Le Mâle Honnête)\n",
      "    *   \"J'ai suivi mon cur une fois, c'est mort, j'me suis désabonné Elle aime les hommes avec son boule Elle n'hésite pas à le donner Elle me dégoûte, les négros la tapent tous les jours\" (La roue tourne)\n"
     ]
    }
   ],
   "source": [
    "artist = 'Dadju'\n",
    "\n",
    "query = f\"Synthétise les top 5 thèmes des paroles de {artist} et score leur pertinence. Pour chaque thème cite 3 différentes paroles\"\n",
    "\n",
    "for step in agent_2.stream(\n",
    "    {\"messages\": [HumanMessage(content=query)]},\n",
    "    stream_mode=\"values\",\n",
    "):\n",
    "    step[\"messages\"][-1].pretty_print()"
   ]
  },
  {
   "cell_type": "code",
   "execution_count": 395,
   "id": "e90aaf57",
   "metadata": {},
   "outputs": [
    {
     "name": "stdout",
     "output_type": "stream",
     "text": [
      "==================================\u001b[1m Ai Message \u001b[0m==================================\n",
      "\n",
      "Voici les 5 principaux thèmes des chansons de Dadju :\n",
      "\n",
      "1.  **Relations Amoureuses Tumultueuses et Infidélité :**\n",
      "    *   Les chansons explorent souvent la complexité des relations amoureuses, avec des thèmes d'infidélité, de jalousie et de ruptures.\n",
      "    *   \"J'ai fais le con, je t'ai menti, menti, tu l'as pas vu, pas senti, senti Donc j’ai continuer de te mentir, mentir, mais c’était de pire en pire\" (Ma Faute)\n",
      "    *   \"On s\\'fait la guerre sans même encore et encore sans même vouloir la gagner C\\'est chacun son tour qui est ce qui se prendra la première balle du barillet\" (Amour Toxic)\n",
      "    *   \"J'te dis que j'ai fait du sale à je n'sais combien de femmes Et j'ai peur que tu deviennes mon retour de flamme\" (Jaloux Remix)\n",
      "\n",
      "2.  **Difficulté à Exprimer ses Sentiments et Fierté :**\n",
      "    *   Le thème de la difficulté à exprimer ses émotions et de la fierté qui empêche de montrer ses vrais sentiments revient souvent.\n",
      "    *   \"Est-ce que tu sauras lire dans mes pensées? Ah, c'est ma façon de t'aimer Mon cur est censuré par la fierté\" (Ma Fierté)\n",
      "    *   \"Ma langue est bien trop lourde pour dire que je voulais que tu reviennes dans ma vie\" (Perdu)\n",
      "    *   \"J'ai loupé quelques restau', j'irai t'acheter le restau' (Ah, oui) J'sors pas pour faire le beau, l'avenir appartient à ceux qui misent gros\" (La guitare suit la mélo)\n",
      "\n",
      "3.  **Difficultés et Succès :**\n",
      "    *   Les paroles évoquent souvent le parcours difficile vers le succès, les luttes passées et la reconnaissance de la chance et du travail acharné.\n",
      "    *   \"J\\'étais pauvre avant d\\'être riche, j\\'connais la diff\\', diff\\', diff\\' Main dans la che-po, crois pas que j\\'oublie, rends-moi mon biff, biff, biff\" (Piqûre de rappel)\n",
      "    *   \"J\\'ai fait du bénéf\\' qu\\'on va investir en Afrique J\\'sais c\\'que c\\'est d\\'avoir la dalle, aujourd\\'hui, j\\'dis: \\\"Dieu merci\\\"\" (Dieu Merci)\n",
      "    *   \"Depuis qu\\'les comptes se sont rempli On est beaucoup moins sur les photos (Eh) Tu est la seule qui est restée, oh\" (Le contrat)\n",
      "\n",
      "4.  **L'Importance de la Famille et des Relations Durables :**\n",
      "    *   Malgré les thèmes de l'infidélité et des relations compliquées, l'importance de la famille et des relations durables est soulignée.\n",
      "    *   \"Tu as l'amour de l'Afrique, ma maman t'aimera pour ça\" (Cette Femme)\n",
      "    *   \"Elle mettra toujours la famille d'abord Elle va tout assumer Le genre de femme qui à chaque problème s'en sort Elle va tout assumer\" (Lionne)\n",
      "    *   \"Aujourd'hui je suis fatigué, je t'ai regardé dormir Et si ma voix peut t'apaiser Je chanterai pour toi toute la nuit\" (Reine)\n",
      "\n",
      "5.  **Regret et Rédemption :**\n",
      "    *   Certaines chansons expriment des regrets pour les erreurs passées et un désir de rédemption et de seconde chance.\n",
      "    *   \"Et c'est de ma faute à moi, mais je ne peux pas le laisser tomber (je dois tout assumer) Et c'est de ma faute à moi, mais je ne veux pas te laisser tomber (c’est toi que j’aime mon bébé)\" (Ma Faute)\n",
      "    *   \"J'ai trop joué avec les cœurs de toutes celles que j'appelle mi amor J'suis tombé sur plus d'une âme sœur mais je cherche encore, je cherche encore Et tout au fond de moi j'ai peur de finir seul avec mes remords\" (Le Mâle Honnête)\n",
      "    *   \"J'ai suivi mon cur une fois, c'est mort, j'me suis désabonné Elle aime les hommes avec son boule Elle n'hésite pas à le donner Elle me dégoûte, les négros la tapent tous les jours\" (La roue tourne)\n"
     ]
    },
    {
     "data": {
      "text/plain": [
       "<IPython.core.display.Markdown object>"
      ]
     },
     "execution_count": 395,
     "metadata": {},
     "output_type": "execute_result"
    }
   ],
   "source": [
    "Markdown(step[\"messages\"][-1].pretty_print())"
   ]
  }
 ],
 "metadata": {
  "kernelspec": {
   "display_name": "wagon-bootcamp-project",
   "language": "python",
   "name": "python3"
  },
  "language_info": {
   "codemirror_mode": {
    "name": "ipython",
    "version": 3
   },
   "file_extension": ".py",
   "mimetype": "text/x-python",
   "name": "python",
   "nbconvert_exporter": "python",
   "pygments_lexer": "ipython3",
   "version": "3.10.6"
  }
 },
 "nbformat": 4,
 "nbformat_minor": 5
}
