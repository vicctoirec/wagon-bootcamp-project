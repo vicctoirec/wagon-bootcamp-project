{
 "cells": [
  {
   "cell_type": "code",
   "execution_count": 1,
   "id": "2b2dbde5",
   "metadata": {},
   "outputs": [],
   "source": [
    "import pandas as pd"
   ]
  },
  {
   "cell_type": "code",
   "execution_count": 2,
   "id": "abbf498a",
   "metadata": {},
   "outputs": [],
   "source": [
    "%load_ext autoreload\n",
    "%autoreload 2"
   ]
  },
  {
   "cell_type": "code",
   "execution_count": 3,
   "id": "ddb67246",
   "metadata": {},
   "outputs": [
    {
     "data": {
      "text/plain": [
       "True"
      ]
     },
     "execution_count": 3,
     "metadata": {},
     "output_type": "execute_result"
    }
   ],
   "source": [
    "# Reload dotenv in notebook\n",
    "from dotenv import load_dotenv\n",
    "dot_env_loaded = load_dotenv()\n",
    "dot_env_loaded"
   ]
  },
  {
   "cell_type": "markdown",
   "id": "3dd5960c",
   "metadata": {},
   "source": [
    "# 1. Import data"
   ]
  },
  {
   "cell_type": "code",
   "execution_count": 4,
   "id": "7745a00e",
   "metadata": {},
   "outputs": [],
   "source": [
    "lyrics_df = pd.read_csv('../raw_data/20250609_17k_lyrics_eng_fr.csv')\n",
    "lyrics_df.drop(columns='Unnamed: 0', inplace=True)"
   ]
  },
  {
   "cell_type": "code",
   "execution_count": 5,
   "id": "39856a05",
   "metadata": {},
   "outputs": [],
   "source": [
    "lyrics = lyrics_df['lyrics_clean'].iloc[6]"
   ]
  },
  {
   "cell_type": "markdown",
   "id": "327d8ad4",
   "metadata": {},
   "source": [
    "# 2. Play around with models"
   ]
  },
  {
   "cell_type": "code",
   "execution_count": 6,
   "id": "25b6646d",
   "metadata": {},
   "outputs": [
    {
     "name": "stderr",
     "output_type": "stream",
     "text": [
      "/Users/victoirecarrasco/.pyenv/versions/3.10.6/envs/wagon-bootcamp-project/lib/python3.10/site-packages/tqdm/auto.py:21: TqdmWarning: IProgress not found. Please update jupyter and ipywidgets. See https://ipywidgets.readthedocs.io/en/stable/user_install.html\n",
      "  from .autonotebook import tqdm as notebook_tqdm\n"
     ]
    }
   ],
   "source": [
    "from transformers import pipeline\n",
    "\n",
    "lyrics = \"\"\"\n",
    "You can dance, you can jive, having the time of your life\n",
    "See that girl, watch that scene, diggin' the Dancing Queen\n",
    "Friday night and the lights are low\n",
    "Looking out for the place to go\n",
    "Where they play the right music, getting in the swing\n",
    "You come in to look for a king\n",
    "Anybody could be that guy\n",
    "Night is young and the music's high\n",
    "With a bit of rock music, everything is fine\n",
    "You're in the mood for a dance\n",
    "And when you get the chance\n",
    "You are the Dancing Queen, young and sweet, only seventeen\n",
    "Dancing Queen, feel the beat from the tambourine\n",
    "You can dance, you can jive, having the time of your life\n",
    "See that girl, watch that scene, diggin' the Dancing Queen\n",
    "You're a teaser, you turn 'em on\n",
    "Leave them burning and then you're gone\n",
    "Looking out for another, anyone will do\n",
    "You're in the mood for a dance\n",
    "And when you get the chance\n",
    "You are the Dancing Queen, young and sweet, only seventeen\n",
    "Dancing Queen, feel the beat from the tambourine\n",
    "You can dance, you can jive, having the time of your life\n",
    "See that girl, watch that scene, diggin' the Dancing Queen\n",
    "\"\"\""
   ]
  },
  {
   "cell_type": "code",
   "execution_count": 7,
   "id": "b7b0b4a7",
   "metadata": {},
   "outputs": [
    {
     "name": "stdout",
     "output_type": "stream",
     "text": [
      "BART summary:\n",
      " Friday night and the lights are low. Look out for the place to go where they play the right music, getting in the swing. You come in to look for a king. You're a teaser, you turn 'em on. Leave them burning and then you're gone. Anyone could be that guy.\n"
     ]
    }
   ],
   "source": [
    "# Load summarization pipelines\n",
    "bart = pipeline(\"summarization\", model=\"facebook/bart-large-cnn\")\n",
    "\n",
    "# Generate summaries (max_length controls roughly summary size)\n",
    "bart_summary = bart(lyrics, max_length=100, min_length=60, do_sample=True)[0]['summary_text']\n",
    "\n",
    "print(\"BART summary:\\n\", bart_summary)\n"
   ]
  },
  {
   "cell_type": "code",
   "execution_count": 8,
   "id": "ce60ea68",
   "metadata": {},
   "outputs": [
    {
     "name": "stdout",
     "output_type": "stream",
     "text": [
      "\n",
      "T5 summary:\n",
      " only seventeen Dancing Queen, you turn 'em on Leave them burning and then you're gone Looking out for another, anyone will do You can dance, you can jive, having the time of your life See that girl, watch that scene, diggin' the Dancing queen Friday night and the lights are low You're in the mood for a dance And when you get the chance You are the dancing queen, young and sweet, only seventeen da\n"
     ]
    }
   ],
   "source": [
    "# Load summarization pipelines\n",
    "t5 = pipeline(\"summarization\", model=\"t5-base\")\n",
    "\n",
    "# Generate summaries (max_length controls roughly summary size)\n",
    "t5_summary = t5(lyrics, max_length=100, min_length=60, do_sample=True)[0]['summary_text']\n",
    "\n",
    "print(\"\\nT5 summary:\\n\", t5_summary)"
   ]
  },
  {
   "cell_type": "code",
   "execution_count": 9,
   "id": "cffdcf08",
   "metadata": {},
   "outputs": [
    {
     "name": "stderr",
     "output_type": "stream",
     "text": [
      "Some weights of PegasusForConditionalGeneration were not initialized from the model checkpoint at google/pegasus-xsum and are newly initialized: ['model.decoder.embed_positions.weight', 'model.encoder.embed_positions.weight']\n",
      "You should probably TRAIN this model on a down-stream task to be able to use it for predictions and inference.\n"
     ]
    },
    {
     "name": "stdout",
     "output_type": "stream",
     "text": [
      "\n",
      "Pegasus summary:\n",
      " You're a teaser, you turn 'em on Leave them burning and then you're gone Looking out for another, anyone will do You're in the mood for a dance And when you get the chance You are the Dancing Queen, young and sweet, only seventeen Dancing Queen, feel the beat from the tambourine\n"
     ]
    }
   ],
   "source": [
    "# Load summarization pipelines\n",
    "pegasus = pipeline(\"summarization\", model=\"google/pegasus-xsum\")\n",
    "\n",
    "# Generate summaries (max_length controls roughly summary size)\n",
    "pegasus_summary = pegasus(lyrics, max_length=100, min_length=60, do_sample=True)[0]['summary_text']\n",
    "\n",
    "print(\"\\nPegasus summary:\\n\", pegasus_summary)\n"
   ]
  },
  {
   "cell_type": "markdown",
   "id": "a1645056",
   "metadata": {},
   "source": [
    "# 3. Refine best model - Bart"
   ]
  },
  {
   "cell_type": "code",
   "execution_count": 28,
   "id": "0139914f",
   "metadata": {},
   "outputs": [
    {
     "name": "stdout",
     "output_type": "stream",
     "text": [
      "BART summary with temperature and sampling:\n",
      " Friday night and the lights are low\n"
     ]
    }
   ],
   "source": [
    "bart_summarizer = pipeline(\"summarization\", model=\"facebook/bart-large-cnn\")\n",
    "\n",
    "summary = bart_summarizer(\n",
    "    lyrics,\n",
    "    max_length=10,\n",
    "    min_length=3,\n",
    "    do_sample=True)[0]['summary_text']\n",
    "\n",
    "print(\"BART summary with temperature and sampling:\\n\", summary)"
   ]
  },
  {
   "cell_type": "markdown",
   "id": "07a7643f",
   "metadata": {},
   "source": [
    "# 4. Test on FR"
   ]
  },
  {
   "cell_type": "code",
   "execution_count": 11,
   "id": "f7461775",
   "metadata": {},
   "outputs": [
    {
     "data": {
      "text/html": [
       "<div>\n",
       "<style scoped>\n",
       "    .dataframe tbody tr th:only-of-type {\n",
       "        vertical-align: middle;\n",
       "    }\n",
       "\n",
       "    .dataframe tbody tr th {\n",
       "        vertical-align: top;\n",
       "    }\n",
       "\n",
       "    .dataframe thead th {\n",
       "        text-align: right;\n",
       "    }\n",
       "</style>\n",
       "<table border=\"1\" class=\"dataframe\">\n",
       "  <thead>\n",
       "    <tr style=\"text-align: right;\">\n",
       "      <th></th>\n",
       "      <th>artist</th>\n",
       "      <th>track_title_clean</th>\n",
       "      <th>lyrics_clean</th>\n",
       "      <th>artist_lower</th>\n",
       "      <th>track_title_clean_lower</th>\n",
       "    </tr>\n",
       "  </thead>\n",
       "  <tbody>\n",
       "    <tr>\n",
       "      <th>17146</th>\n",
       "      <td>Charles Aznavour</td>\n",
       "      <td>La bohème</td>\n",
       "      <td>Je vous parle d'un temps, Que les moins de vin...</td>\n",
       "      <td>charles aznavour</td>\n",
       "      <td>la bohème</td>\n",
       "    </tr>\n",
       "    <tr>\n",
       "      <th>17147</th>\n",
       "      <td>Charles Aznavour</td>\n",
       "      <td>Hier encore</td>\n",
       "      <td>Hier encore, J'avais vingt ans, Je carressais ...</td>\n",
       "      <td>charles aznavour</td>\n",
       "      <td>hier encore</td>\n",
       "    </tr>\n",
       "    <tr>\n",
       "      <th>17148</th>\n",
       "      <td>Charles Aznavour</td>\n",
       "      <td>Emmenez-moi</td>\n",
       "      <td>Vers les docks où le poids et l'ennui Me courb...</td>\n",
       "      <td>charles aznavour</td>\n",
       "      <td>emmenez-moi</td>\n",
       "    </tr>\n",
       "    <tr>\n",
       "      <th>17149</th>\n",
       "      <td>Charles Aznavour</td>\n",
       "      <td>For Me... Formidable</td>\n",
       "      <td>You are the one For me for me for me Formidabl...</td>\n",
       "      <td>charles aznavour</td>\n",
       "      <td>for me... formidable</td>\n",
       "    </tr>\n",
       "    <tr>\n",
       "      <th>17150</th>\n",
       "      <td>Charles Aznavour</td>\n",
       "      <td>Comme ils disent</td>\n",
       "      <td>J'habite seul avec maman Dans un très vieil ap...</td>\n",
       "      <td>charles aznavour</td>\n",
       "      <td>comme ils disent</td>\n",
       "    </tr>\n",
       "    <tr>\n",
       "      <th>17151</th>\n",
       "      <td>Charles Aznavour</td>\n",
       "      <td>Que c'est triste Venise</td>\n",
       "      <td>Que c'est triste Venise, Au temps des amours m...</td>\n",
       "      <td>charles aznavour</td>\n",
       "      <td>que c'est triste venise</td>\n",
       "    </tr>\n",
       "    <tr>\n",
       "      <th>17152</th>\n",
       "      <td>Charles Aznavour</td>\n",
       "      <td>Je m'voyais déjà</td>\n",
       "      <td>À dix-huit ans j'ai quitté ma province Bien dé...</td>\n",
       "      <td>charles aznavour</td>\n",
       "      <td>je m'voyais déjà</td>\n",
       "    </tr>\n",
       "    <tr>\n",
       "      <th>17153</th>\n",
       "      <td>Charles Aznavour</td>\n",
       "      <td>Je t'attends</td>\n",
       "      <td>Mes jours passent, mes nuits pleurent Et pleur...</td>\n",
       "      <td>charles aznavour</td>\n",
       "      <td>je t'attends</td>\n",
       "    </tr>\n",
       "  </tbody>\n",
       "</table>\n",
       "</div>"
      ],
      "text/plain": [
       "                 artist        track_title_clean  \\\n",
       "17146  Charles Aznavour                La bohème   \n",
       "17147  Charles Aznavour              Hier encore   \n",
       "17148  Charles Aznavour              Emmenez-moi   \n",
       "17149  Charles Aznavour     For Me... Formidable   \n",
       "17150  Charles Aznavour         Comme ils disent   \n",
       "17151  Charles Aznavour  Que c'est triste Venise   \n",
       "17152  Charles Aznavour         Je m'voyais déjà   \n",
       "17153  Charles Aznavour             Je t'attends   \n",
       "\n",
       "                                            lyrics_clean      artist_lower  \\\n",
       "17146  Je vous parle d'un temps, Que les moins de vin...  charles aznavour   \n",
       "17147  Hier encore, J'avais vingt ans, Je carressais ...  charles aznavour   \n",
       "17148  Vers les docks où le poids et l'ennui Me courb...  charles aznavour   \n",
       "17149  You are the one For me for me for me Formidabl...  charles aznavour   \n",
       "17150  J'habite seul avec maman Dans un très vieil ap...  charles aznavour   \n",
       "17151  Que c'est triste Venise, Au temps des amours m...  charles aznavour   \n",
       "17152  À dix-huit ans j'ai quitté ma province Bien dé...  charles aznavour   \n",
       "17153  Mes jours passent, mes nuits pleurent Et pleur...  charles aznavour   \n",
       "\n",
       "       track_title_clean_lower  \n",
       "17146                la bohème  \n",
       "17147              hier encore  \n",
       "17148              emmenez-moi  \n",
       "17149     for me... formidable  \n",
       "17150         comme ils disent  \n",
       "17151  que c'est triste venise  \n",
       "17152         je m'voyais déjà  \n",
       "17153             je t'attends  "
      ]
     },
     "execution_count": 11,
     "metadata": {},
     "output_type": "execute_result"
    }
   ],
   "source": [
    "lyrics_df[lyrics_df['artist'] == 'Charles Aznavour']"
   ]
  },
  {
   "cell_type": "code",
   "execution_count": 12,
   "id": "bc5306e8",
   "metadata": {},
   "outputs": [
    {
     "data": {
      "text/plain": [
       "\"Je vous parle d'un temps, Que les moins de vingt ans, Ne peuvent pas connaître, Montmartre en ce temps là, Accrochait ses lilas, Jusque sous nos fenêtres, Et si l'humble garni, Qui nous servait de nid, Ne payait pas de mine, C'est là qu'on s'est connu, Moi qui criait famine et toi, Qui posait nue, La Bohème, la Bohème, Ca voulait dire, on est heureux, La Bohème, la Bohème, Nous ne mangions, Qu'un jour sur deux. Dans les cafés voisins, Nous étions quelques uns, Qui attendions la gloire, Et bien que miséreux, Avec le ventre creux, Nous ne cessions d'y croire, Et quand quelques bistrots, Contre un bon repas chaud, Nous prenaient une toile, Nous récitions des vers, Grouppés autour du poêle, En oubliant l'hiver. La Bohème, la Bohème, Ca voulait dire, Tu es jolie, La Bohème, la Bohème, Et nous avions tous du génie. Souvent il m'arrivait, Devant mon chevalet, De passer des nuits blanches, Retouchant le dessin, De la ligne d'un sein, Du galbe d'une hanche, Et ce n'est qu'au matin, Qu'on s'asseyait enfin, Devant un café crème, Epuisés, mais ravis, Faut-il bien que l'on s'aime, Et que l'on aime la vie. La Bohème, la Bohème, Ca voulait dire, on a vingt ans, La Bohème, la Bohème, Et nous vivions de l'air du temps. Quant au hasard des jours, Je m'en vais faire un tour, A mon ancienne adresse, Je ne reconnais plus, Ni les murs, ni les rues, Qu'y ont vus ma jeunesse, En haut d'un escalier, Je cherche l'atelier dont plus rien ne subsiste, Dans son nouveau décor, Momtmartre semble triste, Et les lilas sont morts. La Bohème, la Bohème, On était jeunes, On était fous, La Bohème, la Bohème, Ca ne veut plus rien dire du tout.\""
      ]
     },
     "execution_count": 12,
     "metadata": {},
     "output_type": "execute_result"
    }
   ],
   "source": [
    "french_lyrics = lyrics_df['lyrics_clean'].iloc[17146]\n",
    "french_lyrics"
   ]
  },
  {
   "cell_type": "code",
   "execution_count": 22,
   "id": "344c1acb",
   "metadata": {},
   "outputs": [],
   "source": [
    "from transformers import pipeline\n",
    "\n",
    "# Initialize the translation pipeline\n",
    "pipe = pipeline(\"translation\", model=\"Helsinki-NLP/opus-mt-fr-en\", max_length=500)"
   ]
  },
  {
   "cell_type": "code",
   "execution_count": 23,
   "id": "b7daab9f",
   "metadata": {},
   "outputs": [
    {
     "name": "stderr",
     "output_type": "stream",
     "text": [
      "Your input_length: 495 is bigger than 0.9 * max_length: 500. You might consider increasing your max_length manually, e.g. translator('...', max_length=400)\n"
     ]
    },
    {
     "name": "stdout",
     "output_type": "stream",
     "text": [
      "I tell you about a time, that the under twenty years old, can not know, Montmartre at that time, Accrochae his lilacs, Up under our windows, And if the humble garnished, Who served us as a nest, Do not pay a mine, This is where we knew each other, I who cried famine and you, Who posed naked, The Bohemian, the Bohemian, That meant, we are happy, The Bohemian, the Bohemian, We did not eat, Only one day in two. In the cafes neighbors, We were some, Who waited for the glory, And though miserous, With the hollow belly, We do not ced to believe in it, And when some bistros, Against a good hot meal, We took a canvas, We recited worms, Grouped around the stove, By forgetting the winter. The Bohemian, the Bohemian, It meant, You are pretty, The Bohemian, the Bohemian, And when some bistrots, From a good meal, We did all the same, We did the Bohian, We did the same the same, The Bohian, I did the same, I, I did the same, I, I, I, I, I, I, I, I, I, I, I, I, I, I, I, I, I, I, I, I, I, I, I, I, I, I, I, I, I, I, I, I, I, I, I, I, I, I, I, I, I, I, I, I, I, I, I, I, I, I, I, I, I, I, I, I, I, I, I, I, I, I, I, I, I, I, I, I, I, I, I, I, I, I, I, I, I, I, I, I, I, I, I, I, I, I, I, I, I, I, I, I, I, I, I, I, I, I, I, I, I, I, I, I, I, I, I, I, I, I, I, I, I, I, I, I\n"
     ]
    }
   ],
   "source": [
    "# Translate French text to English\n",
    "result = pipe(french_lyrics)  # \"Hello everyone\"\n",
    "\n",
    "print(result[0]['translation_text'])"
   ]
  },
  {
   "cell_type": "markdown",
   "id": "71185e4f",
   "metadata": {},
   "source": [
    "# 5. Detect language"
   ]
  },
  {
   "cell_type": "code",
   "execution_count": null,
   "id": "0664cc15",
   "metadata": {},
   "outputs": [],
   "source": [
    "from langdetect import detect, DetectorFactory\n",
    "import pandas as pd\n",
    "\n",
    "# Fix seed for consistent results from langdetect\n",
    "DetectorFactory.seed = 0\n",
    "\n",
    "def detect_language(df, text_column='lyrics_clean'):\n",
    "    \"\"\"\n",
    "    Detect language of text in the specified column of a DataFrame\n",
    "    and add a new 'language' column with detected language codes ('fr', 'en', etc.).\n",
    "\n",
    "    Parameters:\n",
    "        df (pd.DataFrame): Input DataFrame containing the lyrics.\n",
    "        text_column (str): Name of the column containing text to detect language.\n",
    "\n",
    "    Returns:\n",
    "        pd.DataFrame: DataFrame with added 'language' column.\n",
    "    \"\"\"\n",
    "    def safe_detect(text):\n",
    "        try:\n",
    "            return detect(text)\n",
    "        except:\n",
    "            return 'unknown'  # In case of empty or problematic text\n",
    "\n",
    "    df['language'] = df[text_column].apply(safe_detect)\n",
    "    return df"
   ]
  },
  {
   "cell_type": "code",
   "execution_count": 36,
   "id": "42be4571",
   "metadata": {},
   "outputs": [
    {
     "data": {
      "text/html": [
       "<div>\n",
       "<style scoped>\n",
       "    .dataframe tbody tr th:only-of-type {\n",
       "        vertical-align: middle;\n",
       "    }\n",
       "\n",
       "    .dataframe tbody tr th {\n",
       "        vertical-align: top;\n",
       "    }\n",
       "\n",
       "    .dataframe thead th {\n",
       "        text-align: right;\n",
       "    }\n",
       "</style>\n",
       "<table border=\"1\" class=\"dataframe\">\n",
       "  <thead>\n",
       "    <tr style=\"text-align: right;\">\n",
       "      <th></th>\n",
       "      <th>artist</th>\n",
       "      <th>track_title_clean</th>\n",
       "      <th>lyrics_clean</th>\n",
       "      <th>artist_lower</th>\n",
       "      <th>track_title_clean_lower</th>\n",
       "    </tr>\n",
       "  </thead>\n",
       "  <tbody>\n",
       "    <tr>\n",
       "      <th>0</th>\n",
       "      <td>ABBA</td>\n",
       "      <td>Andante, Andante</td>\n",
       "      <td>Take it easy with me, please Touch me gently l...</td>\n",
       "      <td>abba</td>\n",
       "      <td>andante, andante</td>\n",
       "    </tr>\n",
       "    <tr>\n",
       "      <th>1</th>\n",
       "      <td>ABBA</td>\n",
       "      <td>As Good As New</td>\n",
       "      <td>I'll never know why I had to go Why I had to p...</td>\n",
       "      <td>abba</td>\n",
       "      <td>as good as new</td>\n",
       "    </tr>\n",
       "    <tr>\n",
       "      <th>2</th>\n",
       "      <td>ABBA</td>\n",
       "      <td>Bang-A-Boomerang</td>\n",
       "      <td>Making somebody happy is a question of give an...</td>\n",
       "      <td>abba</td>\n",
       "      <td>bang-a-boomerang</td>\n",
       "    </tr>\n",
       "    <tr>\n",
       "      <th>3</th>\n",
       "      <td>ABBA</td>\n",
       "      <td>Cassandra</td>\n",
       "      <td>Down in the street they're all singing and sho...</td>\n",
       "      <td>abba</td>\n",
       "      <td>cassandra</td>\n",
       "    </tr>\n",
       "    <tr>\n",
       "      <th>4</th>\n",
       "      <td>ABBA</td>\n",
       "      <td>Chiquitita</td>\n",
       "      <td>Chiquitita, tell me what's wrong You're enchai...</td>\n",
       "      <td>abba</td>\n",
       "      <td>chiquitita</td>\n",
       "    </tr>\n",
       "  </tbody>\n",
       "</table>\n",
       "</div>"
      ],
      "text/plain": [
       "  artist track_title_clean                                       lyrics_clean  \\\n",
       "0   ABBA  Andante, Andante  Take it easy with me, please Touch me gently l...   \n",
       "1   ABBA    As Good As New  I'll never know why I had to go Why I had to p...   \n",
       "2   ABBA  Bang-A-Boomerang  Making somebody happy is a question of give an...   \n",
       "3   ABBA         Cassandra  Down in the street they're all singing and sho...   \n",
       "4   ABBA        Chiquitita  Chiquitita, tell me what's wrong You're enchai...   \n",
       "\n",
       "  artist_lower track_title_clean_lower  \n",
       "0         abba        andante, andante  \n",
       "1         abba          as good as new  \n",
       "2         abba        bang-a-boomerang  \n",
       "3         abba               cassandra  \n",
       "4         abba              chiquitita  "
      ]
     },
     "execution_count": 36,
     "metadata": {},
     "output_type": "execute_result"
    }
   ],
   "source": [
    "lyrics_df.head()"
   ]
  },
  {
   "cell_type": "code",
   "execution_count": 38,
   "id": "3106a29e",
   "metadata": {},
   "outputs": [
    {
     "data": {
      "text/html": [
       "<div>\n",
       "<style scoped>\n",
       "    .dataframe tbody tr th:only-of-type {\n",
       "        vertical-align: middle;\n",
       "    }\n",
       "\n",
       "    .dataframe tbody tr th {\n",
       "        vertical-align: top;\n",
       "    }\n",
       "\n",
       "    .dataframe thead th {\n",
       "        text-align: right;\n",
       "    }\n",
       "</style>\n",
       "<table border=\"1\" class=\"dataframe\">\n",
       "  <thead>\n",
       "    <tr style=\"text-align: right;\">\n",
       "      <th></th>\n",
       "      <th>artist</th>\n",
       "      <th>track_title_clean</th>\n",
       "      <th>lyrics_clean</th>\n",
       "      <th>artist_lower</th>\n",
       "      <th>track_title_clean_lower</th>\n",
       "      <th>language</th>\n",
       "    </tr>\n",
       "  </thead>\n",
       "  <tbody>\n",
       "    <tr>\n",
       "      <th>0</th>\n",
       "      <td>ABBA</td>\n",
       "      <td>Andante, Andante</td>\n",
       "      <td>Take it easy with me, please Touch me gently l...</td>\n",
       "      <td>abba</td>\n",
       "      <td>andante, andante</td>\n",
       "      <td>en</td>\n",
       "    </tr>\n",
       "    <tr>\n",
       "      <th>1</th>\n",
       "      <td>ABBA</td>\n",
       "      <td>As Good As New</td>\n",
       "      <td>I'll never know why I had to go Why I had to p...</td>\n",
       "      <td>abba</td>\n",
       "      <td>as good as new</td>\n",
       "      <td>en</td>\n",
       "    </tr>\n",
       "    <tr>\n",
       "      <th>2</th>\n",
       "      <td>ABBA</td>\n",
       "      <td>Bang-A-Boomerang</td>\n",
       "      <td>Making somebody happy is a question of give an...</td>\n",
       "      <td>abba</td>\n",
       "      <td>bang-a-boomerang</td>\n",
       "      <td>en</td>\n",
       "    </tr>\n",
       "    <tr>\n",
       "      <th>3</th>\n",
       "      <td>ABBA</td>\n",
       "      <td>Cassandra</td>\n",
       "      <td>Down in the street they're all singing and sho...</td>\n",
       "      <td>abba</td>\n",
       "      <td>cassandra</td>\n",
       "      <td>en</td>\n",
       "    </tr>\n",
       "    <tr>\n",
       "      <th>4</th>\n",
       "      <td>ABBA</td>\n",
       "      <td>Chiquitita</td>\n",
       "      <td>Chiquitita, tell me what's wrong You're enchai...</td>\n",
       "      <td>abba</td>\n",
       "      <td>chiquitita</td>\n",
       "      <td>en</td>\n",
       "    </tr>\n",
       "    <tr>\n",
       "      <th>...</th>\n",
       "      <td>...</td>\n",
       "      <td>...</td>\n",
       "      <td>...</td>\n",
       "      <td>...</td>\n",
       "      <td>...</td>\n",
       "      <td>...</td>\n",
       "    </tr>\n",
       "    <tr>\n",
       "      <th>17299</th>\n",
       "      <td>Therapie Taxi</td>\n",
       "      <td>Candide Crush</td>\n",
       "      <td>Je suis si sage-sage d'habitude, mon chéri Com...</td>\n",
       "      <td>therapie taxi</td>\n",
       "      <td>candide crush</td>\n",
       "      <td>fr</td>\n",
       "    </tr>\n",
       "    <tr>\n",
       "      <th>17300</th>\n",
       "      <td>Therapie Taxi</td>\n",
       "      <td>J'en ai marre</td>\n",
       "      <td>Et j'en ai marre de toi Je sais c'est dur mais...</td>\n",
       "      <td>therapie taxi</td>\n",
       "      <td>j'en ai marre</td>\n",
       "      <td>fr</td>\n",
       "    </tr>\n",
       "    <tr>\n",
       "      <th>17301</th>\n",
       "      <td>Therapie Taxi</td>\n",
       "      <td>Avec ta zouz</td>\n",
       "      <td>N'aie pas le seum, fais-moi la bise Ce soir c'...</td>\n",
       "      <td>therapie taxi</td>\n",
       "      <td>avec ta zouz</td>\n",
       "      <td>fr</td>\n",
       "    </tr>\n",
       "    <tr>\n",
       "      <th>17302</th>\n",
       "      <td>Minuit</td>\n",
       "      <td>Flash</td>\n",
       "      <td>Lumière crue, lumière sans, flash! Étrange sen...</td>\n",
       "      <td>minuit</td>\n",
       "      <td>flash</td>\n",
       "      <td>fr</td>\n",
       "    </tr>\n",
       "    <tr>\n",
       "      <th>17303</th>\n",
       "      <td>Minuit</td>\n",
       "      <td>Le Goût du sel</td>\n",
       "      <td>Je rêve de toi toutes les nuits C'est un peu n...</td>\n",
       "      <td>minuit</td>\n",
       "      <td>le goût du sel</td>\n",
       "      <td>fr</td>\n",
       "    </tr>\n",
       "  </tbody>\n",
       "</table>\n",
       "<p>17304 rows × 6 columns</p>\n",
       "</div>"
      ],
      "text/plain": [
       "              artist track_title_clean  \\\n",
       "0               ABBA  Andante, Andante   \n",
       "1               ABBA    As Good As New   \n",
       "2               ABBA  Bang-A-Boomerang   \n",
       "3               ABBA         Cassandra   \n",
       "4               ABBA        Chiquitita   \n",
       "...              ...               ...   \n",
       "17299  Therapie Taxi     Candide Crush   \n",
       "17300  Therapie Taxi     J'en ai marre   \n",
       "17301  Therapie Taxi      Avec ta zouz   \n",
       "17302         Minuit             Flash   \n",
       "17303         Minuit    Le Goût du sel   \n",
       "\n",
       "                                            lyrics_clean   artist_lower  \\\n",
       "0      Take it easy with me, please Touch me gently l...           abba   \n",
       "1      I'll never know why I had to go Why I had to p...           abba   \n",
       "2      Making somebody happy is a question of give an...           abba   \n",
       "3      Down in the street they're all singing and sho...           abba   \n",
       "4      Chiquitita, tell me what's wrong You're enchai...           abba   \n",
       "...                                                  ...            ...   \n",
       "17299  Je suis si sage-sage d'habitude, mon chéri Com...  therapie taxi   \n",
       "17300  Et j'en ai marre de toi Je sais c'est dur mais...  therapie taxi   \n",
       "17301  N'aie pas le seum, fais-moi la bise Ce soir c'...  therapie taxi   \n",
       "17302  Lumière crue, lumière sans, flash! Étrange sen...         minuit   \n",
       "17303  Je rêve de toi toutes les nuits C'est un peu n...         minuit   \n",
       "\n",
       "      track_title_clean_lower language  \n",
       "0            andante, andante       en  \n",
       "1              as good as new       en  \n",
       "2            bang-a-boomerang       en  \n",
       "3                   cassandra       en  \n",
       "4                  chiquitita       en  \n",
       "...                       ...      ...  \n",
       "17299           candide crush       fr  \n",
       "17300           j'en ai marre       fr  \n",
       "17301            avec ta zouz       fr  \n",
       "17302                   flash       fr  \n",
       "17303          le goût du sel       fr  \n",
       "\n",
       "[17304 rows x 6 columns]"
      ]
     },
     "execution_count": 38,
     "metadata": {},
     "output_type": "execute_result"
    }
   ],
   "source": [
    "detect_language(lyrics_df)"
   ]
  },
  {
   "cell_type": "code",
   "execution_count": 51,
   "id": "e030d002",
   "metadata": {},
   "outputs": [
    {
     "data": {
      "text/plain": [
       "language\n",
       "en         57.449145\n",
       "fr         41.308368\n",
       "ro          0.496995\n",
       "es          0.242718\n",
       "it          0.138696\n",
       "ca          0.092464\n",
       "tl          0.046232\n",
       "id          0.040453\n",
       "nl          0.040453\n",
       "pt          0.028895\n",
       "sw          0.023116\n",
       "unknown     0.017337\n",
       "et          0.011558\n",
       "de          0.011558\n",
       "so          0.011558\n",
       "cy          0.011558\n",
       "af          0.011558\n",
       "bg          0.005779\n",
       "sl          0.005779\n",
       "da          0.005779\n",
       "Name: artist, dtype: float64"
      ]
     },
     "execution_count": 51,
     "metadata": {},
     "output_type": "execute_result"
    }
   ],
   "source": [
    "lyrics_df.groupby('language').count()['artist'].sort_values(ascending=False)*100/len(lyrics_df)"
   ]
  },
  {
   "cell_type": "code",
   "execution_count": 57,
   "id": "e0d7e100",
   "metadata": {},
   "outputs": [
    {
     "data": {
      "text/html": [
       "<div>\n",
       "<style scoped>\n",
       "    .dataframe tbody tr th:only-of-type {\n",
       "        vertical-align: middle;\n",
       "    }\n",
       "\n",
       "    .dataframe tbody tr th {\n",
       "        vertical-align: top;\n",
       "    }\n",
       "\n",
       "    .dataframe thead th {\n",
       "        text-align: right;\n",
       "    }\n",
       "</style>\n",
       "<table border=\"1\" class=\"dataframe\">\n",
       "  <thead>\n",
       "    <tr style=\"text-align: right;\">\n",
       "      <th></th>\n",
       "      <th>artist</th>\n",
       "      <th>track_title_clean</th>\n",
       "      <th>lyrics_clean</th>\n",
       "      <th>artist_lower</th>\n",
       "      <th>track_title_clean_lower</th>\n",
       "      <th>language</th>\n",
       "    </tr>\n",
       "  </thead>\n",
       "  <tbody>\n",
       "    <tr>\n",
       "      <th>10525</th>\n",
       "      <td>Hugues Aufray</td>\n",
       "      <td>Ja-Da</td>\n",
       "      <td>Hop! Ho! Jada (Jada) jada (Jada) jada jada jin...</td>\n",
       "      <td>hugues aufray</td>\n",
       "      <td>ja-da</td>\n",
       "      <td>sl</td>\n",
       "    </tr>\n",
       "  </tbody>\n",
       "</table>\n",
       "</div>"
      ],
      "text/plain": [
       "              artist track_title_clean  \\\n",
       "10525  Hugues Aufray             Ja-Da   \n",
       "\n",
       "                                            lyrics_clean   artist_lower  \\\n",
       "10525  Hop! Ho! Jada (Jada) jada (Jada) jada jada jin...  hugues aufray   \n",
       "\n",
       "      track_title_clean_lower language  \n",
       "10525                   ja-da       sl  "
      ]
     },
     "execution_count": 57,
     "metadata": {},
     "output_type": "execute_result"
    }
   ],
   "source": [
    "lyrics_df[lyrics_df.language == 'sl']"
   ]
  },
  {
   "cell_type": "markdown",
   "id": "5208df71",
   "metadata": {},
   "source": [
    "# 99. Lyric embedding"
   ]
  },
  {
   "cell_type": "code",
   "execution_count": null,
   "id": "da26d14c",
   "metadata": {},
   "outputs": [
    {
     "name": "stdout",
     "output_type": "stream",
     "text": [
      "Sentence embeddings:\n",
      "tensor([[ 0.0987,  0.0067,  0.0855,  0.0722, -0.3017,  0.0526,  0.1079, -0.1781,\n",
      "         -0.1205, -0.0810,  0.1493, -0.0775, -0.0405,  0.1038, -0.0239,  0.0541,\n",
      "         -0.0612,  0.2090,  0.0347, -0.0575, -0.0892,  0.0766, -0.0770, -0.2105,\n",
      "          0.0516, -0.0606,  0.0469, -0.1791, -0.1525, -0.1947,  0.1100,  0.1123,\n",
      "         -0.2183,  0.0280, -0.0283,  0.0258, -0.1947, -0.1529, -0.2569, -0.0696,\n",
      "          0.1022,  0.1029,  0.1547, -0.0765, -0.0602,  0.0637, -0.0264,  0.0090,\n",
      "          0.2063, -0.1180, -0.1545, -0.2151,  0.1095, -0.0984, -0.0811, -0.2056,\n",
      "         -0.0988,  0.0018,  0.1317,  0.0967, -0.1389, -0.0777,  0.0765, -0.0837,\n",
      "          0.1378, -0.1690,  0.0611, -0.0309, -0.0983,  0.1052, -0.0178, -0.0103,\n",
      "          0.1225,  0.0462,  0.0487,  0.0433,  0.0942, -0.0698,  0.1399,  0.0430,\n",
      "          0.0724, -0.0031,  0.1632,  0.1287,  0.1393, -0.1206,  0.0284, -0.1318,\n",
      "          0.0558,  0.0030,  0.3121, -0.0125, -0.0227, -0.1393,  0.1122,  0.2191,\n",
      "         -0.0200,  0.0743, -0.0042, -0.1869, -0.0265,  0.2294,  0.0422, -0.1713,\n",
      "         -0.1419, -0.1547,  0.1268,  0.3658, -0.0959, -0.0931, -0.1003, -0.0720,\n",
      "         -0.1455,  0.1028,  0.0879,  0.2397,  0.1486,  0.1507,  0.0077, -0.1576,\n",
      "          0.1431,  0.0475,  0.2177, -0.1807,  0.0387, -0.0831,  0.0663, -0.0097,\n",
      "         -0.2438, -0.0229, -0.0996,  0.1389,  0.0458, -0.1764,  0.0212,  0.0224,\n",
      "          0.0833,  0.2131,  0.1204,  0.1613,  0.3231, -0.1567,  0.0210, -0.1427,\n",
      "          0.0684,  0.1313,  0.0013,  0.0759,  0.0109, -0.2516,  0.0672,  0.1715,\n",
      "          0.1491, -0.1524, -0.0814,  0.2213, -0.1125, -0.0075,  0.1170,  0.1800,\n",
      "         -0.0496, -0.0619, -0.0728,  0.1648, -0.0241,  0.0032,  0.0423,  0.2136,\n",
      "         -0.0760,  0.0402, -0.0910, -0.1241,  0.0995,  0.0184, -0.0006, -0.0570,\n",
      "          0.0098, -0.0182,  0.1471,  0.1992,  0.0389,  0.2342, -0.2377, -0.0769,\n",
      "          0.1516, -0.0468,  0.0171, -0.0478,  0.1204,  0.0712, -0.0048,  0.0388,\n",
      "         -0.0827, -0.1125,  0.3117,  0.0502,  0.0965, -0.1874,  0.0922,  0.0337,\n",
      "         -0.1025,  0.0153, -0.0284,  0.0275,  0.0756, -0.3310, -0.2243, -0.1994,\n",
      "          0.0378, -0.0202, -0.0170,  0.0952, -0.0527,  0.1445,  0.0012,  0.0456,\n",
      "          0.1726, -0.2455,  0.1879,  0.0637,  0.1283,  0.0457, -0.1565, -0.1895,\n",
      "         -0.0223,  0.1387, -0.2381, -0.1686, -0.1778, -0.2056,  0.0421, -0.0963,\n",
      "          0.0958, -0.0368,  0.2063,  0.0152,  0.0953,  0.2021,  0.0937,  0.2632,\n",
      "          0.0112,  0.0484, -0.2292, -0.0116, -0.0921, -0.1155, -0.0030, -0.1820,\n",
      "         -0.1612,  0.2398, -0.0189,  0.3254, -0.1667,  0.0472, -0.1168, -0.1488,\n",
      "         -0.2089, -0.0317,  0.0726, -0.1223,  0.1257,  0.0289, -0.3334, -0.0082,\n",
      "         -0.0366, -0.0081, -0.0725,  0.0528, -0.1078, -0.0316, -0.0155,  0.4089,\n",
      "         -0.0238, -0.0243,  0.0334,  0.0247, -0.0838,  0.0652, -0.0739,  0.1265,\n",
      "         -0.0392,  0.0450, -0.0355, -0.0459,  0.0027,  0.0428,  0.0579, -0.0803,\n",
      "          0.0857,  0.1149, -0.2791,  0.0572,  0.0472, -0.0833, -0.0976, -0.0496,\n",
      "          0.1895, -0.1719, -0.1954, -0.0711]])\n"
     ]
    }
   ],
   "source": [
    "from transformers import AutoTokenizer, AutoModel\n",
    "import torch\n",
    "\n",
    "MODEL_NAME = 'brunokreiner/lyrics-bert'\n",
    "\n",
    "#Mean Pooling - Take attention mask into account for correct averaging\n",
    "def mean_pooling(model_output, attention_mask):\n",
    "    token_embeddings = model_output[0] #First element of model_output contains all token embeddings\n",
    "    input_mask_expanded = attention_mask.unsqueeze(-1).expand(token_embeddings.size()).float()\n",
    "    return torch.sum(token_embeddings * input_mask_expanded, 1) / torch.clamp(input_mask_expanded.sum(1), min=1e-9)\n",
    "\n",
    "\n",
    "# Sentences we want sentence embeddings for\n",
    "sentences = [lyrics]\n",
    "\n",
    "# Load model from HuggingFace Hub\n",
    "tokenizer = AutoTokenizer.from_pretrained(MODEL_NAME)\n",
    "model = AutoModel.from_pretrained(MODEL_NAME)\n",
    "\n",
    "# Tokenize sentences\n",
    "encoded_input = tokenizer(sentences, padding=True, truncation=True, return_tensors='pt')\n",
    "\n",
    "# Compute token embeddings\n",
    "with torch.no_grad():\n",
    "    model_output = model(**encoded_input)\n",
    "\n",
    "# Perform pooling. In this case, mean pooling.\n",
    "sentence_embeddings = mean_pooling(model_output, encoded_input['attention_mask'])\n",
    "\n",
    "print(\"Sentence embeddings:\")\n",
    "print(sentence_embeddings)"
   ]
  }
 ],
 "metadata": {
  "kernelspec": {
   "display_name": "wagon-bootcamp-project",
   "language": "python",
   "name": "python3"
  },
  "language_info": {
   "codemirror_mode": {
    "name": "ipython",
    "version": 3
   },
   "file_extension": ".py",
   "mimetype": "text/x-python",
   "name": "python",
   "nbconvert_exporter": "python",
   "pygments_lexer": "ipython3",
   "version": "3.10.6"
  }
 },
 "nbformat": 4,
 "nbformat_minor": 5
}
