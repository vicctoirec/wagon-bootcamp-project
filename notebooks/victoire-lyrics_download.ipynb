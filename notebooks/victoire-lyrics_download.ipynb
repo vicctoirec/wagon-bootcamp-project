{
 "cells": [],
 "metadata": {
  "kernelspec": {
   "display_name": "wagon-bootcamp-project",
   "language": "python",
   "name": "python3"
  },
  "language_info": {
   "name": "python",
   "version": "3.10.6"
  }
 },
 "nbformat": 4,
 "nbformat_minor": 5
}
